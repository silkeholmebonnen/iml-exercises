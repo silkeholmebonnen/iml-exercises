{
 "cells": [
  {
   "cell_type": "markdown",
   "id": "184H83CyfX7XNjCS9Utzk",
   "metadata": {},
   "source": [
    "# Clustering\n",
    "This exercise involves working with K-means clustering, _Mean-shift clustering_, and _Agglomerative clustering_ on the poses data used for the exercises in week 2\n",
    " and week 10\n",
    ". The task includes applying and experimenting with each method and then comparing their outcomes. The comparison will be conducted by clustering a sequence of human poses using these three methods in similar steps.\n",
    "The dataset tensor contains 1403 pose sequences. Each sequence is a 100-frames time series capturing human poses. Each pose consists of 25 skeletal joints, where each joint is defined by an x and y coordinate ($25*2$). The shape of the dataset tensor is $(1403, 100, 25*2)$. For this exercise, you will use a single pose sequence of 100 frames and apply clustering to the sequence.\n",
    "## Task overview\n",
    "For each clustering method you will:\n",
    "- Implement the method.\n",
    "- Plot the clusters in the sequence.\n",
    "- Plot the cluster centers.\n",
    "\n",
    "\n",
    "<article class=\"message\">\n",
    "    <div class=\"message-body\">\n",
    "        <strong>List of individual tasks</strong>\n",
    "        <ul style=\"list-style: none;\">\n",
    "            <li>\n",
    "            <a href=\"#loading00\">Task 1: Introduction</a>\n",
    "            </li>\n",
    "            <li>\n",
    "            <a href=\"#loading_files\">Task 2: Setting up the data</a>\n",
    "            </li>\n",
    "            <li>\n",
    "            <a href=\"#loading\">Task 3: Fitting the algorithm</a>\n",
    "            </li>\n",
    "            <li>\n",
    "            <a href=\"#loading2\">Task 4: K-means clustering visualization</a>\n",
    "            </li>\n",
    "            <li>\n",
    "            <a href=\"#loading02\">Task 5: Cluster characteristics</a>\n",
    "            </li>\n",
    "            <li>\n",
    "            <a href=\"#loading3\">Task 6: Elbow Method</a>\n",
    "            </li>\n",
    "            <li>\n",
    "            <a href=\"#loading4\">Task 7: Fitting the mean-shift algorithm</a>\n",
    "            </li>\n",
    "            <li>\n",
    "            <a href=\"#loading5\">Task 8: Visualizing clusters</a>\n",
    "            </li>\n",
    "            <li>\n",
    "            <a href=\"#loading9\">Task 9: Reflection and the bandwith parameter</a>\n",
    "            </li>\n",
    "            <li>\n",
    "            <a href=\"#loading10\">Task 10: Dendrograms</a>\n",
    "            </li>\n",
    "            <li>\n",
    "            <a href=\"#loading11\">Task 11: Fitting the agglomerative clustering alg…</a>\n",
    "            </li>\n",
    "            <li>\n",
    "            <a href=\"#loading12\">Task 12: Agglomerative clustreing algorithm mean …</a>\n",
    "            </li>\n",
    "            <li>\n",
    "            <a href=\"#loading13\">Task 13: Compare and reflect on the methods</a>\n",
    "            </li>\n",
    "        </ul>\n",
    "    </div>\n",
    "</article>\n",
    "\n",
    "\n",
    "---\n",
    "**Task 1 (easy): Introduction💡**\n",
    "This task is about understanding the data.\n",
    "1. Explain the benefits of applying a clustering method to a sequence of pose data.\n",
    "2. Identify possible pitfalls.\n",
    "\n",
    "\n",
    "---"
   ]
  },
  {
   "cell_type": "code",
   "execution_count": 0,
   "id": "dBc2eeOS91tl1pVJqeAWW",
   "metadata": {},
   "outputs": [],
   "source": [
    "# write reflections here"
   ]
  },
  {
   "cell_type": "markdown",
   "id": "HFY4SbYEM0MNUwY2OU2gX",
   "metadata": {},
   "source": [
    "The following cells import libraries and provide functions for plotting the poses:\n"
   ]
  },
  {
   "cell_type": "code",
   "execution_count": 0,
   "id": "aMY9qfsJIwtiHtfJ4k4FJ",
   "metadata": {},
   "outputs": [],
   "source": [
    "import numpy as np\n",
    "import matplotlib.pyplot as plt\n",
    "import warnings\n",
    "import seaborn as sns\n",
    "from sklearn.cluster import MeanShift\n",
    "from sklearn.cluster import KMeans\n",
    "from sklearn.cluster import AgglomerativeClustering\n",
    "from scipy.spatial.distance import pdist, squareform\n",
    "import scipy.cluster.hierarchy as shc\n",
    "from scipy.cluster.hierarchy import dendrogram, linkage\n",
    "from clustering_utils import *\n",
    "\n",
    "\n",
    "# Suppress the specific warning\n",
    "warnings.filterwarnings(\"ignore\")"
   ]
  },
  {
   "cell_type": "markdown",
   "id": "_t24pa7OtVLhw_enW4lon",
   "metadata": {},
   "source": [
    "\n",
    "---\n",
    "**Task 2 (easy): Setting up the data👩‍💻**\n",
    "1. Run the cell below to load and reshape the dataset, and extract a single pose sequence of 100 frames. \n",
    "2. Choose the 100th pose sequence as the dataset.\n",
    "\n",
    "\n",
    "---"
   ]
  },
  {
   "cell_type": "code",
   "execution_count": 0,
   "id": "ob379jSwGmrMPKummEJyu",
   "metadata": {},
   "outputs": [],
   "source": [
    "data = np.load('poses_norm.npy')\n",
    "N,T,D,C = data.shape\n",
    "reshaped_data = data.reshape(N,T,D*C)\n",
    "sequence = reshaped_data[191]\n",
    "print(sequence.shape)"
   ]
  },
  {
   "cell_type": "markdown",
   "id": "Zh5hWKEeQzStgWXoc8r6X",
   "metadata": {},
   "source": [
    "## K-means Clustering\n",
    "In this  exercise you will use k-means clustering on a pose sequence. \n",
    "\n",
    "---\n",
    "**Task 3 (easy): Fitting the algorithm👩‍💻**\n",
    "1. Run the cell below to create an instance of the `KMeans`\n",
    " class with 3 clusters and to find clusters in the sequence.\n",
    "\n",
    "\n",
    "---"
   ]
  },
  {
   "cell_type": "code",
   "execution_count": 0,
   "id": "KmH9V_NGLj_Vwf8awxom6",
   "metadata": {},
   "outputs": [],
   "source": [
    "# Specify the number of clusters (k)\n",
    "k = 3  \n",
    "\n",
    "# Create KMeans \n",
    "kmeans = KMeans(n_clusters=k, random_state=42)\n",
    "\n",
    "# Fit to the data\n",
    "kmeans.fit(sequence)"
   ]
  },
  {
   "cell_type": "markdown",
   "id": "3RiJ9dyJdfibK1d8HQZSl",
   "metadata": {},
   "source": [
    "\n",
    "---\n",
    "**Task 4 (easy): K-means clustering visualization👩‍💻**\n",
    "1. Use the [documentation on the `labels_`\n",
    " attribute.](https://scikit-learn.org/stable/modules/generated/sklearn.cluster.KMeans.html)\n",
    " to obtain cluster labels. \n",
    "2. Use the `plot_single_pose`\n",
    " function to color each pose in the pose sequence according to which cluster it belongs to. \n",
    "\n",
    "\n",
    "---"
   ]
  },
  {
   "cell_type": "code",
   "execution_count": 0,
   "id": "rstO6sRPE8_Sxin-gCPvj",
   "metadata": {},
   "outputs": [],
   "source": [
    "# Write your solution here\n",
    "\n",
    "# You can now use 'cluster_labels' to see which cluster each frame belongs to\n",
    "# 'centroids' contains the coordinates of the cluster centers\n",
    "\n",
    "colors = {0: 'red', 1: 'blue', 2: 'green', 3: \"orange\", 4: \"black\", 5: \"brown\", 6: \"yellow\", 7: \"cyan\"}  # Map cluster labels to colors\n",
    "plt.figure(figsize=(25,15))\n",
    "for i in range(len(sequence)):\n",
    "    plt.subplot(10, 10, i + 1)\n",
    "    plot_single_pose(sequence[i], c=colors[cluster_labels[i]], head=False)\n",
    "    plt.ylim(1, 0)\n",
    "    plt.xlim(-1, 1)"
   ]
  },
  {
   "cell_type": "markdown",
   "id": "J0Sp0aqz5Qk1QGyl1FEkv",
   "metadata": {},
   "source": [
    "\n",
    "---\n",
    "**Task 5 (easy): Cluster characteristics💡**\n",
    "1. Run the cell below to extract and plot the cluster centers.\n",
    "\n",
    "2. Visually inspect the results and identify the characteristics of the poses in each cluster: \n",
    "    - What distinguishes the clusters?\n",
    "    - What do the cluster centers represent?\n",
    "    - What do the clusters reveal about movements?\n",
    "\n",
    "\n",
    "3. Reason about the choice of 3 clusters and the effect on the result.\n",
    "\n",
    "4. Change the random state and fit the model again. Explain whether you obtain different groupings and why? \n",
    "\n",
    "\n",
    "\n",
    "---"
   ]
  },
  {
   "cell_type": "code",
   "execution_count": 0,
   "id": "nfb6RvgremFFi8XM4eYr8",
   "metadata": {},
   "outputs": [],
   "source": [
    "num_centroids = len(centroids)\n",
    "# Set up subplots\n",
    "fig, axes = plt.subplots(1, num_centroids, figsize=(num_centroids * 3, 3))\n",
    "\n",
    "# Assuming you have a function plot_single_pose defined\n",
    "for i in range(len(centroids)):\n",
    "    plt.subplot(1, len(centroids), i+1)\n",
    "    plt.title(f'Cluster center {i+1}')\n",
    "    plot_single_pose(centroids[i], c=colors[i], head=False)\n",
    "    plt.ylim(1, 0)\n",
    "    plt.xlim(-1, 1)\n",
    "\n",
    "plt.tight_layout()\n",
    "plt.show()\n",
    "\n",
    "\n",
    "# write your reflection here"
   ]
  },
  {
   "cell_type": "markdown",
   "id": "f79-YKhgv3E7elcIrtXt1",
   "metadata": {},
   "source": [
    "\n",
    "---\n",
    "**Task 6 (medium): Elbow Method👩‍💻💡**\n",
    "This task uses the Elbow Method to choose the number of clusters `k`\n",
    ". The cell below:\n",
    "- Applies k-means clustering to the sequence using each `k`\n",
    " in `k_range`\n",
    ".\n",
    "- Extracts the within-cluster sum of squares using [`kmeans.intertia_`\n",
    "](https://scikit-learn.org/1.5/modules/generated/sklearn.cluster.KMeans.html)\n",
    " and stores it in a list.\n",
    "- Plots the within-cluster sum of squares as a function of the number of clusters (elbow curve as displayed below) \n",
    "\n",
    "1. Visually determine the optimal number of clusters.\n",
    "\n",
    "2. Calculate the rate of change for the elbow curve and plot its absolute value. Use the curve to determine the optimal `k`\n",
    ".\n",
    "\n",
    "3. Revisit and run the previous tasks ([Task 3](#loading), [Task 4](#loading2) and [Task 5](#loading02) ) with the optimal number of clusters. \n",
    "\n",
    "4. How does the elbow method influence the results in the previous tasks?\n",
    "\n",
    "\n",
    "\n",
    "---"
   ]
  },
  {
   "cell_type": "code",
   "execution_count": 0,
   "id": "oLjnFjGu_e23yvKaOGUlD",
   "metadata": {},
   "outputs": [],
   "source": [
    "# Find the optimal k using the elbow method\n",
    "k_range = range(2, 30) # values for the number of clusters `k`\n",
    "inertia = []\n",
    "\n",
    "for k in k_range:\n",
    "    kmeans = KMeans(n_clusters=k, random_state=42)\n",
    "    kmeans.fit(sequence)\n",
    "    inertia.append(kmeans.inertia_)\n",
    "\n",
    "# Plot the elbow curve\n",
    "plt.figure(figsize=(10, 5))\n",
    "plt.plot(k_range, inertia, marker='o')\n",
    "plt.xlabel('Number of Clusters (k)')\n",
    "plt.ylabel('WCSS')\n",
    "plt.title('Elbow Method for Optimal k')\n",
    "plt.show()"
   ]
  },
  {
   "cell_type": "markdown",
   "id": "kaJ3DwDHXDZFvU7-irEAt",
   "metadata": {},
   "source": []
  },
  {
   "cell_type": "code",
   "execution_count": 0,
   "id": "ZQ5wUm5-pcRVTutFV3eFO",
   "metadata": {},
   "outputs": [],
   "source": [
    "# Write your reflections here..."
   ]
  },
  {
   "cell_type": "markdown",
   "id": "QYKWWBENJig0eLSUd7L3o",
   "metadata": {},
   "source": [
    "## Mean-shift Clustering\n",
    "This exercise is about applying mean-shift clustering to the sequence of human poses. \n",
    "\n",
    "---\n",
    "**Task 7 (easy): Fitting the mean-shift algorithm👩‍💻**\n",
    "1. Run the cell below to:    - create an instance of the `MeanShift()`\n",
    " class with a bandwith of 0.629 \n",
    "    - cluster the pose sequence.\n",
    "\n",
    "\n",
    "\n",
    "\n",
    "---"
   ]
  },
  {
   "cell_type": "code",
   "execution_count": 0,
   "id": "blMEW20wjeYjeLk9bYyo7",
   "metadata": {},
   "outputs": [],
   "source": [
    "# Perform Mean Shift clustering\n",
    "mean_shift = MeanShift(bandwidth=0.629)\n",
    "mean_shift.fit(sequence)"
   ]
  },
  {
   "cell_type": "markdown",
   "id": "ELe2ihhjchh_6Rt-C5mOA",
   "metadata": {},
   "source": [
    "\n",
    "---\n",
    "**Task 8 (easy): Visualizing clusters👩‍💻**\n",
    "1. Extract the cluster labels for each pose in the sequence. Use the `labels_`\n",
    " attribute as described in the [documentation on mean-shift clustering.](https://scikit-learn.org/stable/modules/generated/sklearn.cluster.MeanShift.html)\n",
    "\n",
    "2. Visualize the pose sequence, assigning a distinct color to each pose based on its cluster.\n",
    "3. Extract and plot the cluster centers using the `cluster_centers_`\n",
    " attribute.\n",
    "\n",
    "\n",
    "---"
   ]
  },
  {
   "cell_type": "code",
   "execution_count": 0,
   "id": "BP7iJHIZdt0ey5xUzQawt",
   "metadata": {},
   "outputs": [],
   "source": [
    "# Write your solution here"
   ]
  },
  {
   "cell_type": "markdown",
   "id": "7iNT9427jd2D8YSIoHBUU",
   "metadata": {},
   "source": [
    "\n",
    "---\n",
    "**Task 9 (easy): Reflection and the bandwith parameter👩‍💻💡**\n",
    "1. Visually examine the plots. What are the characteristics of the poses belonging to each cluster?\n",
    "2. What effect does decreasing and increasing the bandwidth parameter by 0.2 (0.829 / 0.429) have and why?\n",
    "\n",
    "\n",
    "**Info**\n",
    "You might encounter longer run times for lower bandwith values.\n",
    "\n",
    "\n",
    "---"
   ]
  },
  {
   "cell_type": "code",
   "execution_count": 0,
   "id": "Y0h8Qw1LEnffIIXK_-oU4",
   "metadata": {},
   "outputs": [],
   "source": [
    "# Write your solution here"
   ]
  },
  {
   "cell_type": "markdown",
   "id": "t5ozJxPM7tPGWaapjTuPz",
   "metadata": {},
   "source": [
    "## Agglomerative Clustering\n",
    "This exercise is about applying hierarchical clustering to the human poses dataset.\n",
    "\n",
    "---\n",
    "**Task 10 (easy): Dendrograms👩‍💻💡**\n",
    "1. Run the cell below to generate a dendrogram. \n",
    "2. How many clusters would result from setting the distance threshold to: 0.5, 1.5, 3.0, 4?\n",
    "3. What types of relationships can agglomerative clustering reveal that non-hierarchical methods might miss?\n",
    "\n",
    "\n",
    "---"
   ]
  },
  {
   "cell_type": "code",
   "execution_count": 0,
   "id": "1pklGW9DSmLcli0XnwB8R",
   "metadata": {},
   "outputs": [],
   "source": [
    "colors = {0: 'black', 1: 'blue', 2: 'green', 3: 'red'}\n",
    "sns.set_palette([colors[i] for i in range(len(colors))])\n",
    "shc.set_link_color_palette(None)\n",
    "plt.figure(figsize=(10,10))\n",
    "plt.title('Dendrogram for Agglomerative Clustering')\n",
    "plt.xlabel('Pose Index')\n",
    "plt.ylabel('Distance')\n",
    "linkage_matrix = shc.linkage(sequence, method ='ward', metric=\"euclidean\")\n",
    "Dendrogram = shc.dendrogram(linkage_matrix)"
   ]
  },
  {
   "cell_type": "markdown",
   "id": "QmcaLyEHz43_iC1yqVV7r",
   "metadata": {},
   "source": [
    "\n",
    "---\n",
    "**Task 11 (easy): Fitting the agglomerative clustering algorithm👩‍💻**\n",
    "The cell below creates an instance of the `AgglomerativeClustering()`\n",
    " class. The [documentation on agglomerative clustering is given here.](https://scikit-learn.org/stable/modules/generated/sklearn.cluster.AgglomerativeClustering.html)\n",
    "\n",
    "1. Select the distance threshold that results in 3 clusters, then apply agglomerative clustering on the sequence. \n",
    "2. Extract the cluster labels for each pose in the sequence.\n",
    "3. Visualize the pose sequence by assigning a distinct color to each pose based on its cluster.\n",
    "\n",
    "\n",
    "---"
   ]
  },
  {
   "cell_type": "code",
   "execution_count": 0,
   "id": "ZXxXo9HnwhlhSW18O--Qn",
   "metadata": {},
   "outputs": [],
   "source": [
    "agg_clustering = AgglomerativeClustering(n_clusters=k, metric='euclidean', linkage='ward')\n",
    "\n",
    "# Write your solution here (agglomerative clustering and cluster centers)"
   ]
  },
  {
   "cell_type": "markdown",
   "id": "kya6ZEE4zAK00b2TSvCfj",
   "metadata": {},
   "source": [
    "\n",
    "---\n",
    "**Task 12 (easy): Agglomerative clustreing algorithm mean pose👩‍💻**\n",
    "1. The `AgglomerativeClustering()`\n",
    " class does not have an attribute or a method for directly extracting cluster centers. Calculate the mean pose within each cluster for $k = 3$  and plot it.\n",
    "2. Change the distance metric (try `l1`\n",
    " and `cosine`\n",
    ") and repeat the previous two tasks ([Task 10](#loading10), [Task 11](#loading11) and [Task 12](#loading12).1). \n",
    "3. What differences do you observe, and can you explain why these differences occur? Does a different distance metric result in more meaningful clusters?\n",
    "\n",
    "\n",
    "---"
   ]
  },
  {
   "cell_type": "code",
   "execution_count": 0,
   "id": "xyOx0ZXOiWB_ztQI-Ken3",
   "metadata": {},
   "outputs": [],
   "source": [
    "# Write your solution here"
   ]
  },
  {
   "cell_type": "markdown",
   "id": "D1x_yIBkTXiW1Z4ueM2NB",
   "metadata": {},
   "source": [
    "## Comparison\n",
    "\n",
    "---\n",
    "**Task 13 (medium): Compare and reflect on the methods👩‍💻💡**\n",
    "1. Compare the clustered poses obtained with the different clustering methods (K-means, Mean-shift and Agglomerative clustering). What are the similarities and differences between the pose clusters across methods?\n",
    "2. Why can clusters look similar across methods? \n",
    "3. What are the main reasons behind differences in the clusters?\n",
    "4. The algorithms use different methods for determining the number of clusters. How do these differences impact the results for the pose data?\n",
    "\n",
    "\n",
    "---"
   ]
  },
  {
   "cell_type": "code",
   "execution_count": 0,
   "id": "OWJ2-yOsv0lsSWSt1PN91",
   "metadata": {},
   "outputs": [],
   "source": [
    "# write your relfection here"
   ]
  },
  {
   "cell_type": "markdown",
   "id": "DXPRfbEcY3xg-LsVL2nW_",
   "metadata": {},
   "source": []
  }
 ],
 "metadata": {
  "kernelspec": {
   "display_name": "Python",
   "language": "python3",
   "name": "python3"
  },
  "language_info": {
   "codemirror_mode": {
    "name": "ipython",
    "version": 3
   },
   "file_extension": "py",
   "mimetype": "text/x-python",
   "name": "python"
  }
 },
 "nbformat": 4,
 "nbformat_minor": 5
}
