{
  "metadata": {
    "kernelspec": {
      "display_name": "Python",
      "language": "python3",
      "name": "python3"
    },
    "language_info": {
      "codemirror_mode": {
        "name": "ipython",
        "version": 3
      },
      "file_extension": "py",
      "mimetype": "text/x-python",
      "name": "python"
    }
  },
  "nbformat": 4,
  "nbformat_minor": 5,
  "cells": [
    {
      "cell_type": "code",
      "id": "css_setup",
      "metadata": {
        "jupyter": {
          "source_hidden": true
        }
      },
      "source": [
        "import requests\n",
        "from IPython.core.display import HTML\n",
        "HTML(f\"\"\"\n",
        "<style>\n",
        "@import \"https://cdn.jsdelivr.net/npm/bulma@0.9.4/css/bulma.min.css\";\n",
        "</style>\n",
        "\"\"\")"
      ],
      "execution_count": 0,
      "outputs": []
    },
    {
      "cell_type": "markdown",
      "id": "JBXL9urRA5vyDXtm4DWvN",
      "metadata": {},
      "source": [
        "# Pen and Paper\n",
        "\n",
        "---\n",
        "**Task 1 (easy): Differentiate the following univariate functions♾️**\n",
        "1. For $f\\left( x \\right) = {\\left( {6{x^2} + 7x} \\right)^4}$ show that $\\frac{\\partial f}{\\partial x} = {{4\\left( {12x + 7} \\right){{\\left( {6{x^2} + 7x} \\right)}^3}}}$\n",
        "2. For $g\\left( t \\right) = {\\left( {4{t^2} - 3t + 2} \\right)^{ - 2}}$ show that $\\frac{\\partial g}{\\partial t} = {{ - 2\\left( {8t - 3} \\right){{\\left( {4{t^2} - 3t + 2} \\right)}^{ - 3}}}}$\n",
        "3. For $g_2\\left( x \\right) = 2\\sin \\left( {3x + \\tan \\left( x \\right)} \\right)$ show that $ \\frac{\\partial g_2}{\\partial x}  = 2\\left( {3 + {{\\sec }^2}\\left( x \\right)} \\right)\\cos \\left( {3x + \\tan \\left( x \\right)} \\right)$\n",
        "4. For $g_3\\left( x \\right) = {{\\bf{e}}^{1 - \\cos \\left( x \\right)}}$ show that $\\frac{\\partial g_3}{\\partial x} = \\sin (x) \\bf{e}^{1 - \\cos (x)}$\n",
        "\n",
        "\n",
        "---\n",
        "---\n",
        "**Task 2 (easy): Find the partial derivatives of the multivariate functions♾️**\n",
        "1. For $f\\left( {x,y,z} \\right) = 4{x^3}{y^2} - {{\\bf{e}}^z}{y^4} + \\frac{{{z^3}}}{{{x^2}}} + 4y - {x^{16}}$ show that  $\\frac{\\partial f}{\\partial x}  = 12x^2 y^2 - \\frac{2z^3}{x^3} - 16x^{15}$\n",
        "2. For $w(x,y,z) = \\cos \\left( {{x^2} + 2y} \\right) - {{\\bf{e}}^{4x - {z^{\\,4}}y}} + {y^3}$ show that  $\\frac{{\\partial w}}{{\\partial y}} =  -2 \\sin(x^2 + 2y) + z^4 e^{4x - z^4 y} + 3y^2$\n",
        "3. For $ r\\left( {x,y} \\right) = \\frac{{{x^2}}}{{{y^2} + 1}} - \\frac{{{y^2}}}{{{x^2} + y}}$ show that  $\\frac{{\\partial r}}{{\\partial x}} = \\frac{2x}{y^2 + 1} + \\frac{2x y^2}{(x^2 + y)^2}$\n",
        "\n",
        "\n",
        "---\n",
        "---\n",
        "**Task 3 (medium): The Chain Rule♾️**\n",
        "1. For \n",
        "$$z = \\cos \\left( {( 1 - {t^6})\\,{({t^4} - 2t)^2}} \\right)$$\n",
        "\n",
        "use the Chain Rule to show the partial derivative \n",
        "$$\\frac{\\partial z}{\\partial t} = {{ - 2\\left( {{t^4} - 2t} \\right)\\left( {1 - {t^6}} \\right)\\left( {4{t^3} - 2} \\right)\\sin \\left( {\\left( {1 - {t^6}} \\right){{\\left( {{t^4} - 2t} \\right)}^2}} \\right) + 6{t^5}{{\\left( {{t^4} - 2t} \\right)}^2}\\sin \\left( {\\left( {1 - {t^6}} \\right){{\\left( {{t^4} - 2t} \\right)}^2}} \\right)}}$$\n",
        "\n",
        "\n",
        "\n",
        "\n",
        "---\n",
        "---\n",
        "**Task 4 (medium): Gradient♾️**\n",
        "Given the functions:\n",
        "- $f_1\\left( {x,y} \\right) = \\frac{x^2}{cos(3x)}  - \\frac{{{x^2}}}{{{y^3}}}$\n",
        "- $f_2\\left( {x,y,z} \\right) = (x\\cos \\left( {xy} \\right) + {z^2}{y^4} - 7xz)^2$\n",
        "\n",
        "1. Draw the computational graph (following the chain rule) of the functions.\n",
        "2. Determine the gradients, $\\nabla f_1$ and $\\nabla f_2$.\n",
        "\n",
        "\n",
        "---"
      ]
    }
  ]
}