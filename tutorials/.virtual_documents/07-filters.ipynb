





import numpy as np
import matplotlib.pyplot as plt
from scipy.ndimage import convolve
from skimage import data, filters
from scipy import signal
import scipy
import scipy.ndimage as sp
import seaborn as sns
import pandas as pd
from skimage import data, color
from scipy.signal import convolve2d





print(data.__all__)
plt.imshow(data.rocket(), cmap="gray")
plt.axis(False)





blurred = filters.gaussian(data.rocket(), channel_axis=2, sigma=5)
plt.imshow(blurred, cmap="gray")
plt.axis(False)





def mean_kernel(size):
    return np.ones((size, size, 1))/(size**2)

k = mean_kernel(10)





# Create a 10x10 grid to display the kernel values
plt.figure(figsize=(8, 8))
plt.imshow(k[:, :, 0], cmap='gray', interpolation='none', vmin=0, vmax=0.01, extent=[0, 10, 0, 10])  # Adjust vmin and vmax for your specific kernel values

# Display the values inside each cell
for i in range(k.shape[0]):
    for j in range(k.shape[1]):
        plt.text(j + 0.5, i + 0.5, f'{k[i, j, 0]:.2f}', color='black', ha='center', va='center')

plt.title('Mean Kernel (10x10)')
plt.xticks(np.arange(0, 11, 1))
plt.yticks(np.arange(0, 11, 1))
plt.grid(color='black', linestyle='-', linewidth=0.5)
plt.show()





# Load the "camera" image from scikit-learn
data1 = data.rocket()
from skimage.transform import resize

# Resize the image to a smaller size
target_height, target_width = 20, 20  # Set your desired dimensions
resized_image = resize(data1, (target_height, target_width))

# Create a figure with two subplots
fig, axes = plt.subplots(1, 2, figsize=(15, 8))

# Plot the grid of values in the first subplot
axes[0].imshow(np.ones_like(resized_image), cmap='gray', extent=[0, 20, 0, 20], vmin=0, vmax=1)  # Display white cells

# Display the values strictly inside each cell
for i in range(target_height):
    for j in range(target_width):
        pixel_value = resized_image[i, j, 0]
        axes[0].text(j + 0.5, target_height - i - 0.5, f'{pixel_value:.2f}', color='black', ha='center', va='center')

axes[0].set_title('Grid of Values (20x20)')
axes[0].set_xticks(np.arange(0, 21, 1))
axes[0].set_yticks(np.arange(0, 21, 1))
axes[0].grid(color='black', linestyle='-', linewidth=0.5)

# Plot the downsampled image in the second subplot without pixel values
axes[1].imshow(resized_image, cmap='hot', vmin=0, vmax=1)
axes[1].set_title('Downsampled Image (20x20)')
axes[1].axis('off')  # Hide axis for the image plot

plt.tight_layout()
plt.show()





blurred = scipy.ndimage.convolve(data.rocket(), k)
plt.imshow(blurred)
plt.axis(False)





k_dx = np.array([[1, -1]])

image = data.camera().astype(np.float32)

dx = convolve(image, k_dx)

# Create a 1x2 grid of subplots
fig, axs = plt.subplots(1, 2, figsize=(10, 5))

# Plot the first image in the first subplot
axs[0].imshow(data.camera(), cmap='copper')
axs[0].set_title('Original Image')
axs[0].axis('off')

# Plot the result of convolution in the second subplot
axs[1].imshow(dx, cmap='copper')
axs[1].set_title('Convolution Result')
axs[1].axis('off')

# Display the subplots
plt.show()





k_dx = np.array([[1, 0, -1]]) # The new centered kernel

image_blurred = filters.gaussian(image, sigma=1) # Blurring with a Gaussian, higher sigma more blurring

dx = convolve(image_blurred, k_dx)
plt.imshow(dx, cmap='copper')
plt.axis(False)





# The kernel has to be padded with zeroes, otherwise the convolution will result in a new 1x3 kernel 
# (try it yourself if you want to see the result)
k_dx = np.array([
    [0, 0, 0],
    [1., 0, -1.],
    [0, 0, 0]
]) 

# we apply the blurring to the filter instead of the image
k_dx_blurred = filters.gaussian(k_dx, sigma=1, preserve_range=True) 
dx = convolve(image, k_dx_blurred) # convolve the image with the blurred filter

# Create a 1x2 grid of subplots
fig, axs = plt.subplots(1, 2, figsize=(10, 5))

# Plot the first image in the first subplot
axs[0].imshow(k_dx_blurred, cmap='copper')
axs[0].set_title('Filter')
axs[0].axis('off')

# Plot the result of convolution in the second subplot
axs[1].imshow(dx, cmap='copper')
axs[1].set_title('Convolution Result')
axs[1].axis('off')

# Display the subplots
plt.show()






dx = filters.sobel(image, axis=1)
plt.imshow(dx, cmap='copper')
plt.axis(False)





k_dy = np.array([
    [0, 1., 0],
    [0, 0, 0],
    [0, -1., 0]
])

k_dy_blurred = filters.gaussian(k_dy, sigma=1, preserve_range=True) # we apply the blurring to the filter instead of the image
dy = convolve(image, k_dy_blurred) # convolve the image with the blurred filter
plt.show()
plt.imshow(dy, cmap='copper')
plt.axis(False)





# Perform convolution to compute horizontal and vertical gradients
Ix = convolve(image, k_dx_blurred)
Iy = convolve(image, k_dy_blurred)

# Calculate gradient magnitude
gradMag = np.sqrt(Ix**2 + Iy**2)

# Create subplots to display the original image and gradient magnitude
fig, axes = plt.subplots(1, 2, figsize=(10, 5))
axes[0].imshow(image, cmap='copper')
axes[0].set_title('Original Image')
axes[0].axis('off')

axes[1].imshow(gradMag, cmap='copper')
axes[1].set_title('Edge and feature detection with Gradient Magnitude')
axes[1].axis('off')

plt.tight_layout()
plt.show()






