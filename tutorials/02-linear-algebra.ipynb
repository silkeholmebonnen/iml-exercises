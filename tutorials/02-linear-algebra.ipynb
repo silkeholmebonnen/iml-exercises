{
 "cells": [
  {
   "cell_type": "markdown",
   "id": "2ce8dc46",
   "metadata": {},
   "source": [
    "### Linear Algebra, Topics:\n",
    "1. Data structures in linear algebra \n",
    "2. Vectors operations (addition, inner product, length vs number of elements ...)\n",
    "3. Matrix operations \n",
    "4. Special matrices\n",
    "5. Determinant and inverse of a matrix\n",
    "\n",
    "\n",
    "### Data structures in linear algebra \n",
    "- Scalar: Single number\n",
    "- Vector: Array of numbers\n",
    "- Matrix: 2-dimensional array of numbers\n",
    "- Tensor: $n$-dimensional array of numbers where $n > 2$\n",
    "\n",
    "NumPy represents \n",
    "a vector as a 1-D array\n",
    "a matrix as a 2-D array (array of arrays)\n",
    "an $n$-tensor as a $n$-dimensional array (e.g. A 3D-tensor is an array of 2D arrays etc.):\n",
    "\n",
    "#figure|arrays(url=\"material/arrays.png\")"
   ]
  },
  {
   "cell_type": "code",
   "execution_count": 1,
   "id": "3a395f96",
   "metadata": {
    "ExecuteTime": {
     "end_time": "2023-09-01T12:14:45.424701600Z",
     "start_time": "2023-09-01T12:14:45.307613800Z"
    }
   },
   "outputs": [],
   "source": [
    "# Import the numpy lib\n",
    "import numpy as np"
   ]
  },
  {
   "cell_type": "code",
   "execution_count": 2,
   "id": "fd6ba3aa",
   "metadata": {
    "ExecuteTime": {
     "start_time": "2023-09-01T12:14:45.321612800Z"
    },
    "is_executing": true
   },
   "outputs": [
    {
     "name": "stdout",
     "output_type": "stream",
     "text": [
      "[1 6 3 1]\n"
     ]
    }
   ],
   "source": [
    "# Create a vector with 4 elements:\n",
    "a = np.array([1, 6, 3, 1])\n",
    "print(a)"
   ]
  },
  {
   "cell_type": "code",
   "execution_count": 3,
   "id": "f8f7de66",
   "metadata": {
    "ExecuteTime": {
     "start_time": "2023-09-01T12:14:45.336616900Z"
    },
    "is_executing": true
   },
   "outputs": [
    {
     "name": "stdout",
     "output_type": "stream",
     "text": [
      "[[ 1 42  6  4]\n",
      " [ 2  6 87  2]]\n"
     ]
    }
   ],
   "source": [
    "# Create a 2x4 matrix:\n",
    "A = np.array([[1, 42, 6, 4], [2, 6, 87, 2]])\n",
    "print(A)\n",
    "\n"
   ]
  },
  {
   "cell_type": "code",
   "execution_count": 4,
   "id": "23729344",
   "metadata": {
    "ExecuteTime": {
     "start_time": "2023-09-01T12:14:45.351701500Z"
    },
    "is_executing": true
   },
   "outputs": [
    {
     "name": "stdout",
     "output_type": "stream",
     "text": [
      "(2, 4)\n"
     ]
    }
   ],
   "source": [
    "# Print the size of the matrix\n",
    "print(A.shape)"
   ]
  },
  {
   "cell_type": "code",
   "execution_count": 6,
   "id": "6cd23a6c",
   "metadata": {
    "ExecuteTime": {
     "start_time": "2023-09-01T12:14:45.366701600Z"
    },
    "is_executing": true
   },
   "outputs": [
    {
     "name": "stdout",
     "output_type": "stream",
     "text": [
      "[[[  1  23   3   4]\n",
      "  [ 42   6   7  87]]\n",
      "\n",
      " [[  9   3  11   2]\n",
      "  [  2  22  15 101]]]\n"
     ]
    }
   ],
   "source": [
    "# A 2x2x4 tensor:\n",
    "T = np.array([[[1, 23, 3, 4], [42, 6, 7, 87]], [[9, 3, 11, 2], [2, 22, 15, 101]]])\n",
    "print(T)\n"
   ]
  },
  {
   "cell_type": "code",
   "execution_count": 7,
   "id": "363eb0aa",
   "metadata": {
    "ExecuteTime": {
     "start_time": "2023-09-01T12:14:45.411702700Z"
    },
    "is_executing": true
   },
   "outputs": [
    {
     "name": "stdout",
     "output_type": "stream",
     "text": [
      "(2, 2, 4)\n"
     ]
    }
   ],
   "source": [
    "# Print the size of the tensor\n",
    "print(T.shape)"
   ]
  },
  {
   "cell_type": "markdown",
   "id": "cac280a0",
   "metadata": {},
   "source": [
    "## Vector Operations\n",
    "**A vector multiplied by a scalar:** "
   ]
  },
  {
   "cell_type": "code",
   "execution_count": 5,
   "id": "e8e3c4eb",
   "metadata": {
    "ExecuteTime": {
     "start_time": "2023-09-01T12:14:45.459738200Z"
    },
    "is_executing": true
   },
   "outputs": [
    {
     "data": {
      "text/plain": [
       "array([ 6, 44,  6, 42])"
      ]
     },
     "execution_count": 5,
     "metadata": {},
     "output_type": "execute_result"
    }
   ],
   "source": [
    "a = np.array([3, 22, 3, 21])\n",
    "a * 2"
   ]
  },
  {
   "cell_type": "markdown",
   "id": "07b37312",
   "metadata": {},
   "source": [
    "**Inner product (dot product):** The inner product (see lecture slides for details) of two vectors $a$ and $b$ of dimension $n$: \n",
    "\n",
    "$$\n",
    "a\\cdot b =\\sum_i^N a_ib_i = a^\\top b\n",
    "$$\n",
    "\n",
    "The **inner product** can be calculated using the Numpy function [`np.dot(a,b)`](https://numpy.org/doc/stable/reference/generated/numpy.dot.html): \n"
   ]
  },
  {
   "cell_type": "code",
   "execution_count": 10,
   "id": "8d367c15",
   "metadata": {
    "ExecuteTime": {
     "start_time": "2023-09-01T12:14:45.508738300Z"
    },
    "is_executing": true
   },
   "outputs": [
    {
     "data": {
      "text/plain": [
       "np.int64(230)"
      ]
     },
     "execution_count": 10,
     "metadata": {},
     "output_type": "execute_result"
    }
   ],
   "source": [
    "# Create 2 vectors v1 and b\n",
    "a = np.array([1, 2, 3, 42])\n",
    "b = np.array([2, 3, 4, 5])\n",
    "# calculate the dot product\n",
    "np.dot(a, b)"
   ]
  },
  {
   "cell_type": "markdown",
   "id": "3eee54ef",
   "metadata": {},
   "source": [
    "**Summation and subtraction of 2 vectors:**  \n",
    "\n",
    "Elementwise summation/subtraction/multiplication \n",
    "\n",
    "The elementwise operations also exist for matrices and tensors. \n",
    "\n",
    "The elementwise multiplication is called the Hadamard product."
   ]
  },
  {
   "cell_type": "code",
   "execution_count": 11,
   "id": "200d3815",
   "metadata": {
    "ExecuteTime": {
     "start_time": "2023-09-01T12:14:45.570250100Z"
    },
    "is_executing": true
   },
   "outputs": [
    {
     "name": "stdout",
     "output_type": "stream",
     "text": [
      "a + b is : \n",
      " [ 3  5  7 47]\n",
      "a - b is :  \n",
      " [-1 -1 -1 37]\n",
      "a * b is :  \n",
      " [  2   6  12 210]\n"
     ]
    }
   ],
   "source": [
    "# Create 2 vectors\n",
    "a = np.array([1, 2, 3, 42])\n",
    "b = np.array([2, 3, 4, 5])\n",
    "\n",
    "print(\"a + b is : \\n\", a + b)\n",
    "print(\"a - b is :  \\n\", a - b)\n",
    "print(\"a * b is :  \\n\", a * b)"
   ]
  },
  {
   "cell_type": "markdown",
   "id": "2d1be909",
   "metadata": {},
   "source": [
    "## Length (norm) of vectors\n",
    "The Euclidean distance (aka. $L2$-norm) of a vector $a$ is the square root of the inner product $$ |a| =\\sqrt{\\sum_i^N a_i^2 }= \\sqrt{a^\\top a}$$, where $a^\\top$ is the transpose of $a$. \n",
    "\n",
    "#message(title=Note,color=info){Later in the course you will see examples of other norms.}\n",
    "\n"
   ]
  },
  {
   "cell_type": "code",
   "execution_count": 12,
   "id": "604bd8db",
   "metadata": {
    "ExecuteTime": {
     "start_time": "2023-09-01T12:14:45.572249800Z"
    },
    "is_executing": true
   },
   "outputs": [
    {
     "name": "stdout",
     "output_type": "stream",
     "text": [
      "Euclidean distance of v1: 42.16633728461603\n"
     ]
    }
   ],
   "source": [
    "# Inner product of v1 with itself\n",
    "a_a_inner_product = np.dot(a, a)\n",
    "Euc_len_a = np.sqrt(a_a_inner_product)\n",
    "print('Euclidean distance of v1:', Euc_len_a)"
   ]
  },
  {
   "cell_type": "markdown",
   "id": "bb9e0f35",
   "metadata": {},
   "source": [
    "The Euclidean distance can be calculated using [`np.linalg.norm()`](https://numpy.org/doc/stable/reference/generated/numpy.linalg.norm.html)"
   ]
  },
  {
   "cell_type": "code",
   "execution_count": 13,
   "id": "ed1b1161",
   "metadata": {
    "ExecuteTime": {
     "start_time": "2023-09-01T12:14:45.575250600Z"
    },
    "is_executing": true
   },
   "outputs": [
    {
     "name": "stdout",
     "output_type": "stream",
     "text": [
      "Euclidean distance of v1: 42.16633728461603\n"
     ]
    }
   ],
   "source": [
    "print('Euclidean distance of v1:', np.linalg.norm(a))"
   ]
  },
  {
   "cell_type": "markdown",
   "id": "9842002a",
   "metadata": {},
   "source": [
    "### Orthogonal and normal vectors \n",
    "Vectors $a$ and $b$ are considered orthogonal (perpendicular) if $ a^\\top b=0$.\n",
    "\n",
    "Recall that the dot product is related to the angle between vectors $a$ and $b$:\n",
    "\n",
    "$$\n",
    "\\cos(\\theta)  = \\frac{a \\cdot b}{\\|a\\| \\|b\\|}\n",
    "$$"
   ]
  },
  {
   "cell_type": "code",
   "execution_count": 14,
   "id": "eea8354a",
   "metadata": {
    "ExecuteTime": {
     "start_time": "2023-09-01T12:14:45.381701Z"
    },
    "is_executing": true
   },
   "outputs": [
    {
     "name": "stdout",
     "output_type": "stream",
     "text": [
      "0\n"
     ]
    }
   ],
   "source": [
    "# Orthognonal vectors\n",
    "a = np.array([1, -2, 4])\n",
    "b = np.array([2, 5, 2])\n",
    "\n",
    "print(a.dot(b))  # Alternative way to calculate dot product. Equivalent to (np.dot(a,b))"
   ]
  },
  {
   "cell_type": "markdown",
   "id": "4a1fb32e",
   "metadata": {},
   "source": [
    "**Orthonormal vectors:** are orthogonal and have unit length.\n",
    "\n",
    " In the cell below, orthonormal vectors $a$ and $b$ are calculated by dividing each by their length to ensure orthogonality and normality."
   ]
  },
  {
   "cell_type": "code",
   "execution_count": 15,
   "id": "40d8dbf6",
   "metadata": {
    "ExecuteTime": {
     "start_time": "2023-09-01T12:14:45.426701600Z"
    },
    "is_executing": true
   },
   "outputs": [
    {
     "name": "stdout",
     "output_type": "stream",
     "text": [
      "a_normalized: [ 0.21821789 -0.43643578  0.87287156]\n",
      "b_normalized: [0.34815531 0.87038828 0.34815531]\n",
      "The inner product of a_normalized and b_normalized: \n",
      " 4.200294757712039e-17\n"
     ]
    }
   ],
   "source": [
    "a_normalized = a / np.linalg.norm(a)\n",
    "print('a_normalized:', a_normalized)\n",
    "b_normalized = b / np.linalg.norm(b)\n",
    "print('b_normalized:', b_normalized)\n",
    "\n",
    "# Inner product of orthonormal vectors\n",
    "print('The inner product of a_normalized and b_normalized: \\n', a_normalized.dot(b_normalized))"
   ]
  },
  {
   "cell_type": "markdown",
   "id": "d288b709",
   "metadata": {},
   "source": [
    "## Matrices\n",
    "The following section provides an overview of important matrix properties and  matrix compositions. \n",
    "\n",
    "A **Square matrix:** is a two-dimensional array with the same number of rows and columns $N \\times N$ ."
   ]
  },
  {
   "cell_type": "code",
   "execution_count": 17,
   "id": "18606cfc",
   "metadata": {
    "ExecuteTime": {
     "start_time": "2023-09-01T12:14:45.474738100Z"
    },
    "is_executing": true
   },
   "outputs": [],
   "source": [
    "# Create a square random matrix\n",
    "A = np.random.randint(5, size=(3, 3))"
   ]
  },
  {
   "cell_type": "markdown",
   "id": "4038157b",
   "metadata": {},
   "source": [
    "**An Identity matrix** is a square matrix that contains ones on the diagonal and zeros elsewhere.\n",
    " \n",
    "The NumPy function [`np.identity(N)`](https://numpy.org/doc/stable/reference/generated/numpy.identity.html#numpy-identity) creates an identity matrix with N elements on the diagonal. "
   ]
  },
  {
   "cell_type": "code",
   "execution_count": 18,
   "id": "e57196f5",
   "metadata": {
    "ExecuteTime": {
     "start_time": "2023-09-01T12:14:45.523737800Z"
    },
    "is_executing": true
   },
   "outputs": [
    {
     "name": "stdout",
     "output_type": "stream",
     "text": [
      "[[1. 0. 0.]\n",
      " [0. 1. 0.]\n",
      " [0. 0. 1.]]\n"
     ]
    }
   ],
   "source": [
    "I3 = np.identity(3)\n",
    "print(I3)"
   ]
  },
  {
   "cell_type": "code",
   "execution_count": 19,
   "id": "8d7158c4",
   "metadata": {
    "ExecuteTime": {
     "start_time": "2023-09-01T12:14:45.571249600Z"
    },
    "is_executing": true
   },
   "outputs": [
    {
     "name": "stdout",
     "output_type": "stream",
     "text": [
      "[[1. 0. 0. 0.]\n",
      " [0. 1. 0. 0.]\n",
      " [0. 0. 1. 0.]\n",
      " [0. 0. 0. 1.]]\n"
     ]
    }
   ],
   "source": [
    "I4 = np.identity(4)\n",
    "print(I4)"
   ]
  },
  {
   "cell_type": "markdown",
   "id": "f7c403ca",
   "metadata": {},
   "source": [
    "**Diagonal matrix:** is a matrix with non-zero elements in the diagonal and zeroes elsewhere.\n",
    "\n",
    "The NumPy function [`np.diag(a)`](https://numpy.org/doc/stable/reference/generated/numpy.diag.html) creates a 2D array (diagonal matrix)\n",
    " given a 1D array (list/vector containing diagonal elements) as input. "
   ]
  },
  {
   "cell_type": "code",
   "execution_count": 20,
   "id": "666b043c",
   "metadata": {
    "ExecuteTime": {
     "start_time": "2023-09-01T12:14:45.573250700Z"
    },
    "is_executing": true
   },
   "outputs": [],
   "source": [
    "# Create an array:\n",
    "v = np.array([3., 2., 5.])"
   ]
  },
  {
   "cell_type": "code",
   "execution_count": 21,
   "id": "c3ed5074",
   "metadata": {
    "ExecuteTime": {
     "start_time": "2023-09-01T12:14:45.576250900Z"
    },
    "is_executing": true
   },
   "outputs": [
    {
     "name": "stdout",
     "output_type": "stream",
     "text": [
      "[[3. 0. 0.]\n",
      " [0. 2. 0.]\n",
      " [0. 0. 5.]]\n"
     ]
    }
   ],
   "source": [
    "# Create a matrix with elements of v on the diagonal:\n",
    "D = np.diag(v)\n",
    "print(D)"
   ]
  },
  {
   "cell_type": "markdown",
   "id": "96e5f3c7",
   "metadata": {},
   "source": [
    "## Matrix multiplication \n",
    "Matrix multiplication of two matrices can be conceptualized as a series of consecutive inner products between corresponding row-column pairs.\n",
    "\n",
    "Consider the matrices A1 and A2:"
   ]
  },
  {
   "cell_type": "code",
   "execution_count": 26,
   "id": "6a7cd16c",
   "metadata": {
    "ExecuteTime": {
     "start_time": "2023-09-01T12:14:45.578249600Z"
    },
    "is_executing": true
   },
   "outputs": [
    {
     "name": "stdout",
     "output_type": "stream",
     "text": [
      "A1 \n",
      " [[1 3 0]\n",
      " [4 4 4]] \n",
      "\n",
      "A2 \n",
      " [[2 2]\n",
      " [0 4]\n",
      " [2 3]]\n"
     ]
    }
   ],
   "source": [
    "A1 = np.array([[1, 3, 0], [4, 4, 4]])\n",
    "A2 = np.array([[2, 2], [0, 4], [2, 3]])\n",
    "\n",
    "print(\"A1 \\n\", A1, \"\\n\")\n",
    "print(\"A2 \\n\", A2)"
   ]
  },
  {
   "cell_type": "markdown",
   "id": "2e47960b9cb30211",
   "metadata": {
    "collapsed": false
   },
   "source": [
    "In the following,  matrix multiplication is demonstrated as a series of inner products. The cell below shows matrix multiplication of `A1` and `A2` using the `dot` function in Numpy: "
   ]
  },
  {
   "cell_type": "code",
   "execution_count": 27,
   "id": "69e5b3ba81be222e",
   "metadata": {
    "ExecuteTime": {
     "start_time": "2023-09-01T12:14:45.579250300Z"
    },
    "collapsed": false,
    "is_executing": true
   },
   "outputs": [
    {
     "name": "stdout",
     "output_type": "stream",
     "text": [
      "[[ 2 14]\n",
      " [16 36]]\n"
     ]
    }
   ],
   "source": [
    "print(np.dot(A1, A2))"
   ]
  },
  {
   "cell_type": "markdown",
   "id": "dc7c97631fc80440",
   "metadata": {
    "collapsed": false
   },
   "source": [
    "The first element ($2$) of the result is calculated as the inner product of the first row of `A1` and the first column of `A2`:"
   ]
  },
  {
   "cell_type": "code",
   "execution_count": 27,
   "id": "76000750",
   "metadata": {
    "ExecuteTime": {
     "start_time": "2023-09-01T12:14:45.579250300Z"
    },
    "is_executing": true
   },
   "outputs": [
    {
     "name": "stdout",
     "output_type": "stream",
     "text": [
      "2\n"
     ]
    }
   ],
   "source": [
    "# A1 first row, A2 first column : position [1,1]\n",
    "print(np.dot(A1[0, :], A2[:, 0]))"
   ]
  },
  {
   "cell_type": "markdown",
   "id": "751ece4cfa9f28ef",
   "metadata": {
    "collapsed": false
   },
   "source": [
    "Similarly, the other elements can be calculated using the appropriate combinations of rows `A1` and columns in `A2`: "
   ]
  },
  {
   "cell_type": "code",
   "execution_count": 28,
   "id": "e1f1eba4",
   "metadata": {
    "ExecuteTime": {
     "end_time": "2023-09-01T12:14:45.537742800Z",
     "start_time": "2023-09-01T12:14:45.398702500Z"
    }
   },
   "outputs": [
    {
     "name": "stdout",
     "output_type": "stream",
     "text": [
      "A1 second row, A2 first column: 16\n",
      "A1 first row, A2 second column: 14\n",
      "A1 second row, A2 second column: 36\n"
     ]
    }
   ],
   "source": [
    "# A1 second row, A2 first column : position [2,1]\n",
    "print(\"A1 second row, A2 first column:\", np.dot(A1[1, :], A2[:, 0]))\n",
    "\n",
    "# A1 first row, A2 second column : position [1,2]\n",
    "print(\"A1 first row, A2 second column:\", np.dot(A1[0, :], A2[:, 1]))\n",
    "\n",
    "# A1 second row, A2 second column : position [2,2]\n",
    "print(\"A1 second row, A2 second column:\", np.dot(A1[1, :], A2[:, 1]))"
   ]
  },
  {
   "cell_type": "markdown",
   "id": "751636f8",
   "metadata": {},
   "source": [
    "### Identity matrix\n",
    "\n",
    "Multiplying a matrix A (from either left or right) with the identity matrix yields the matrix A. Thus, \n",
    "$$AI = A = IA.$$\n",
    "As an example:"
   ]
  },
  {
   "cell_type": "code",
   "execution_count": 29,
   "id": "9d066bf3",
   "metadata": {
    "ExecuteTime": {
     "end_time": "2023-09-01T12:14:45.539742200Z",
     "start_time": "2023-09-01T12:14:45.443704Z"
    }
   },
   "outputs": [
    {
     "name": "stdout",
     "output_type": "stream",
     "text": [
      "A:\n",
      " [[4 2 3]\n",
      " [1 0 1]\n",
      " [2 0 1]] \n",
      "I:\n",
      " [[1. 0. 0.]\n",
      " [0. 1. 0.]\n",
      " [0. 0. 1.]] \n",
      "multiplication result:\n",
      " [[4. 2. 3.]\n",
      " [1. 0. 1.]\n",
      " [2. 0. 1.]]\n"
     ]
    }
   ],
   "source": [
    "# Create 3x3 matrix A with random values between 0 and 4.\n",
    "A = np.random.randint(5, size=(3, 3))\n",
    "\n",
    "# Create 3x3 identity matrix.\n",
    "I = np.identity(3)\n",
    "\n",
    "# Multiply the matrices\n",
    "R = np.dot(A, I)\n",
    "\n",
    "print(\"A:\\n\", A, \"\\nI:\\n\", I, \"\\nmultiplication result:\\n\", R)"
   ]
  },
  {
   "cell_type": "markdown",
   "id": "74eb2864",
   "metadata": {},
   "source": [
    "Matrix multiplication can be performed using the `@` operator. The example below demonstrates that the use of the `@` operator yields identical results as above:"
   ]
  },
  {
   "cell_type": "code",
   "execution_count": 31,
   "id": "bc1c28ec",
   "metadata": {},
   "outputs": [
    {
     "name": "stdout",
     "output_type": "stream",
     "text": [
      "[[4. 2. 3.]\n",
      " [1. 0. 1.]\n",
      " [2. 0. 1.]]\n"
     ]
    }
   ],
   "source": [
    "R2 = A @ I\n",
    "print(R2)"
   ]
  },
  {
   "cell_type": "markdown",
   "id": "98f40c64",
   "metadata": {},
   "source": [
    "## Determinant and inverse of a matrix\n",
    "\n",
    "Recall that determinants are utilized when solving linear systems of equations, and a determinant of 0 indicates that the function does not have an inverse.\n",
    "\n",
    "Use [`np.linalg.det()`](https://numpy.org/doc/stable/reference/generated/numpy.linalg.det.html) to calculate the determinant of a matrix. "
   ]
  },
  {
   "cell_type": "code",
   "execution_count": 29,
   "id": "bb491a7b",
   "metadata": {
    "ExecuteTime": {
     "end_time": "2023-09-01T12:14:45.539742200Z",
     "start_time": "2023-09-01T12:14:45.491738500Z"
    }
   },
   "outputs": [
    {
     "name": "stdout",
     "output_type": "stream",
     "text": [
      "det(A): -21.0\n",
      "det(B): 0.0\n"
     ]
    }
   ],
   "source": [
    "# Example matrices\n",
    "A = np.array([[1, 1, 1], [0, 2, 5], [2, 5, -1]])\n",
    "B = np.array([[0, 0, 0], [0, 2, 5], [2, 5, -1]])\n",
    "\n",
    "# Calculate the determinant \n",
    "print(\"det(A):\", np.linalg.det(A))\n",
    "print(\"det(B):\", np.linalg.det(B))"
   ]
  },
  {
   "cell_type": "markdown",
   "id": "a8ea719f",
   "metadata": {},
   "source": [
    "\n",
    "The function [`np.linalg.inv(A)`](https://numpy.org/doc/stable/reference/generated/numpy.linalg.inv.html) can be used to calculate the inverse of a matrix. \n",
    "\n",
    "#message(Note, color=info, type=note){\n",
    "The function returns an error when the matrix is singular (i.e. the determinant is zero).\n",
    "}"
   ]
  },
  {
   "cell_type": "code",
   "execution_count": 28,
   "id": "0633460c",
   "metadata": {
    "ExecuteTime": {
     "end_time": "2023-09-01T12:14:45.674759200Z",
     "start_time": "2023-09-01T12:14:45.539742200Z"
    }
   },
   "outputs": [
    {
     "name": "stdout",
     "output_type": "stream",
     "text": [
      "A^-1: [[ 0.          0.33333333 -0.33333333]\n",
      " [ 0.         -0.11111111  0.44444444]\n",
      " [ 0.33333333 -0.2962963  -0.14814815]]\n"
     ]
    },
    {
     "ename": "NameError",
     "evalue": "name 'B' is not defined",
     "output_type": "error",
     "traceback": [
      "\u001b[0;31m---------------------------------------------------------------------------\u001b[0m",
      "\u001b[0;31mNameError\u001b[0m                                 Traceback (most recent call last)",
      "Cell \u001b[0;32mIn[28], line 2\u001b[0m\n\u001b[1;32m      1\u001b[0m \u001b[38;5;28mprint\u001b[39m(\u001b[38;5;124m\"\u001b[39m\u001b[38;5;124mA^-1:\u001b[39m\u001b[38;5;124m\"\u001b[39m, np\u001b[38;5;241m.\u001b[39mlinalg\u001b[38;5;241m.\u001b[39minv(A))\n\u001b[0;32m----> 2\u001b[0m \u001b[38;5;28mprint\u001b[39m(\u001b[38;5;124m\"\u001b[39m\u001b[38;5;124mB^-1:\u001b[39m\u001b[38;5;124m\"\u001b[39m, np\u001b[38;5;241m.\u001b[39mlinalg\u001b[38;5;241m.\u001b[39minv(\u001b[43mB\u001b[49m))  \u001b[38;5;66;03m# This line should give an error because B is singular\u001b[39;00m\n",
      "\u001b[0;31mNameError\u001b[0m: name 'B' is not defined"
     ]
    }
   ],
   "source": [
    "print(\"A^-1:\", np.linalg.inv(A))\n",
    "print(\"B^-1:\", np.linalg.inv(B))  # This line should give an error because B is singular"
   ]
  },
  {
   "cell_type": "markdown",
   "id": "2552dd50",
   "metadata": {},
   "source": [
    "The matrix A multiplied by its inverse yields the identity matrix:"
   ]
  },
  {
   "cell_type": "code",
   "execution_count": 30,
   "id": "25d71e0b",
   "metadata": {
    "ExecuteTime": {
     "start_time": "2023-09-01T12:14:45.571249600Z"
    }
   },
   "outputs": [
    {
     "name": "stdout",
     "output_type": "stream",
     "text": [
      "[[ 1.00000000e+00 -5.55111512e-17  2.77555756e-17]\n",
      " [ 0.00000000e+00  1.00000000e+00  0.00000000e+00]\n",
      " [-1.11022302e-16  5.55111512e-17  1.00000000e+00]]\n"
     ]
    }
   ],
   "source": [
    "I = np.dot(A, np.linalg.inv(A))\n",
    "print(I)"
   ]
  },
  {
   "cell_type": "markdown",
   "id": "703fe3b1",
   "metadata": {},
   "source": [
    "#message(Note, color=info, type=note){\n",
    "The result of the calculation above may be slightly off. This is due to the limitations of floating point numbers.\n",
    "}\n",
    "\n",
    "### Diagonal matrices (determinant and inversion)"
   ]
  },
  {
   "cell_type": "code",
   "execution_count": 38,
   "id": "4c012908",
   "metadata": {
    "ExecuteTime": {
     "start_time": "2023-09-01T12:14:45.574248700Z"
    }
   },
   "outputs": [
    {
     "name": "stdout",
     "output_type": "stream",
     "text": [
      "[[5 0 0]\n",
      " [0 2 0]\n",
      " [0 0 3]]\n"
     ]
    }
   ],
   "source": [
    "# Create a diagonal matrix \n",
    "A = np.diag([5, 2, 3])\n",
    "print(A)"
   ]
  },
  {
   "cell_type": "markdown",
   "id": "65febc41",
   "metadata": {},
   "source": [
    "The determinant of a diagonal matrix is the product of the elements on the diagonal. "
   ]
  },
  {
   "cell_type": "code",
   "execution_count": 40,
   "id": "726fd689",
   "metadata": {
    "ExecuteTime": {
     "start_time": "2023-09-01T12:14:45.577249800Z"
    }
   },
   "outputs": [
    {
     "name": "stdout",
     "output_type": "stream",
     "text": [
      "29.99999999999999\n"
     ]
    }
   ],
   "source": [
    "print(np.linalg.det(A))"
   ]
  },
  {
   "cell_type": "markdown",
   "id": "0d9c2e67",
   "metadata": {},
   "source": [
    "The inverse of a diagonal matrix is the reciprocal of each element on the diagonal."
   ]
  },
  {
   "cell_type": "code",
   "execution_count": 41,
   "id": "19c997ac",
   "metadata": {
    "ExecuteTime": {
     "start_time": "2023-09-01T12:14:45.578249600Z"
    }
   },
   "outputs": [
    {
     "name": "stdout",
     "output_type": "stream",
     "text": [
      "[[0.2        0.         0.        ]\n",
      " [0.         0.5        0.        ]\n",
      " [0.         0.         0.33333333]]\n"
     ]
    }
   ],
   "source": [
    "print(np.linalg.inv(A))"
   ]
  },
  {
   "cell_type": "markdown",
   "id": "d16ba481",
   "metadata": {},
   "source": [
    "This concludes the tutorial."
   ]
  }
 ],
 "metadata": {
  "kernelspec": {
   "display_name": "iml",
   "language": "python",
   "name": "python3"
  },
  "language_info": {
   "codemirror_mode": {
    "name": "ipython",
    "version": 3
   },
   "file_extension": ".py",
   "mimetype": "text/x-python",
   "name": "python",
   "nbconvert_exporter": "python",
   "pygments_lexer": "ipython3",
   "version": "3.10.14"
  }
 },
 "nbformat": 4,
 "nbformat_minor": 5
}
