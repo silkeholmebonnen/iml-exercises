{
  "metadata": {
    "kernelspec": {
      "display_name": "Python",
      "language": "python3",
      "name": "python3"
    },
    "language_info": {
      "codemirror_mode": {
        "name": "ipython",
        "version": 3
      },
      "file_extension": "py",
      "mimetype": "text/x-python",
      "name": "python"
    }
  },
  "nbformat": 4,
  "nbformat_minor": 5,
  "cells": [
    {
      "cell_type": "code",
      "id": "css_setup",
      "metadata": {
        "jupyter": {
          "source_hidden": true
        }
      },
      "source": [
        "import requests\n",
        "from IPython.core.display import HTML\n",
        "HTML(f\"\"\"\n",
        "<style>\n",
        "@import \"https://cdn.jsdelivr.net/npm/bulma@0.9.4/css/bulma.min.css\";\n",
        "</style>\n",
        "\"\"\")"
      ],
      "execution_count": 0,
      "outputs": []
    },
    {
      "cell_type": "markdown",
      "id": "ABeXWkHJTQo4acKt-tZ21",
      "metadata": {},
      "source": [
        "# Bases and transformations\n",
        "The following tasks are designed to provide a refresher on bases and transformations between them.\n",
        "\n",
        "<article class=\"message\">\n",
        "    <div class=\"message-body\">\n",
        "        <strong>List of individual tasks</strong>\n",
        "        <ul style=\"list-style: none;\">\n",
        "            <li>\n",
        "            <a href=\"#basis\">Task 1: Identifying Basis Vectors</a>\n",
        "            </li>\n",
        "            <li>\n",
        "            <a href=\"#basis_combined\">Task 2: Basis Transformation and Change of Coord…</a>\n",
        "            </li>\n",
        "            <li>\n",
        "            <a href=\"#basis4\">Task 3: Applying a Linear Transformation in Diff…</a>\n",
        "            </li>\n",
        "            <li>\n",
        "            <a href=\"#basis5\">Task 4: Basis and Dimensionality Check</a>\n",
        "            </li>\n",
        "        </ul>\n",
        "    </div>\n",
        "</article>\n",
        "\n",
        "<article class=\"message task\"><a class=\"anchor\" id=\"basis\"></a>\n",
        "    <div class=\"message-header\">\n",
        "        <span>Task 1: Identifying Basis Vectors</span>\n",
        "        <span class=\"has-text-right\">\n",
        "          <i class=\"bi bi-infinity\"></i><i class=\"bi bi-stoplights easy\"></i>\n",
        "        </span>\n",
        "    </div>\n",
        "<div class=\"message-body\">\n",
        "\n",
        "\n",
        "Given the following bases vectors for $\\mathbb{R}^2$:\n",
        "\n",
        "$$\n",
        "\\begin{array}{l}\n",
        "1. \\left\\{ \\begin{bmatrix} 1 \\\\ 0 \\end{bmatrix}, \\begin{bmatrix} 0 \\\\ 1 \\end{bmatrix} \\right\\} \\\\[12pt]\n",
        "2. \\left\\{ \\begin{bmatrix} 2 \\\\ 3 \\end{bmatrix}, \\begin{bmatrix} -1 \\\\ 2 \\end{bmatrix} \\right\\} \\\\[12pt]\n",
        "3. \\left\\{ \\begin{bmatrix} 1 \\\\ 1 \\end{bmatrix}, \\begin{bmatrix} 2 \\\\ 2 \\end{bmatrix} \\right\\} \\\\\n",
        "\\end{array}\n",
        "$$\n",
        "1. Which of these sets forms a basis for $\\mathbb{R}^2 $? Justify your answer by checking linear independence and spanning the vector space.\n",
        "\n",
        "\n",
        "\n",
        "</div></article>\n",
        "\n",
        ""
      ]
    },
    {
      "cell_type": "code",
      "id": "saLRRcsxEoabKUZy5rh55",
      "metadata": {},
      "source": [
        "# Write solutions here"
      ],
      "execution_count": 0,
      "outputs": []
    },
    {
      "cell_type": "markdown",
      "id": "qGslZFD1PD29xcn5AFGk7",
      "metadata": {},
      "source": [
        "<article class=\"message task\"><a class=\"anchor\" id=\"basis_combined\"></a>\n",
        "    <div class=\"message-header\">\n",
        "        <span>Task 2: Basis Transformation and Change of Coordinates</span>\n",
        "        <span class=\"has-text-right\">\n",
        "          <i class=\"bi bi-infinity\"></i><i class=\"bi bi-stoplights hard\"></i>\n",
        "        </span>\n",
        "    </div>\n",
        "<div class=\"message-body\">\n",
        "\n",
        "\n",
        "Consider three bases in  $\\mathbb{R}^2$:\n",
        "1. The standard basis  \n",
        "$$E = \\left\\{ \\begin{bmatrix} 1 \\\\ 0 \\end{bmatrix}, \\begin{bmatrix} 0 \\\\ 1 \\end{bmatrix} \\right\\}$$\n",
        " \n",
        "2. The basis  \n",
        "$$B   = \\left\\{ \\begin{bmatrix} 1 \\\\ 2 \\end{bmatrix}, \\begin{bmatrix} 2 \\\\ -1 \\end{bmatrix} \\right\\}$$\n",
        " \n",
        "3. The basis  \n",
        "$$C   = \\left\\{ \\begin{bmatrix} 2 \\\\ 1 \\end{bmatrix}, \\begin{bmatrix} 1 \\\\ 3 \\end{bmatrix} \\right\\}$$\n",
        " \n",
        "\n",
        "Given two vectors in the standard basis:\n",
        "\n",
        "$$\n",
        "\\text{v} = \\begin{bmatrix} 3 \\\\ 1 \\end{bmatrix}, \n",
        "\\text{w} = \\begin{bmatrix} 7 \\\\ 6 \\end{bmatrix} \n",
        "$$\n",
        "1. Draw the basis vectors for  $E$,  $B$ , and  $C$ and the vectors $\\text{v}$ and $\\text{w}$  on a piece of paper.\n",
        "\n",
        "2. Express $\\text{v}$ and $\\text{w}$  in the basis  $B$. \n",
        "\n",
        "3. Express $\\text{v}$  and $\\text{w}$  in the basis $C$.\n",
        "\n",
        "4. Find the change of basis matrix  $T_E^B$ that given a vector expressed in the basis  E  maps it to the basis B. \n",
        "\n",
        "5. Find the change of basis matrix  $T_E^C$ that given a vector expressed in the basis  E  maps it to the basis C.\n",
        "\n",
        "6. Use the change of basis matrices to transform  $\\text{v}$ and $\\text{w}$ from standard basis to the basis $B$ and $C$ respectively. Verify that the resulting coordinates match your results from the previous steps.\n",
        "\n",
        "\n",
        "\n",
        "\n",
        "</div></article>\n",
        "\n",
        ""
      ]
    },
    {
      "cell_type": "code",
      "id": "oBWETuUc-bjb9zdsWgWUe",
      "metadata": {},
      "source": [
        "# Write solutions here"
      ],
      "execution_count": 0,
      "outputs": []
    },
    {
      "cell_type": "markdown",
      "id": "SXCHnD0SxA1ILLG06YiTi",
      "metadata": {},
      "source": [
        "<article class=\"message task\"><a class=\"anchor\" id=\"basis4\"></a>\n",
        "    <div class=\"message-header\">\n",
        "        <span>Task 3: Applying a Linear Transformation in Different Bases</span>\n",
        "        <span class=\"has-text-right\">\n",
        "          <i class=\"bi bi-infinity\"></i><i class=\"bi bi-stoplights easy\"></i>\n",
        "        </span>\n",
        "    </div>\n",
        "<div class=\"message-body\">\n",
        "\n",
        "\n",
        "Let $ T: \\mathbb{R}^2 \\to \\mathbb{R}^2 $ be a linear transformation represented by the matrix:\n",
        "\n",
        "$$\n",
        "A = \\begin{bmatrix} 1 & 2 \\\\ 3 & 4 \\end{bmatrix}\n",
        "$$\n",
        "\n",
        "in the standard basis. Let \n",
        "\n",
        "$$\n",
        "B = \\left\\{ \\begin{bmatrix} 1 \\\\ 1 \\end{bmatrix}, \\begin{bmatrix} -1 \\\\ 2 \\end{bmatrix} \\right\\}\n",
        "$$\n",
        " \n",
        "be a new basis.\n",
        "1. Calculate the matrix that represents $ T $ with respect to the basis $ B $. Use the change of basis matrices to show your work.\n",
        "\n",
        "\n",
        "\n",
        "</div></article>\n",
        "\n",
        ""
      ]
    },
    {
      "cell_type": "code",
      "id": "KSKtJSdS_atS89xwnR08P",
      "metadata": {},
      "source": [
        "# Write solutions here"
      ],
      "execution_count": 0,
      "outputs": []
    },
    {
      "cell_type": "markdown",
      "id": "L10PjQLxoaREtgBf4cm_a",
      "metadata": {},
      "source": [
        "<article class=\"message task\"><a class=\"anchor\" id=\"basis5\"></a>\n",
        "    <div class=\"message-header\">\n",
        "        <span>Task 4: Basis and Dimensionality Check</span>\n",
        "        <span class=\"has-text-right\">\n",
        "          <i class=\"bi bi-infinity\"></i><i class=\"bi bi-stoplights easy\"></i>\n",
        "        </span>\n",
        "    </div>\n",
        "<div class=\"message-body\">\n",
        "\n",
        "\n",
        "Suppose $ \\mathbb{R}^3 $ has a basis given by \n",
        "\n",
        "$$\n",
        "B = \\left\\{ \\begin{bmatrix} 1 \\\\ 0 \\\\ 1 \\end{bmatrix}, \\begin{bmatrix} 0 \\\\ 1 \\\\ 1 \\end{bmatrix}, \\begin{bmatrix} 1 \\\\ -1 \\\\ 0 \\end{bmatrix} \\right\\}.\n",
        "$$\n",
        "\n",
        "1. Verify that $ B $ is a basis by showing it spans $ \\mathbb{R}^3 $ and is linearly independent.\n",
        "2. If a fourth vector $ \\begin{bmatrix} 2 \\\\ -1 \\\\ 3 \\end{bmatrix} $ is added to $ B $, does it still form a basis for $ \\mathbb{R}^3 $? Explain your reasoning in terms of dimension.\n",
        "\n",
        "\n",
        "\n",
        "</div></article>\n",
        "\n",
        ""
      ]
    },
    {
      "cell_type": "code",
      "id": "hvxUYw9BjtM5_seNBDSzl",
      "metadata": {},
      "source": [
        "# Write solutions here"
      ],
      "execution_count": 0,
      "outputs": []
    },
    {
      "cell_type": "markdown",
      "id": "amXw-FAf3Kw-VJBpN35CD",
      "metadata": {},
      "source": [
        ""
      ]
    }
  ]
}