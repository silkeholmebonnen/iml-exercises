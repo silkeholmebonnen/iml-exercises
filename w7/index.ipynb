{
  "metadata": {
    "kernelspec": {
      "display_name": "Python",
      "language": "python3",
      "name": "python3"
    },
    "language_info": {
      "codemirror_mode": {
        "name": "ipython",
        "version": 3
      },
      "file_extension": "py",
      "mimetype": "text/x-python",
      "name": "python"
    }
  },
  "nbformat": 4,
  "nbformat_minor": 5,
  "cells": [
    {
      "cell_type": "code",
      "id": "css_setup",
      "metadata": {
        "jupyter": {
          "source_hidden": true
        }
      },
      "source": [
        "import requests\n",
        "from IPython.core.display import HTML\n",
        "HTML(f\"\"\"\n",
        "<style>\n",
        "@import \"https://cdn.jsdelivr.net/npm/bulma@0.9.4/css/bulma.min.css\";\n",
        "</style>\n",
        "\"\"\")"
      ],
      "execution_count": 0,
      "outputs": []
    },
    {
      "cell_type": "markdown",
      "id": "UQBjtjjGZG0B8tjajddMl",
      "metadata": {},
      "source": [
        "# Model selection and descriptive statistics\n",
        "This week you will complete two exercises. The first one is related to descriptive statistics, while the second one is related to cross validation and regularisation.\n",
        "<article class=\"message is-success\">\n",
        "  <div class=\"message-header\">Learning goals</div>\n",
        "  <div class=\"message-body\">\n",
        "  \n",
        "  After this week's exercises, you should be able to:\n",
        "- Train and evaluate linear models with polynomial features.\n",
        "- Reason about the result and reflect upon the model fitting process.\n",
        "\n",
        "\n",
        "  \n",
        "  </div>\n",
        "</article>\n",
        "\n",
        ""
      ]
    }
  ]
}