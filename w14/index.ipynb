{
  "metadata": {
    "kernelspec": {
      "display_name": "Python",
      "language": "python3",
      "name": "python3"
    },
    "language_info": {
      "codemirror_mode": {
        "name": "ipython",
        "version": 3
      },
      "file_extension": "py",
      "mimetype": "text/x-python",
      "name": "python"
    }
  },
  "nbformat": 4,
  "nbformat_minor": 5,
  "cells": [
    {
      "cell_type": "code",
      "id": "css_setup",
      "metadata": {
        "jupyter": {
          "source_hidden": true
        }
      },
      "source": [
        "import requests\n",
        "from IPython.core.display import HTML\n",
        "HTML(f\"\"\"\n",
        "<style>\n",
        "@import \"https://cdn.jsdelivr.net/npm/bulma@0.9.4/css/bulma.min.css\";\n",
        "</style>\n",
        "\"\"\")"
      ],
      "execution_count": 0,
      "outputs": []
    },
    {
      "cell_type": "markdown",
      "id": "NAikBDxshk1lKbe2F8sHs",
      "metadata": {},
      "source": [
        "# Convolutional Neural Networks (CNN's)\n",
        "In the following exercises, Convolutional Neural Networks (CNNs) will be used for multiclass classification with the [PyTorch](https://pytorch.org)\n",
        " library. The objective is to explore CNN architectures, focusing on how network topology and optimization strategies influence performance. The performance of the CNN will be compared to a Multilayer Perceptron (MLP) to determine which architecture is better suited for the Fashion MNIST dataset. Additionally, the concepts of regularization and cross-validation will also be examined.\n",
        "<article class=\"message is-success\">\n",
        "  <div class=\"message-header\">Learning goals</div>\n",
        "  <div class=\"message-body\">\n",
        "  \n",
        "  After this week's exercises, you should be able to:\n",
        "- Experiment with the CNN architecture to better reason about the impact of the different factors involved.\n",
        "- Visually investigate different layers and reason about the effect of different layers  on the prediction. \n",
        "- Evaluate the performance and reason about optimization strategies.\n",
        "- Evaluate the performance and reason about tuning techniques.\n",
        "- Evaluate the performance and discuss advantages and limitations.\n",
        "\n",
        "\n",
        "  \n",
        "  </div>\n",
        "</article>\n",
        "\n",
        ""
      ]
    }
  ]
}