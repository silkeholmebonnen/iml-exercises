{
  "cells": [
    {
      "cell_type": "code",
      "execution_count": null,
      "id": "css_setup",
      "metadata": {
        "jupyter": {
          "source_hidden": true
        }
      },
      "outputs": [],
      "source": [
        "import requests\n",
        "from IPython.core.display import HTML\n",
        "HTML(f\"\"\"\n",
        "<style>\n",
        "@import \"https://cdn.jsdelivr.net/npm/bulma@0.9.4/css/bulma.min.css\";\n",
        "</style>\n",
        "\"\"\")"
      ]
    },
    {
      "cell_type": "markdown",
      "id": "2D9h1oPrzCc-6cxhoZvHt",
      "metadata": {},
      "source": [
        "# Practical introduction to Python and Numpy\n",
        "<article class=\"message\">\n",
        "    <div class=\"message-body\">\n",
        "        <strong>Overview of tasks</strong>\n",
        "        <ul style=\"list-style: none;\">\n",
        "            <li>\n",
        "            <a href=\"#norm\">Task 1: Vector length</a>\n",
        "            </li>\n",
        "            <li>\n",
        "            <a href=\"#comprehensions\">Task 2: List comprehensions</a>\n",
        "            </li>\n",
        "            <li>\n",
        "            <a href=\"#dotproduct\">Task 3: Inner product</a>\n",
        "            </li>\n",
        "            <li>\n",
        "            <a href=\"#indexing\">Task 4: Array indexing</a>\n",
        "            </li>\n",
        "            <li>\n",
        "            <a href=\"#norm_np\">Task 5: Length using numpy</a>\n",
        "            </li>\n",
        "            <li>\n",
        "            <a href=\"#angle\">Task 6: Calculating angles</a>\n",
        "            </li>\n",
        "            <li>\n",
        "            <a href=\"#distances\">Task 7: Distances - continued</a>\n",
        "            </li>\n",
        "        </ul>\n",
        "    </div>\n",
        "</article>\n",
        "\n",
        "## Using native types in Python to implement basic linear algebra operations\n",
        "The vectors `va`\n",
        " and `vb`\n",
        " are defined as:\n"
      ]
    },
    {
      "cell_type": "code",
      "execution_count": 1,
      "id": "LsciBSzOjEn8ziKf6yf2N",
      "metadata": {},
      "outputs": [],
      "source": [
        "va = [2, 2]\n",
        "vb = [3, 4]"
      ]
    },
    {
      "cell_type": "markdown",
      "id": "9g88y6U5JuWamDmB2jtUg",
      "metadata": {},
      "source": [
        "#### Vector length\n",
        "The length (L2-norm) of a vector is defined as\n",
        "\n",
        "$$||v|| = \\sqrt{\\sum_{i=1}^N v_i^2}.$$\n",
        "<article class=\"message task\"><a class=\"anchor\" id=\"norm\"></a>\n",
        "    <div class=\"message-header\">\n",
        "        <span>Task 1: Vector length</span>\n",
        "        <span class=\"has-text-right\">\n",
        "          <i class=\"bi bi-code\"></i><i class=\"bi bi-stoplights easy\"></i>\n",
        "        </span>\n",
        "    </div>\n",
        "<div class=\"message-body\">\n",
        "\n",
        "\n",
        "</div></article>\n",
        "\n"
      ]
    },
    {
      "cell_type": "code",
      "execution_count": 12,
      "id": "x6-5WoSXJUgpDE0WkRwHa",
      "metadata": {},
      "outputs": [
        {
          "name": "stdout",
          "output_type": "stream",
          "text": [
            "a 2.8284271247461903\n",
            "b 5.0\n"
          ]
        }
      ],
      "source": [
        "# L2-norm, or length, of a vector:\n",
        "def length(v):\n",
        "    sum = 0\n",
        "    for i in v:\n",
        "        sum += i**2\n",
        "    return sum**0.5\n",
        "\n",
        "\n",
        "print('a', length(va))\n",
        "print('b', length(vb))\n",
        "assert length(va) == 8**0.5\n",
        "assert length(vb) == 5"
      ]
    },
    {
      "cell_type": "markdown",
      "id": "mvEy2p0Vf1_l1_w7II2ze",
      "metadata": {},
      "source": [
        "#### List comprehensions\n",
        "A list comprehension has the following form\n",
        "```python\n",
        "[f(e) for e in list]\n",
        "```\n",
        "\n",
        "where $f$ is an arbitrary function applied to each element $e$.  This \n",
        "is equivalent to the `map` function in functional programming. \n",
        "\n"
      ]
    },
    {
      "cell_type": "code",
      "execution_count": 13,
      "id": "kwY1fsVVTcvg-Mn57yzI5",
      "metadata": {},
      "outputs": [
        {
          "name": "stdout",
          "output_type": "stream",
          "text": [
            "a 2.8284271247461903\n",
            "b 5.0\n"
          ]
        }
      ],
      "source": [
        "# L2-norm as for comprehension\n",
        "def length2(v):\n",
        "    return sum([e**2 for e in v]) ** 0.5\n",
        "\n",
        "print('a', length2(va))\n",
        "print('b', length2(vb))\n",
        "assert length2(va) == 8**0.5\n",
        "assert length2(vb) == 5"
      ]
    },
    {
      "cell_type": "markdown",
      "id": "LjVjLTnV_6CQ2y5hgageK",
      "metadata": {},
      "source": [
        "\n",
        "The definition of the dot product:\n",
        "\n",
        "$$\n",
        "a\\cdot b = \\sum_{i=1}^N a_ib_i.\n",
        "$$\n",
        "where $a$ and $b$ are $n$-dimensional vectors.\n"
      ]
    },
    {
      "cell_type": "code",
      "execution_count": 11,
      "id": "nkk8IZ_fNFYq9o8-7Mz8V",
      "metadata": {},
      "outputs": [
        {
          "name": "stdout",
          "output_type": "stream",
          "text": [
            "14\n"
          ]
        }
      ],
      "source": [
        "def dot(a, b):\n",
        "    sum = 0\n",
        "    for i, j in zip(a, b):\n",
        "        sum += i * j\n",
        "    print(sum)\n",
        "    return sum\n",
        "\n",
        "# Tests\n",
        "assert dot(va, vb) == 14"
      ]
    },
    {
      "cell_type": "markdown",
      "id": "AZVswHisxuPoZVLZGz8zg",
      "metadata": {},
      "source": [
        "#### Numpy\n",
        "Numpy makes it way easier to work with multidimensional arrays and provides a significant performance increase when operating on arrays.\n",
        "\n"
      ]
    },
    {
      "cell_type": "code",
      "execution_count": 6,
      "id": "PSuOSWfpRkBxWEDq8pTyw",
      "metadata": {},
      "outputs": [],
      "source": [
        "import numpy as np\n",
        "\n",
        "A = np.array([\n",
        "    [1, 2, 3],\n",
        "    [3, 4, 9],\n",
        "    [5, 7, 3]\n",
        "])"
      ]
    },
    {
      "cell_type": "markdown",
      "id": "GxiGT8LKsCLIkfhnTzeJh",
      "metadata": {},
      "source": [
        "Use `A.shape` to get the dimensions (size) of the array.\n"
      ]
    },
    {
      "cell_type": "code",
      "execution_count": 7,
      "id": "Zq5PhtIT9mdZM-BH26_PI",
      "metadata": {},
      "outputs": [
        {
          "data": {
            "text/plain": [
              "(3, 3)"
            ]
          },
          "execution_count": 7,
          "metadata": {},
          "output_type": "execute_result"
        }
      ],
      "source": [
        "A.shape"
      ]
    },
    {
      "cell_type": "markdown",
      "id": "i16PO6XER7yTnEsQi5M_I",
      "metadata": {},
      "source": [
        "## Slicing\n",
        "Slicing allows you to select a subarray of elements using the `<start>:<stop>`\n",
        " notation, e.g. `0:2`\n",
        ". Inspect the code cell below for a few examples:\n"
      ]
    },
    {
      "cell_type": "code",
      "execution_count": 9,
      "id": "rJKqx2jNZjLctxaDSLhzY",
      "metadata": {},
      "outputs": [
        {
          "name": "stdout",
          "output_type": "stream",
          "text": [
            "A [[1 2 3]\n",
            " [3 4 9]\n",
            " [5 7 3]]\n",
            "single element [1 2 3]\n",
            "vector of elements [2 4]\n",
            "matrix of elements\n",
            " [[1 2]\n",
            " [3 4]\n",
            " [5 7]]\n"
          ]
        }
      ],
      "source": [
        "print('A', A)\n",
        "\n",
        "single = A[0]\n",
        "print('single element', single)\n",
        "\n",
        "vector = A[:2, 1] # 0's can be ommitted.\n",
        "print('vector of elements', vector)\n",
        "\n",
        "matrix = A[:, :2]\n",
        "print('matrix of elements\\n', matrix)"
      ]
    },
    {
      "cell_type": "markdown",
      "id": "u0xHTSwNcdE6FPy8YVPsa",
      "metadata": {},
      "source": [
        "Negative indices are equivalent to counting backwards from the end of the array, i.e. `-<idx>`\n",
        "\n",
        "is equivalent to `len(a)-<idx>`\n",
        ". A few examples:\n"
      ]
    },
    {
      "cell_type": "code",
      "execution_count": 16,
      "id": "ZJtr4bUYcokL8F9p8XnW5",
      "metadata": {},
      "outputs": [
        {
          "name": "stdout",
          "output_type": "stream",
          "text": [
            "A [[1 2 3]\n",
            " [3 4 9]\n",
            " [5 7 3]] \n",
            "\n",
            "single 3\n",
            "arange [[1 2]]\n"
          ]
        }
      ],
      "source": [
        "print('A', A, '\\n')\n",
        "\n",
        "single = A[-1, -1]\n",
        "print('single', single)\n",
        "\n",
        "arange = A[0:-2, 0:-1]\n",
        "print('arange', arange)"
      ]
    },
    {
      "cell_type": "markdown",
      "id": "kvMp4-M80I_uoEdfNr6SA",
      "metadata": {},
      "source": [
        "\n",
        "\n"
      ]
    },
    {
      "cell_type": "code",
      "execution_count": 17,
      "id": "pesGjLx1-UdIDnjqbGT51",
      "metadata": {},
      "outputs": [
        {
          "name": "stdout",
          "output_type": "stream",
          "text": [
            "upper right\n",
            " [[2 3]\n",
            " [4 9]]\n",
            "row [3 4 9]\n",
            "column [1 3 5]\n"
          ]
        }
      ],
      "source": [
        "ur = A[:2, 1:]\n",
        "row = A[1]\n",
        "col = A[:, 0]\n",
        "\n",
        "print('upper right\\n', ur)\n",
        "print('row', row)\n",
        "print('column', col)\n",
        "\n",
        "# Tests\n",
        "assert np.all(ur == np.array([[2, 3], [4, 9]]))\n",
        "assert np.all(row == np.array([3, 4, 9]))\n",
        "assert np.all(col == np.array([1, 3, 5]))"
      ]
    },
    {
      "cell_type": "markdown",
      "id": "WYSx9gwGPLYkQEEljBjbB",
      "metadata": {},
      "source": [
        "---\n",
        "## Use Numpy when possible, it's faster.\n"
      ]
    },
    {
      "cell_type": "code",
      "execution_count": 18,
      "id": "dh3L_2oYKbiGa_UOcoDx2",
      "metadata": {},
      "outputs": [],
      "source": [
        "ta = np.random.randint(100, size=1000000)\n",
        "tb = np.random.randint(100, size=1000000)"
      ]
    },
    {
      "cell_type": "code",
      "execution_count": 21,
      "id": "GWOTunhLal4z0JzGA-R8P",
      "metadata": {},
      "outputs": [
        {
          "data": {
            "text/plain": [
              "np.float64(7.3484692283495345)"
            ]
          },
          "execution_count": 21,
          "metadata": {},
          "output_type": "execute_result"
        }
      ],
      "source": [
        "def length_np(v):\n",
        "    return np.sum(v**2)**0.5\n",
        "\n",
        "vec = np.array([2, 3, 4, 5])\n",
        "length_np(vec)"
      ]
    },
    {
      "cell_type": "markdown",
      "id": "HrdfUIp9J0aYLJ5apmfj0",
      "metadata": {},
      "source": [
        "Compare the Python and Numpy implementations using an array of random numbers:\n"
      ]
    },
    {
      "cell_type": "code",
      "execution_count": 22,
      "id": "OE9iTeehCE197sfcxBTiL",
      "metadata": {},
      "outputs": [
        {
          "name": "stdout",
          "output_type": "stream",
          "text": [
            "7.69 μs ± 119 ns per loop (mean ± std. dev. of 7 runs, 100,000 loops each)\n",
            "690 μs ± 18.2 μs per loop (mean ± std. dev. of 7 runs, 1,000 loops each)\n",
            "719 μs ± 11.5 μs per loop (mean ± std. dev. of 7 runs, 1,000 loops each)\n"
          ]
        }
      ],
      "source": [
        "vr = np.random.randint(100, size=10000)\n",
        "\n",
        "%timeit length_np(vr)\n",
        "%timeit length(vr)\n",
        "%timeit length2(vr)"
      ]
    },
    {
      "cell_type": "markdown",
      "id": "u0CDApUQXfEajn46c0u0U",
      "metadata": {},
      "source": [
        "\n",
        "### Angles between vectors\n",
        "The angle between vectors $\\mathbf{u}$ and $\\mathbf{v}$ is described by the following relation (as will be presented in the lecture):\n",
        "\n",
        "$$\n",
        "\\cos \\theta = \\frac{\\mathbf{u}\\cdot \\mathbf{v}}{\\|\\mathbf{u}\\|\\|\\mathbf{v}\\|}\n",
        "$$\n",
        "or equivalently \n",
        "\n",
        "$$\n",
        "\\mathbf{u}\\cdot \\mathbf{v} = |\\mathbf{u}\\|\\|\\mathbf{v}\\|\\cos \\theta \n",
        "$$\n"
      ]
    },
    {
      "cell_type": "code",
      "execution_count": 23,
      "id": "Zf4_PpWoS5o_N-FpXfX10",
      "metadata": {},
      "outputs": [
        {
          "name": "stdout",
          "output_type": "stream",
          "text": [
            "1.1426035712129559\n"
          ]
        }
      ],
      "source": [
        "def angle(a, b):\n",
        "    return np.arccos(np.dot(a,b)/(length_np(a)*length_np(b)))\n",
        "\n",
        "a = np.array([2, 3, 4])\n",
        "b = np.array([0, -1, 2])\n",
        "print(angle(a, b)) # The result should be: 1.1426035712129559\n",
        "assert angle(a, b) == 1.1426035712129559"
      ]
    },
    {
      "cell_type": "markdown",
      "id": "WEYZBnRXiURCTcSWa31ir",
      "metadata": {},
      "source": [
        "## Distances\n",
        "The Euclidean distance between two vectors $\\mathbf{a}$ and $\\mathbf{b}$ is calculated as the length of the difference vector between $\\mathbf{a}$ and $\\mathbf{b}$, i.e. $\\|\\mathbf{a}-\\mathbf{b}\\|$.\n",
        "<article class=\"message task\"><a class=\"anchor\" id=\"distances\"></a>\n",
        "    <div class=\"message-header\">\n",
        "        <span>Task 7: Distances</span>\n",
        "        <span class=\"has-text-right\">\n",
        "          <i class=\"bi bi-code\"></i><i class=\"bi bi-stoplights medium\"></i>\n",
        "        </span>\n",
        "    </div>\n",
        "<div class=\"message-body\">\n",
        "\n",
        "\n",
        "1. Use the code cell below to create two-dimensional vectors $\\mathbf{a}=\\begin{bmatrix}0\\\\0\\end{bmatrix}$ and $\\mathbf{b}=\\begin{bmatrix}1\\\\1\\end{bmatrix}$ using `np.zeros`\n",
        " and `np.ones`\n",
        " (refer to the tutorial for inspiration).\n",
        "2. Calculate the distance between the points and print the result.\n",
        "3. Create n-dimensional vectors $\\mathbf{a}=\\begin{bmatrix}0\\\\\\vdots\\\\0\\end{bmatrix}$ and $\\mathbf{b}=\\begin{bmatrix}1\\\\\\vdots\\\\1\\end{bmatrix}$ using `np.zeros`\n",
        " and `np.ones`\n",
        " (refer to the tutorial for inspiration) for $n=1, \\dots, 10$. Calculate the distance between the vectors for each number of dimensions. Plot the distances as a function of $n$.\n",
        "\n",
        "\n",
        "\n",
        "</div></article>\n",
        "\n"
      ]
    },
    {
      "cell_type": "code",
      "execution_count": 25,
      "id": "LlnBN39xTbqK_J44rXeUn",
      "metadata": {},
      "outputs": [
        {
          "name": "stdout",
          "output_type": "stream",
          "text": [
            "1.4142135623730951\n"
          ]
        },
        {
          "data": {
            "image/png": "[encoded data removed]",
            "text/plain": [
              "<Figure size 640x480 with 1 Axes>"
            ]
          },
          "metadata": {},
          "output_type": "display_data"
        }
      ],
      "source": [
        "# Write your solution here\n",
        "import matplotlib.pyplot as plt\n",
        "\n",
        "a = np.zeros(2)\n",
        "b = np.ones(2)\n",
        "print(length_np(a-b))\n",
        "\n",
        "l = [length_np(np.zeros(i) - np.ones(i)) for i in range(1,11)]\n",
        "\n",
        "plt.plot(range(1,11),l)\n",
        "plt.grid(True)\n",
        "plt.show()\n"
      ]
    },
    {
      "cell_type": "markdown",
      "id": "mKGr2xXnD4kENlBqXIEny",
      "metadata": {},
      "source": [
        "<article class=\"message task\"><a class=\"anchor\" id=\"distances\"></a>\n",
        "    <div class=\"message-header\">\n",
        "        <span>Task 8: Distances - continued</span>\n",
        "        <span class=\"has-text-right\">\n",
        "          <i class=\"bi bi-lightbulb-fill\"></i><i class=\"bi bi-stoplights medium\"></i>\n",
        "        </span>\n",
        "    </div>\n",
        "<div class=\"message-body\">\n",
        "\n",
        "\n",
        "This task extends on the previous exercise.\n",
        "1. Explain the relationship in the figure between the number of dimensions and the distance.\n",
        "2. Derive a formula for the distance between $\\mathbf{a}$ and $\\mathbf{b}$ as a function of the number of dimensions $n$, i.e. $f(n)=?$\n",
        "\n",
        "\n",
        "\n",
        "</div></article>\n",
        "\n"
      ]
    }
  ],
  "metadata": {
    "kernelspec": {
      "display_name": "iml",
      "language": "python",
      "name": "python3"
    },
    "language_info": {
      "codemirror_mode": {
        "name": "ipython",
        "version": 3
      },
      "file_extension": ".py",
      "mimetype": "text/x-python",
      "name": "python",
      "nbconvert_exporter": "python",
      "pygments_lexer": "ipython3",
      "version": "3.10.14"
    }
  },
  "nbformat": 4,
  "nbformat_minor": 5
}
