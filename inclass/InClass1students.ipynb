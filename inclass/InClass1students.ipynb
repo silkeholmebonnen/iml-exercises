{
  "metadata": {
    "kernelspec": {
      "display_name": "Python",
      "language": "python3",
      "name": "python3"
    },
    "language_info": {
      "codemirror_mode": {
        "name": "ipython",
        "version": 3
      },
      "file_extension": "py",
      "mimetype": "text/x-python",
      "name": "python"
    }
  },
  "nbformat": 4,
  "nbformat_minor": 5,
  "cells": [
    {
      "cell_type": "code",
      "id": "css_setup",
      "metadata": {
        "jupyter": {
          "source_hidden": true
        }
      },
      "source": [
        "import requests\n",
        "from IPython.core.display import HTML\n",
        "HTML(f\"\"\"\n",
        "<style>\n",
        "@import \"https://cdn.jsdelivr.net/npm/bulma@0.9.4/css/bulma.min.css\";\n",
        "</style>\n",
        "\"\"\")"
      ],
      "execution_count": 0,
      "outputs": []
    },
    {
      "cell_type": "markdown",
      "id": "SUzwfS4JvJjj2eZse26Lz",
      "metadata": {},
      "source": [
        "# In-class - Week 1\n",
        "\n",
        "<article class=\"message\">\n",
        "    <div class=\"message-body\">\n",
        "        <strong>Overview of tasks</strong>\n",
        "        <ul style=\"list-style: none;\">\n",
        "            <li>\n",
        "            <a href=\"#dist\">Task 1: Distances and inner products</a>\n",
        "            </li>\n",
        "            <li>\n",
        "            <a href=\"#eval\">Task 2: Evaluating models</a>\n",
        "            </li>\n",
        "            <li>\n",
        "            <a href=\"#modeleq\">Task 3: Model equations</a>\n",
        "            </li>\n",
        "        </ul>\n",
        "    </div>\n",
        "</article>\n",
        "\n",
        "<article class=\"message task\"><a class=\"anchor\" id=\"dist\"></a>\n",
        "    <div class=\"message-header\">\n",
        "        <span>Task 1: Distances and inner products</span>\n",
        "        <span class=\"has-text-right\">\n",
        "          <i class=\"bi bi-lightbulb-fill\"></i><i class=\"bi bi-stoplights easy\"></i>\n",
        "        </span>\n",
        "    </div>\n",
        "<div class=\"message-body\">\n",
        "\n",
        "\n",
        "Exercise 1 - go to grasple W01\n",
        "\n",
        "\n",
        "</div></article>\n",
        "\n",
        "<article class=\"message task\"><a class=\"anchor\" id=\"eval\"></a>\n",
        "    <div class=\"message-header\">\n",
        "        <span>Task 2: Evaluating models</span>\n",
        "        <span class=\"has-text-right\">\n",
        "          <i class=\"bi bi-lightbulb-fill\"></i><i class=\"bi bi-stoplights easy\"></i>\n",
        "        </span>\n",
        "    </div>\n",
        "<div class=\"message-body\">\n",
        "\n",
        "\n",
        "Exercise 2 - go to grasple W01 \n",
        "\n",
        "\n",
        "</div></article>\n",
        "\n",
        "<article class=\"message task\"><a class=\"anchor\" id=\"modeleq\"></a>\n",
        "    <div class=\"message-header\">\n",
        "        <span>Task 3: Model equations</span>\n",
        "        <span class=\"has-text-right\">\n",
        "          <i class=\"bi bi-lightbulb-fill\"></i><i class=\"bi bi-stoplights easy\"></i>\n",
        "        </span>\n",
        "    </div>\n",
        "<div class=\"message-body\">\n",
        "\n",
        "\n",
        "Exercise 3 - go to grasple W01\n",
        "\n",
        "\n",
        "</div></article>\n",
        "\n",
        ""
      ]
    }
  ]
}