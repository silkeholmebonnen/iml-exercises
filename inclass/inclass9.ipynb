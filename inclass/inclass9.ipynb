{
  "metadata": {
    "kernelspec": {
      "display_name": "Python",
      "language": "python3",
      "name": "python3"
    },
    "language_info": {
      "codemirror_mode": {
        "name": "ipython",
        "version": 3
      },
      "file_extension": "py",
      "mimetype": "text/x-python",
      "name": "python"
    }
  },
  "nbformat": 4,
  "nbformat_minor": 5,
  "cells": [
    {
      "cell_type": "code",
      "id": "css_setup",
      "metadata": {
        "jupyter": {
          "source_hidden": true
        }
      },
      "source": [
        "import requests\n",
        "from IPython.core.display import HTML\n",
        "HTML(f\"\"\"\n",
        "<style>\n",
        "@import \"https://cdn.jsdelivr.net/npm/bulma@0.9.4/css/bulma.min.css\";\n",
        "</style>\n",
        "\"\"\")"
      ],
      "execution_count": 0,
      "outputs": []
    },
    {
      "cell_type": "markdown",
      "id": "coisO4ghgpOjimE12S2TU",
      "metadata": {},
      "source": [
        "# Principal Component Analysis (PCA)\n",
        "In this in-class exercise you will be guided through the steps necessary for implementing a PCA on a sequence of human poses. You will work with the poses data, which was used for the exercises in week 2\n",
        ". The dataset has a shape of $(1403, 100, 25*2)$. This means that there are 1403 pose sequences. Each sequence is a 100-frames time series capturing human poses. Each pose consists of 25 skeletal joints, where each joint is an x and y coordinate ($25*2$). For this exercise, you will use a single pose sequence of 100 frames and apply dimension reduction to the selected sequence. \n",
        "The following cells loads the libraries, the dataset and provides functions for plotting the poses:\n",
        ""
      ]
    },
    {
      "cell_type": "code",
      "id": "7UZ6paUKf8akyHj0XXKSg",
      "metadata": {},
      "source": [
        "import numpy as np\n",
        "import matplotlib.pyplot as plt\n",
        "import warnings\n",
        "import seaborn as sns\n",
        "from pca_utils import *\n",
        "\n",
        "# Suppress the specific warning\n",
        "warnings.filterwarnings(\"ignore\")"
      ],
      "execution_count": 0,
      "outputs": []
    },
    {
      "cell_type": "markdown",
      "id": "QOeoEbZlvNG3HbgHqRjj0",
      "metadata": {},
      "source": [
        "## 1. Data inspection\n",
        "The cell below:\n",
        "1. Loads the data and constructs the data matrix.\n",
        "2. Reshapes the data into a $100x50$ data-matrix where each row contains a flattened vector of a pose.\n",
        "3. Selects the first 40 frames from a single pose sequence and plot it.\n",
        "\n",
        "<article class=\"message task\"><a class=\"anchor\" id=\"loading\"></a>\n",
        "    <div class=\"message-header\">\n",
        "        <span>Task 1: Loading and inspecting the data</span>\n",
        "        <span class=\"has-text-right\">\n",
        "          <i class=\"bi bi-code\"></i><i class=\"bi bi-stoplights easy\"></i>\n",
        "        </span>\n",
        "    </div>\n",
        "<div class=\"message-body\">\n",
        "\n",
        "\n",
        "1. Run the code cell below.\n",
        "2. Change the code to display the sequences 4,5,7 and visually observe how these sequences vary. \n",
        "\n",
        "\n",
        "\n",
        "</div></article>\n",
        "\n",
        ""
      ]
    },
    {
      "cell_type": "code",
      "id": "udQXJbb2whOnFxVTQjEb-",
      "metadata": {},
      "source": [
        "data = np.load('poses_norm.npy')\n",
        "print(data.shape)\n",
        "N,T,D,C = data.shape\n",
        "reshaped_data = data.reshape(N,T,D*C)\n",
        "dataset = reshaped_data[19]\n",
        "print(reshaped_data.shape)\n",
        "\n",
        "# Define the new desired shape (40, 50)\n",
        "nr_of_frames=40\n",
        "new_shape = (nr_of_frames, 50)\n",
        "# Reshape the array to the new shape\n",
        "reshaped_data2 = np.empty(new_shape)  # Create an empty array with the new shape\n",
        "reshaped_data2[:] = dataset[:new_shape[0], :]  \n",
        "\n",
        "plot_single_sequence(reshaped_data2,pose_name='Pose',color='blue')"
      ],
      "execution_count": 0,
      "outputs": []
    },
    {
      "cell_type": "markdown",
      "id": "w8p9ZRrPwpZMShbNTpu_w",
      "metadata": {},
      "source": [
        "## 2. Covariance matrix\n",
        "In the following tasks you will construct and inspect the covariance matrix for a given pose sequence. \n",
        "<article class=\"message task\"><a class=\"anchor\" id=\"covariance3\"></a>\n",
        "    <div class=\"message-header\">\n",
        "        <span>Task 2: Covariance matrix - NumPy method</span>\n",
        "        <span class=\"has-text-right\">\n",
        "          <i class=\"bi bi-code\"></i><i class=\"bi bi-stoplights easy\"></i>\n",
        "        </span>\n",
        "    </div>\n",
        "<div class=\"message-body\">\n",
        "\n",
        "\n",
        "1. Run the cell below to obtain and plot the covariance matrix. \n",
        "2. What does the heatmap tell us about the relationship between the variables (skeletal joint coordinates)? \n",
        "\n",
        "\n",
        "\n",
        "</div></article>\n",
        "\n",
        ""
      ]
    },
    {
      "cell_type": "code",
      "id": "qFVdYDQGEqjnTc8m7TtI4",
      "metadata": {},
      "source": [
        "# Calculate the covariance matrix for the entire dataset\n",
        "cov_matrix = np.cov(dataset, rowvar=False)\n",
        "# Plotting\n",
        "sns.heatmap(cov_matrix, cmap='coolwarm')"
      ],
      "execution_count": 0,
      "outputs": []
    },
    {
      "cell_type": "markdown",
      "id": "gjFQOS3k3iYeSRUYm6b6a",
      "metadata": {},
      "source": [
        "Currently, the dataset is organized by frames, with each frame having alternating x and y coordinates in the order:  $[x_1, y_1, x_2, y_2, \\dots, x_{25}, y_{25}]$. The cell below rearranges the data for illustrative purposes, grouping all x-coordinates first, followed by all y-coordinates: $[x_1, x_2, \\dots, x_{25}, y_1, y_2, \\dots, y_{25}]$.\n",
        ""
      ]
    },
    {
      "cell_type": "code",
      "id": "nQtCgPUHTbreSnhs9DGWm",
      "metadata": {},
      "source": [
        "# Get the number of rows and columns in the dataset\n",
        "num_rows, num_columns = dataset.shape\n",
        "\n",
        "# Separate even and odd columns\n",
        "even_indexes = np.arange(0, num_columns, 2)  # Even indexes (0, 2, 4, ...)\n",
        "odd_indexes = np.arange(1, num_columns, 2)   # Odd indexes (1, 3, 5, ...)\n",
        "\n",
        "# Rearrange the dataset\n",
        "rearranged_dataset = dataset[:, np.concatenate((even_indexes, odd_indexes))]"
      ],
      "execution_count": 0,
      "outputs": []
    },
    {
      "cell_type": "markdown",
      "id": "OrfWrCHKRLeuHIug1ad-M",
      "metadata": {},
      "source": [
        "<article class=\"message task\"><a class=\"anchor\" id=\"covariance3\"></a>\n",
        "    <div class=\"message-header\">\n",
        "        <span>Task 3: Covariance matrix - rearranged data</span>\n",
        "        <span class=\"has-text-right\">\n",
        "          <i class=\"bi bi-code\"></i><i class=\"bi bi-stoplights easy\"></i>\n",
        "        </span>\n",
        "    </div>\n",
        "<div class=\"message-body\">\n",
        "\n",
        "\n",
        "1. Run the cell below to obtain and plot the covariance matrix of the rearranged data. \n",
        "\n",
        "\n",
        "\n",
        "</div></article>\n",
        "\n",
        ""
      ]
    },
    {
      "cell_type": "code",
      "id": "Wqq3WTDilFobet_6qvu6Y",
      "metadata": {},
      "source": [
        "cov_matrix = np.cov(rearranged_dataset, rowvar=False)\n",
        "sns.heatmap(cov_matrix, cmap='coolwarm')"
      ],
      "execution_count": 0,
      "outputs": []
    },
    {
      "cell_type": "markdown",
      "id": "Az-y85wmrOXdeuMBuAko0",
      "metadata": {},
      "source": [
        "<article class=\"message task\"><a class=\"anchor\" id=\"covariance2\"></a>\n",
        "    <div class=\"message-header\">\n",
        "        <span>Task 4: Implement your own covariance matrix <em>(optional)</em></span>\n",
        "        <span class=\"has-text-right\">\n",
        "          <i class=\"bi bi-code\"></i><i class=\"bi bi-stoplights medium\"></i>\n",
        "        </span>\n",
        "    </div>\n",
        "<div class=\"message-body\">\n",
        "\n",
        "\n",
        "The following task should only be completed if you have extra time and want to try constructing the covariance matrix yourself. Use the `rearranged_dataset`\n",
        " to:\n",
        "1. Construct the covariance matrix $\\mathbf{C}$:\n",
        "\n",
        "\n",
        "$$\n",
        "\n",
        "\\mathbf{C} = \\frac{1}{N} \\sum_{i=1}^{N} (\\mathbf{x}_i - \\boldsymbol{\\bar{x}})(\\mathbf{x}_i - \\boldsymbol{\\bar{x}})^\\top\n",
        "\n",
        "$$\n",
        "where $\\mathbf{x}_i$ represents the $i$-th coordinate in the dataset and $\\boldsymbol{\\bar{x}}$ is the mean vector obtained by averaging the coordinates for each joint $\\boldsymbol{\\bar{x}} = \\frac{1}{N} \\sum_{i=1}^{N} \\mathbf{x}_i$\n",
        "<article class=\"message is-warning\">\n",
        "  <div class=\"message-header\">Hint</div>\n",
        "  <div class=\"message-body\">\n",
        "\n",
        "  To center the data first calculate the mean vector, then subtract it from each data point of the pose sequence.\n",
        "\n",
        "\n",
        "  </div>\n",
        "</article>\n",
        "2. Create a heatmap of the covariance matrix.\n",
        "3. Compare the covariance matrix obtained in this task to the one obtained in the previous task. How and why are they similar/different?\n",
        "\n",
        "\n",
        "\n",
        "</div></article>\n",
        "\n",
        ""
      ]
    },
    {
      "cell_type": "code",
      "id": "Y8b4d7fb_WsIvgjFbJ6Ft",
      "metadata": {},
      "source": [
        "# write your solution here"
      ],
      "execution_count": 0,
      "outputs": []
    },
    {
      "cell_type": "markdown",
      "id": "YKVd6wpBDNJI5QgnCm44X",
      "metadata": {},
      "source": [
        "<article class=\"message task\"><a class=\"anchor\" id=\"covariance4\"></a>\n",
        "    <div class=\"message-header\">\n",
        "        <span>Task 5: Reflection <em>(optional)</em></span>\n",
        "        <span class=\"has-text-right\">\n",
        "          <i class=\"bi bi-lightbulb-fill\"></i><i class=\"bi bi-stoplights easy\"></i>\n",
        "        </span>\n",
        "    </div>\n",
        "<div class=\"message-body\">\n",
        "\n",
        "\n",
        "1. How would you change the above pipeline for obtaining the covariance matrix for all of the 1403 pose sequences? \n",
        "\n",
        "\n",
        "\n",
        "</div></article>\n",
        "\n",
        "## 3. Eigenvalues and eigenvectors\n",
        "The following steps involve implementing the eigen decomposition of the covariance matrix.\n",
        "<article class=\"message task\"><a class=\"anchor\" id=\"covariance_pos\"></a>\n",
        "    <div class=\"message-header\">\n",
        "        <span>Task 6: Eigen decomposition</span>\n",
        "        <span class=\"has-text-right\">\n",
        "          <i class=\"bi bi-code\"></i><i class=\"bi bi-stoplights easy\"></i>\n",
        "        </span>\n",
        "    </div>\n",
        "<div class=\"message-body\">\n",
        "\n",
        "\n",
        "1. Run the cell below to find the eigenvalues and eigenvectors of the covariance matrix.\n",
        "2. Plot the eigenvalues as in the plot below.\n",
        "\n",
        "\n",
        "\n",
        "</div></article>\n",
        "\n",
        ""
      ]
    },
    {
      "cell_type": "code",
      "id": "cHuBePRRDvuOz0QwEIM9W",
      "metadata": {},
      "source": [
        "eigenvalues, eigenvectors = np.linalg.eigh(cov_matrix)\n",
        "\n",
        "# write your solution here"
      ],
      "execution_count": 0,
      "outputs": []
    },
    {
      "cell_type": "markdown",
      "id": "kaOYPs2Yg6cyFY8f6dInj",
      "metadata": {},
      "source": [
        "<article class=\"message task\"><a class=\"anchor\" id=\"covariance_pos2\"></a>\n",
        "    <div class=\"message-header\">\n",
        "        <span>Task 7: Properties of eigenvalues and eigenvectors</span>\n",
        "        <span class=\"has-text-right\">\n",
        "          <i class=\"bi bi-code\"></i><i class=\"bi bi-stoplights easy\"></i>\n",
        "        </span>\n",
        "    </div>\n",
        "<div class=\"message-body\">\n",
        "\n",
        "\n",
        "1. Determine whether all of the eigenvalues are non-negative (greater than or equal to 0)\n",
        "2. Verify that the obtained eigenvectors are orthogonal. An efficient way is to use the definition of an orthonormal matrix ($A^ \\top A=I$). Alternatively, you can verify them individually.\n",
        "\n",
        "<article class=\"message is-warning\">\n",
        "  <div class=\"message-header\">Hint</div>\n",
        "  <div class=\"message-body\">\n",
        "\n",
        "  Notice that the values may be slightly imprecise due to the finite precision of numerical representations. You can use `np.isclose`\n",
        " to check whether two values are close to each other or not.\n",
        "\n",
        "\n",
        "  </div>\n",
        "</article>\n",
        "3. What is the total variance of the dataset? \n",
        "\n",
        "<article class=\"message is-warning\">\n",
        "  <div class=\"message-header\">Hint</div>\n",
        "  <div class=\"message-body\">\n",
        "\n",
        "  The sum of all eigenvalues should equal the total variance in the original data, however due to numerical imprecision you might get slightly different values.\n",
        "\n",
        "\n",
        "  </div>\n",
        "</article>\n",
        "\n",
        "\n",
        "</div></article>\n",
        "\n",
        ""
      ]
    },
    {
      "cell_type": "code",
      "id": "-mF-2uXENPluBpBbvlJ69",
      "metadata": {},
      "source": [
        "# Write your solution here"
      ],
      "execution_count": 0,
      "outputs": []
    },
    {
      "cell_type": "markdown",
      "id": "r9Bn6MiwFem5u67aJaKLO",
      "metadata": {},
      "source": [
        "<article class=\"message task\"><a class=\"anchor\" id=\"eigen_sort\"></a>\n",
        "    <div class=\"message-header\">\n",
        "        <span>Task 8: Sorting Eigenvalues and Eigenvectors</span>\n",
        "        <span class=\"has-text-right\">\n",
        "          <i class=\"bi bi-code\"></i><i class=\"bi bi-stoplights easy\"></i>\n",
        "        </span>\n",
        "    </div>\n",
        "<div class=\"message-body\">\n",
        "\n",
        "\n",
        "1. Use [np.argsort](https://numpy.org/doc/stable/reference/generated/numpy.argsort.html)\n",
        " to get the list of permutation indices of the eigenvalues in descending order, then sort them. \n",
        "2. Use the list of indices to sort the eigenvectors based on the eigenvalues. \n",
        "3. Plot the sorted eigenvalues. The plot should have a similar shape as the figure below.\n",
        "\n",
        "\n",
        "\n",
        "</div></article>\n",
        "\n",
        ""
      ]
    },
    {
      "cell_type": "code",
      "id": "YFcOdHkgyr1mJl3ckXU0p",
      "metadata": {},
      "source": [
        "# Write your solution here"
      ],
      "execution_count": 0,
      "outputs": []
    },
    {
      "cell_type": "markdown",
      "id": "28Ichct6nyUaSLdP7OKKf",
      "metadata": {},
      "source": [
        "<article class=\"message is-info\">\n",
        "  <div class=\"message-header\">Info</div>\n",
        "  <div class=\"message-body\">\n",
        "\n",
        "  We can chose to retain a certain percentage of the total variation by selecting the number of principal components where the sum of the eigenvalues correspond to the desired variance. It is convenient to calculate the acummulative sum of the eigenvalues (sum of the variances) to easily determine the number of components needed for retaining a certain percentage of the total variance. This can be achieved using the [`cumsum`\n",
        "](https://numpy.org/doc/stable/reference/generated/numpy.cumsum.html)\n",
        " function. \n",
        "\n",
        "\n",
        "  </div>\n",
        "</article>\n",
        "<article class=\"message task\"><a class=\"anchor\" id=\"eigen_select\"></a>\n",
        "    <div class=\"message-header\">\n",
        "        <span>Task 9: Retain variance</span>\n",
        "        <span class=\"has-text-right\">\n",
        "          <i class=\"bi bi-code\"></i><i class=\"bi bi-stoplights easy\"></i>\n",
        "        </span>\n",
        "    </div>\n",
        "<div class=\"message-body\">\n",
        "\n",
        "\n",
        "Run the cell below to calculate the normalized cumulative explained variance.\n",
        "1. Plot the cumulative variance as in the figure below.\n",
        "2. How many components are needed to retain: $50$%, $80$%, $90$%, $95$% of the variation\n",
        "3. For the following tasks, select $k$ such that $95$% of the variation is retained.\n",
        "\n",
        "\n",
        "\n",
        "</div></article>\n",
        "\n",
        ""
      ]
    },
    {
      "cell_type": "code",
      "id": "2Z6TUpcNoJMQCepOOTZe5",
      "metadata": {},
      "source": [
        "cumulative_variance_ratio = np.cumsum(sorted_eigenvalues) / np.sum(sorted_eigenvalues)\n",
        "\n",
        "# Write your solution here"
      ],
      "execution_count": 0,
      "outputs": []
    },
    {
      "cell_type": "markdown",
      "id": "ceqyNzOLk_uBEroyj0jPR",
      "metadata": {},
      "source": [
        "# PCA - In-class week 2\n",
        "## 4. Mixing parameters\n",
        "The following section describes how much each variable contributes to the selected principal components:\n",
        "<article class=\"message task\"><a class=\"anchor\" id=\"loadings_find\"></a>\n",
        "    <div class=\"message-header\">\n",
        "        <span>Task 10: Mixing parameters</span>\n",
        "        <span class=\"has-text-right\">\n",
        "          <i class=\"bi bi-code\"></i><i class=\"bi bi-stoplights medium\"></i>\n",
        "        </span>\n",
        "    </div>\n",
        "<div class=\"message-body\">\n",
        "\n",
        "\n",
        "1. Change the cell below to construct the orthonormal $\\Phi$ matrix containing the first $k = 9$ eigenvectors, where:\n",
        "\n",
        "\n",
        "$$\n",
        "{\\Phi} = \n",
        "\\begin{bmatrix}\n",
        "    | & | & \\cdots & | \\\\\n",
        "    \\Phi_1 & \\Phi_2 & \\cdots & \\Phi_9 \\\\\n",
        "    | & | & \\cdots & |\n",
        "\\end{bmatrix}\n",
        "$$\n",
        "2. Define the mixing parameters $m_i = \\sqrt{\\lambda_i} \\Phi_{i} $, where $\\Phi_{i}$ represents the $i$-th column of $\\Phi$ (the selected eigenvectors) and $\\lambda_i$ represents the corresponding eigenvalue. \n",
        "\n",
        "\n",
        "\n",
        "</div></article>\n",
        "\n",
        ""
      ]
    },
    {
      "cell_type": "code",
      "id": "MLdxkkN32t2W9hc2zNCZo",
      "metadata": {},
      "source": [
        "# Write your solution here\n",
        "\n",
        "\n",
        "print(mixing_params.shape)"
      ],
      "execution_count": 0,
      "outputs": []
    },
    {
      "cell_type": "markdown",
      "id": "wURUrx9ibXWLvw1TiImto",
      "metadata": {},
      "source": [
        "<article class=\"message task\"><a class=\"anchor\" id=\"loadings_plot\"></a>\n",
        "    <div class=\"message-header\">\n",
        "        <span>Task 11: Plot the mixing parameters</span>\n",
        "        <span class=\"has-text-right\">\n",
        "          <i class=\"bi bi-lightbulb-fill\"></i><i class=\"bi bi-stoplights medium\"></i>\n",
        "        </span>\n",
        "    </div>\n",
        "<div class=\"message-body\">\n",
        "\n",
        "\n",
        "1. Run the cell below to plot the contribution of each variable to the principal components. \n",
        "2. Use the plot to describe how each of the principal components make use of the different variables of the pose coordinates in the original data. \n",
        "3. What do positive and negative values in the principal components indicate, and how do they relate to the original data?\n",
        "\n",
        "\n",
        "\n",
        "</div></article>\n",
        "\n",
        ""
      ]
    },
    {
      "cell_type": "code",
      "id": "NmjzTPZ4y-yCJKm1csHT4",
      "metadata": {},
      "source": [
        "num_variables = dataset.shape[1]\n",
        "bar_width = 0.4  # Width of the bars\n",
        "\n",
        "# Plotting only the first two principal components\n",
        "plot_pca_loadings(\n",
        "    mixing_params=mixing_params,\n",
        "    dataset=dataset,\n",
        "    bar_width=0.4,\n",
        "    colors=['skyblue', 'salmon'],  \n",
        "    component_indices=[1, 2],      \n",
        "    show_individual=True,\n",
        "    show_combined=True,\n",
        "    save_plots=False               \n",
        ")"
      ],
      "execution_count": 0,
      "outputs": []
    },
    {
      "cell_type": "markdown",
      "id": "EtVIxKncDd5Ygxuyg017M",
      "metadata": {},
      "source": [
        ""
      ]
    },
    {
      "cell_type": "code",
      "id": "K2GY8MknHsBhfHCRt5EQ7",
      "metadata": {},
      "source": [
        "# Write your solution here"
      ],
      "execution_count": 0,
      "outputs": []
    },
    {
      "cell_type": "markdown",
      "id": "zmvlCkZrkSxCi9ywQ0AiI",
      "metadata": {},
      "source": [
        "## 5. Generative process - Projecting to latent space and back\n",
        "The pose data can be mapped to the latent space spanned by the principal components (eigenvectors) by: \n",
        "$$\\Phi^\\top(x-\\mu)$$\n",
        " where \n",
        "\n",
        "$$\n",
        "{\\Phi} = \n",
        "\\begin{bmatrix}\n",
        "    | & | & \\cdots & | \\\\\n",
        "    \\Phi_1 & \\Phi_2 & \\cdots & \\Phi_9 \\\\\n",
        "    | & | & \\cdots & |\n",
        "\\end{bmatrix}\n",
        "$$\n",
        "and $\\Phi_i$ are the eigenvectors.\n",
        "The following steps will implement this process. \n",
        "<article class=\"message task\"><a class=\"anchor\" id=\"project_subspace\"></a>\n",
        "    <div class=\"message-header\">\n",
        "        <span>Task 12: Project to subspace</span>\n",
        "        <span class=\"has-text-right\">\n",
        "          <i class=\"bi bi-code\"></i><i class=\"bi bi-stoplights easy\"></i>\n",
        "        </span>\n",
        "    </div>\n",
        "<div class=\"message-body\">\n",
        "\n",
        "\n",
        "Run the cell below to center the data. Use the centered data to:\n",
        "1. Project the original data onto the selected eigenvectors using $\\Phi^\\top(x-\\mu)$. \n",
        "\n",
        "2. To plot the projected data.\n",
        "\n",
        "\n",
        "\n",
        "\n",
        "</div></article>\n",
        "\n",
        ""
      ]
    },
    {
      "cell_type": "code",
      "id": "X9PMSXLyeZ9g_5dACx2ok",
      "metadata": {},
      "source": [
        "# Calculate the mean vector\n",
        "mean_vector = np.mean(dataset, axis=0)\n",
        "\n",
        "# Subtract the mean from each data point\n",
        "centered_data = dataset - mean_vector\n",
        "\n",
        "# Write your solution here\n",
        "\n",
        "\n",
        "plot_pca_pairwise_scatter(\n",
        "    dataset=dataset,\n",
        "    phi=phi,\n",
        "    num_components=9,                \n",
        "    figsize=(10, 10),\n",
        "    marker='.',\n",
        "    xlim=(-1.5, 1.5),\n",
        "    ylim=(-1.5, 1.5),\n",
        "    save_plot=False,                  \n",
        "    save_dir='plots',                 \n",
        "    file_format='png'                 \n",
        ")\n",
        "\n",
        "print(projected_data.T.shape)"
      ],
      "execution_count": 0,
      "outputs": []
    },
    {
      "cell_type": "markdown",
      "id": "sc1Cpizx2tVG3wO_pzv5-",
      "metadata": {},
      "source": [
        "<article class=\"message task\"><a class=\"anchor\" id=\"project_back\"></a>\n",
        "    <div class=\"message-header\">\n",
        "        <span>Task 13: Re-project from latent space to original data space</span>\n",
        "        <span class=\"has-text-right\">\n",
        "          <i class=\"bi bi-code\"></i><i class=\"bi bi-stoplights easy\"></i>\n",
        "        </span>\n",
        "    </div>\n",
        "<div class=\"message-body\">\n",
        "\n",
        "\n",
        "1. Project the data from latent space to the original data space using $\\Phi^\\top x + \\mu$.\n",
        "\n",
        "\n",
        "\n",
        "</div></article>\n",
        "\n",
        ""
      ]
    },
    {
      "cell_type": "code",
      "id": "fgK7CQ__AyYPQnwByNszz",
      "metadata": {},
      "source": [
        "# Write your solution here\n",
        "\n",
        "\n",
        "print(reconstructed_data.shape)"
      ],
      "execution_count": 0,
      "outputs": []
    },
    {
      "cell_type": "markdown",
      "id": "iS2vBqAl24-rd7Vh1CMoD",
      "metadata": {},
      "source": [
        "<article class=\"message task\"><a class=\"anchor\" id=\"project_plot\"></a>\n",
        "    <div class=\"message-header\">\n",
        "        <span>Task 14: Plotting original and reconstructed data</span>\n",
        "        <span class=\"has-text-right\">\n",
        "          <i class=\"bi bi-code\"></i><i class=\"bi bi-stoplights medium\"></i>\n",
        "        </span>\n",
        "    </div>\n",
        "<div class=\"message-body\">\n",
        "\n",
        "\n",
        "1. Run the cell below to plot the first `nr_of_frames`\n",
        " from the original and the reconstructed data. \n",
        "\n",
        "\n",
        "\n",
        "</div></article>\n",
        "\n",
        ""
      ]
    },
    {
      "cell_type": "code",
      "id": "_xQh_2xqgf_jShpdbO1sF",
      "metadata": {},
      "source": [
        "# Write your solution here\n",
        "\n",
        "\n",
        "# Define the new shape you want (40, 50)\n",
        "nr_of_frames=40\n",
        "new_shape = (nr_of_frames, 50)\n",
        "# Reshape the array to the new shape\n",
        "reshaped_data2 = np.empty(new_shape)\n",
        "reshaped_data3 = np.empty(new_shape)\n",
        "reshaped_data2[:] = dataset[:new_shape[0], :]\n",
        "reshaped_data3[:] = reconstructed_data[:new_shape[0], :]    \n",
        "\n",
        "plot_single_sequence(reshaped_data2,pose_name='Original',color='blue')\n",
        "plot_single_sequence(reshaped_data3,pose_name='Reconstructed',color='red')"
      ],
      "execution_count": 0,
      "outputs": []
    },
    {
      "cell_type": "markdown",
      "id": "CHInQjLbUsJCHqt5RiROi",
      "metadata": {},
      "source": [
        "<article class=\"message task\"><a class=\"anchor\" id=\"project_change\"></a>\n",
        "    <div class=\"message-header\">\n",
        "        <span>Task 15: Plotting original and reconstructed data</span>\n",
        "        <span class=\"has-text-right\">\n",
        "          <i class=\"bi bi-code\"></i><i class=\"bi bi-stoplights easy\"></i>\n",
        "        </span>\n",
        "    </div>\n",
        "<div class=\"message-body\">\n",
        "\n",
        "\n",
        "1. Use the function below to rerun the analysis. Change the number of components $k = 1,2,4,40 $.\n",
        "\n",
        "\n",
        "\n",
        "</div></article>\n",
        "\n",
        ""
      ]
    },
    {
      "cell_type": "code",
      "id": "WDdHa-EOU7yoPxNueCemw",
      "metadata": {},
      "source": [
        "# function for PCA\n",
        "pca_reconstruction(dataset=dataset, k=9, num_frames=40)"
      ],
      "execution_count": 0,
      "outputs": []
    },
    {
      "cell_type": "markdown",
      "id": "ZxrnvwhIPbbnWoJphl4k5",
      "metadata": {},
      "source": [
        ""
      ]
    }
  ]
}