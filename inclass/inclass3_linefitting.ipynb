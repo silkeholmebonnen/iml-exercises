{
  "metadata": {
    "kernelspec": {
      "display_name": "Python",
      "language": "python3",
      "name": "python3"
    },
    "language_info": {
      "codemirror_mode": {
        "name": "ipython",
        "version": 3
      },
      "file_extension": "py",
      "mimetype": "text/x-python",
      "name": "python"
    }
  },
  "nbformat": 4,
  "nbformat_minor": 5,
  "cells": [
    {
      "cell_type": "code",
      "id": "css_setup",
      "metadata": {
        "jupyter": {
          "source_hidden": true
        }
      },
      "source": [
        "import requests\n",
        "from IPython.core.display import HTML\n",
        "HTML(f\"\"\"\n",
        "<style>\n",
        "@import \"https://cdn.jsdelivr.net/npm/bulma@0.9.4/css/bulma.min.css\";\n",
        "</style>\n",
        "\"\"\")"
      ],
      "execution_count": 0,
      "outputs": []
    },
    {
      "cell_type": "markdown",
      "id": "5X_fFfB2TpG2lZ7_LACDZ",
      "metadata": {},
      "source": [
        "# Line fitting the matrix way\n",
        "This in-class exercise walks you through the following steps to fit a line to several datasets:\n",
        "1. Create the datasets.\n",
        "2. Construct design matrices.\n",
        "3. Compute the weights using matrix inversion.\n",
        "4. Plot the data and the fitted line.\n",
        "\n",
        "## Linear (line) models\n",
        "<article class=\"message task\"><a class=\"anchor\" id=\"loading\"></a>\n",
        "    <div class=\"message-header\">\n",
        "        <span>Task 1: Identifying parameters</span>\n",
        "        <span class=\"has-text-right\">\n",
        "          <i class=\"bi bi-code\"></i><i class=\"bi bi-stoplights easy\"></i>\n",
        "        </span>\n",
        "    </div>\n",
        "<div class=\"message-body\">\n",
        "\n",
        "\n",
        "1. Run the cell below to load the neccessary libraries and to construct the datasets.\n",
        "\n",
        "2. Identify the inputs and the labels of each dataset. \n",
        "\n",
        "\n",
        "\n",
        "\n",
        "</div></article>\n",
        "\n",
        ""
      ]
    },
    {
      "cell_type": "code",
      "id": "ckysph3hP9teYXkGku8Gb",
      "metadata": {},
      "source": [
        "import numpy as np\n",
        "import matplotlib.pyplot as plt\n",
        "\n",
        "dataset_1 = np.array([[10, 2], [9, 6]])\n",
        "dataset_2 = np.array([[5, 1], [7, 5]])\n",
        "dataset_3 = np.array([[4, 2], [5, 3]])"
      ],
      "execution_count": 0,
      "outputs": []
    },
    {
      "cell_type": "markdown",
      "id": "GJ9i5VP5lk1pkz_qdb-Fu",
      "metadata": {},
      "source": [
        "<article class=\"message task\"><a class=\"anchor\" id=\"loading2\"></a>\n",
        "    <div class=\"message-header\">\n",
        "        <span>Task 2: Identifying parameters and constructing the design matrix</span>\n",
        "        <span class=\"has-text-right\">\n",
        "          <i class=\"bi bi-code\"></i><i class=\"bi bi-stoplights easy\"></i>\n",
        "        </span>\n",
        "    </div>\n",
        "<div class=\"message-body\">\n",
        "\n",
        "\n",
        "1. Complete the `separate_inputs_labels`\n",
        " function below. The function should take a dataset as input and return the inputs and labels separated into separate variables. The function should return a matrix `X`\n",
        " containing the inputs and an array `y`\n",
        " containing the labels. Use the function to obtain the inputs and labels for each dataset.\n",
        "\n",
        "<article class=\"message is-warning\">\n",
        "  <div class=\"message-header\">Hint</div>\n",
        "  <div class=\"message-body\">\n",
        "\n",
        "  Slicing might be helpful here.\n",
        "\n",
        "\n",
        "  </div>\n",
        "</article>\n",
        "2. Complete the code below and construct the design matrix for the other datasets. Print your results.\n",
        "\n",
        "\n",
        "\n",
        "</div></article>\n",
        "\n",
        ""
      ]
    },
    {
      "cell_type": "code",
      "id": "GarI-8GYoHnVt0gVCbDFA",
      "metadata": {},
      "source": [
        "def separate_inputs_labels(dataset):\n",
        "    \"\"\"\n",
        "    This function takes a dataset as input and returns the inputs and labels.\n",
        "    \n",
        "    Parameters:\n",
        "    dataset (numpy array): The dataset to be separated.\n",
        "    \n",
        "    Returns:\n",
        "    X (numpy array): The input matrix.\n",
        "    y (numpy array): The labels array.\n",
        "    \"\"\"\n",
        "    \n",
        "    ...\n",
        "    # return the results as a tuple\n",
        "    return X, y\n",
        "\n",
        "# construct the design matrix    \n",
        "X1_design = None\n",
        "\n",
        "# Print the datasets\n",
        "print(\"X1 = \\n\",X1)\n",
        "print(\"y1 =\", y1)\n",
        "print(\"Design Matrix for Dataset 1:\\n\", X1_design)"
      ],
      "execution_count": 0,
      "outputs": []
    },
    {
      "cell_type": "markdown",
      "id": "1UqTor_zjLFTJOT_oz6n9",
      "metadata": {},
      "source": [
        "<article class=\"message task\"><a class=\"anchor\" id=\"loading3\"></a>\n",
        "    <div class=\"message-header\">\n",
        "        <span>Task 3: Solve for model parameters</span>\n",
        "        <span class=\"has-text-right\">\n",
        "          <i class=\"bi bi-code\"></i><i class=\"bi bi-stoplights easy\"></i>\n",
        "        </span>\n",
        "    </div>\n",
        "<div class=\"message-body\">\n",
        "\n",
        "\n",
        "1. Find the inverse of the design matrix for each dataset constructed above.\n",
        "2. Calculate the model weights, then print your results.\n",
        "3. Use the `plot_model`\n",
        " function to plot your results.\n",
        "4. Visually inspect the plots and interpret the meaning and influence of each term.\n",
        "\n",
        "\n",
        "\n",
        "</div></article>\n",
        "\n",
        ""
      ]
    },
    {
      "cell_type": "code",
      "id": "DdW9u1EJlCZZDLVhE7pAE",
      "metadata": {},
      "source": [
        "print(\"Weights for Dataset 1:\", wieghts1)\n",
        "\n",
        "# Function to plot data points and fitted line\n",
        "def plot_model(X, y, wieghts, dataset_name):\n",
        "    # Plot the data points\n",
        "    plt.scatter(X, y, color='blue', label='Given Points')\n",
        "    \n",
        "    # Extend x_vals range to include zero for correct y-intercept visualization\n",
        "    x_vals = np.linspace(0, max(X) + 1, 100)\n",
        "    y_vals = wieghts[0] * x_vals + wieghts[1]\n",
        "    \n",
        "    # Plot the fitted line\n",
        "    plt.plot(x_vals, y_vals, color='red', label=f'Line: y = {wieghts[0]:.2f}x + {wieghts[1]:.2f}')\n",
        "    \n",
        "    # Plot the y-intercept\n",
        "    plt.scatter(0, wieghts[1], color='green', zorder=5, label=f'Y-intercept (0, {wieghts[1]:.2f})')\n",
        "    \n",
        "    # Add title and labels\n",
        "    plt.title(dataset_name)\n",
        "    plt.xlabel('X')\n",
        "    plt.ylabel('y')\n",
        "    plt.legend()\n",
        "    plt.grid(True)\n",
        "    plt.show()\n",
        "    \n",
        "\n",
        "plot_model(X1, y1, wieghts1, 'Dataset 1')"
      ],
      "execution_count": 0,
      "outputs": []
    },
    {
      "cell_type": "markdown",
      "id": "ExlbmuNvBNXFkKAGhOOaq",
      "metadata": {},
      "source": [
        "If you have more time, complete the next task.\n",
        "<article class=\"message task\"><a class=\"anchor\" id=\"loading5\"></a>\n",
        "    <div class=\"message-header\">\n",
        "        <span>Task 4: A new dataset</span>\n",
        "        <span class=\"has-text-right\">\n",
        "          <i class=\"bi bi-code\"></i><i class=\"bi bi-infinity\"></i><i class=\"bi bi-lightbulb-fill\"></i><i class=\"bi bi-stoplights easy\"></i>\n",
        "        </span>\n",
        "    </div>\n",
        "<div class=\"message-body\">\n",
        "\n",
        "\n",
        "Run the cell below to define a new dataset.\n",
        "1. Identify the inputs and the labels, then reuse the code from previous tasks to construct a design matrix.\n",
        "2. Calculate the inverse of the design matrix. This step should result in an error. What are the possible reasons for getting this error?\n",
        "\n",
        "**Note:** For pedagogical reasons, next week we will return to this dataset, as you will have the necessary tools to fit a model for this scenario.\n",
        "\n",
        "\n",
        "\n",
        "</div></article>\n",
        "\n",
        ""
      ]
    },
    {
      "cell_type": "code",
      "id": "LGJjhRcQ4t-LAtzDTZeDT",
      "metadata": {},
      "source": [
        "dataset_4 = np.array([[9, 1], [7, 2],[3, 8], [1, 3],[4, 3]])"
      ],
      "execution_count": 0,
      "outputs": []
    },
    {
      "cell_type": "markdown",
      "id": "VWNxYuhySsCCObaCS3gQa",
      "metadata": {},
      "source": [
        ""
      ]
    }
  ]
}