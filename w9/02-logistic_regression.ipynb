{
  "metadata": {
    "kernelspec": {
      "display_name": "Python",
      "language": "python3",
      "name": "python3"
    },
    "language_info": {
      "codemirror_mode": {
        "name": "ipython",
        "version": 3
      },
      "file_extension": "py",
      "mimetype": "text/x-python",
      "name": "python"
    }
  },
  "nbformat": 4,
  "nbformat_minor": 5,
  "cells": [
    {
      "cell_type": "code",
      "id": "css_setup",
      "metadata": {
        "jupyter": {
          "source_hidden": true
        }
      },
      "source": [
        "import requests\n",
        "from IPython.core.display import HTML\n",
        "HTML(f\"\"\"\n",
        "<style>\n",
        "@import \"https://cdn.jsdelivr.net/npm/bulma@0.9.4/css/bulma.min.css\";\n",
        "</style>\n",
        "\"\"\")"
      ],
      "execution_count": 0,
      "outputs": []
    },
    {
      "cell_type": "markdown",
      "id": "CK8TF2zMGIAdNdycdYq6g",
      "metadata": {},
      "source": [
        "# Introduction to Logistic Regression\n",
        "In this exercise, you will explore the characteristics of the logistic classifier. \n",
        "\n",
        "<article class=\"message\">\n",
        "    <div class=\"message-body\">\n",
        "        <strong>List of individual tasks</strong>\n",
        "        <ul style=\"list-style: none;\">\n",
        "            <li>\n",
        "            <a href=\"#logreg\">Task 1: Implementing the sigmoid function</a>\n",
        "            </li>\n",
        "            <li>\n",
        "            <a href=\"#predict\">Task 2: The prediction function</a>\n",
        "            </li>\n",
        "            <li>\n",
        "            <a href=\"#evaluation\">Task 3: Evaluation</a>\n",
        "            </li>\n",
        "            <li>\n",
        "            <a href=\"#twoDsigmoiad\">Task 4: Increasing input dimensions</a>\n",
        "            </li>\n",
        "            <li>\n",
        "            <a href=\"#eval_2d\">Task 5: 2D Predictions</a>\n",
        "            </li>\n",
        "            <li>\n",
        "            <a href=\"#reflect_2d\">Task 6: Reflection and plotting 2D</a>\n",
        "            </li>\n",
        "            <li>\n",
        "            <a href=\"#reflect_3d\">Task 7: Plotting in 3D</a>\n",
        "            </li>\n",
        "        </ul>\n",
        "    </div>\n",
        "</article>\n",
        "\n",
        "The figure below shows a schematic of a multivariate logistic regression classifier.\n",
        "<div class=\"has-text-centered\">\n",
        "<figure class=\"image is-inline-block\" >\n",
        "\n",
        "<img src=\"data:image/png;base64,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\" class=\"figure-img img-fluid rounded\" style=\"width:50%\" />\n",
        "\n",
        "\n",
        "</figure>\n",
        "</div>\n",
        "A Logistic regression classifier consists of 3 distinct parts:\n",
        "1. A multivariate linear function :  $z = \\mathbf{w}^\\top\\mathbf{x} = \\sum_i w_i*x_i +w_0$ , where $\\mathbf{w}$ are the model parameters (including the bias term $w_0$) and $\\mathbf{x}$ the homogeneous coordinates of the input\n",
        "\n",
        "2. The sigmoid activation function $\\sigma(z)=\\frac{1}{1+\\text{e}^{(-z)}}$ \n",
        "\n",
        "3. A binary step function (thresholding) at $\\sigma(z)>0.5$.\n",
        "\n",
        "\n",
        "The libraries used are imported in the next cell.\n",
        ""
      ]
    },
    {
      "cell_type": "code",
      "id": "xZ7lpsHfBEXxnVZXadnVz",
      "metadata": {},
      "source": [
        "import numpy as np\n",
        "import matplotlib.pyplot as plt"
      ],
      "execution_count": 0,
      "outputs": []
    },
    {
      "cell_type": "markdown",
      "id": "Uxz9eQelcaJhBrcX70NkR",
      "metadata": {},
      "source": [
        "## Experimenting with model parameters of the logistic (regression) classifier\n",
        "\n",
        "---\n",
        "**Task 1 (medium): Implementing the sigmoid function👩‍💻**\n",
        "In the following task you will implement steps 1 and 2 from above and visualize the output $\\sigma(z)$  along with the decision boundary obtained in step 3. \n",
        "In the cell below:\n",
        "1. Implement the function `linear_sigmoid`\n",
        ", that calculates the variable $z$ as the linear combination of the input features $x$, the weights $w$, the bias $w_0$ and then returns the output of the sigmoid activation function applied to $z$.\n",
        "2. Calculate the decision boundary for the logistic regression classifier where  $\\sigma(z) = 0.5$. \n",
        "3. Run the cell below to plot the function values of `linear_sigmoid`\n",
        " using the values of `xs`\n",
        " as input, along with the calculated decision boundary.\n",
        "4. Modify the model parameters `w`\n",
        " ($z = \\mathbf{w}^\\top\\mathbf{x} = \\sum_i w_i*x_i +w_0$) and observe their effect on the shape of the sigmoid function. What happens to the function when $w_i$:    - is small? (does it look similar to another function?)\n",
        "    - is large? \n",
        "    - is zero?\n",
        "\n",
        "\n",
        "5. How does a change of the bias $w_0$ affect the output of `linear_sigmoid`\n",
        "?\n",
        "6. Determine the x-values of the decision boundary (x-value where $\\sigma(x)=0.5$ ) for the _logistic regression_-classifier. \n",
        "\n",
        "\n",
        "**Hint**\n",
        "`z`\n",
        " must be zero in:\n",
        "\n",
        "$$\\sigma(z)=\\frac{1}{1+\\text{e}^{(-z)}}$$\n",
        "for $\\sigma(z)=0.5$, hence solve $w_0 + w x = 0$\n",
        "\n",
        "\n",
        "---"
      ]
    },
    {
      "cell_type": "code",
      "id": "R93IGLPEMRIIuwvK-sWEf",
      "metadata": {},
      "source": [
        "def linear_sigmoid(x,b,w) :  # sigmoid function\n",
        "    \"\"\"\n",
        "    :param x: 1D array of the (single) input-feature values.\n",
        "    :param b: The bias parameter of the model.\n",
        "    :param W: The weight parameter of the model.\n",
        "    \n",
        "    :return (float): output values of the sigmoid function. \n",
        "    \"\"\"\n",
        "    ...\n",
        "\n",
        "xs = np.linspace(-100,100,1000) ### linspace of \"input features\"\n",
        "params = [3.0,0.15] ### parameters of the model\n",
        "\n",
        "# Calc decision boundary here\n",
        "Decision_boundary = ... # write your solution here\n",
        "\n",
        "### plotting ####\n",
        "plt.figure(figsize=(8,6))\n",
        "plt.plot(xs, linear_sigmoid(xs,params[0],params[1]),label = r\"$\\sigma(x)$ = 1/(1 + exp(-(%.2f + %.2fx))\"%(params[0],params[1]))\n",
        "plt.plot([Decision_boundary,Decision_boundary],[0,1],'--C3',label = 'decision boundary')\n",
        "plt.title(r\"Sigmoid $\\sigma(x)$\", fontsize=20)\n",
        "plt.legend()\n",
        "plt.show()"
      ],
      "execution_count": 0,
      "outputs": []
    },
    {
      "cell_type": "markdown",
      "id": "q2USZaWShw8ke9wO-tfoL",
      "metadata": {},
      "source": [
        "The cell below generates two classes (`class1`\n",
        " and `class2`\n",
        ") of data, drawn from normal distributions (with a different mean and variance)\n",
        ""
      ]
    },
    {
      "cell_type": "code",
      "id": "E3gJMeA9KP5bUeG_eETQX",
      "metadata": {},
      "source": [
        "### 2 classes of randomly generated data\n",
        "\n",
        "x1= np.random.normal(-50,20,200)\n",
        "y1 = np.zeros_like(x1)\n",
        "x2= np.random.normal(50,30,200)\n",
        "y2 = np.ones_like(x2)"
      ],
      "execution_count": 0,
      "outputs": []
    },
    {
      "cell_type": "markdown",
      "id": "w8EiYocH-ASNoUCivfDUT",
      "metadata": {},
      "source": [
        "`x1`\n",
        " and `x2`\n",
        " are the variables for the input features of `class1`\n",
        " and `class2`\n",
        ", respectively. \n",
        "Likewise, `y1`\n",
        " and `y2`\n",
        " are the targets of `class1`\n",
        " and `class2`\n",
        ", respectively. \n",
        "The following cell visualizes the data of the classes together with the `sigmoid`\n",
        " values and the decision boundary. \n",
        ""
      ]
    },
    {
      "cell_type": "code",
      "id": "CpHp6_8FM_V-rz1MB7bkK",
      "metadata": {},
      "source": [
        "plt.figure(figsize=(8,6))\n",
        "plt.plot(xs, linear_sigmoid(xs,params[0],params[1]),label = r\"$\\sigma(x)$ = 1/(1 + exp(-(%.2f + %.2fx))\"%(params[0],params[1]))\n",
        "plt.plot(x1, y1+np.random.normal(0,0.01,200),'p',label ='class1')\n",
        "plt.plot(x2, y2+np.random.normal(-0,0.01,200),'o',label = 'class2')\n",
        "plt.plot([-params[0]/params[1],-params[0]/params[1]],[0,1],'--C3',label = 'decision boundary')\n",
        "\n",
        "plt.title(r\"Logistic regression and target data\", fontsize=20)\n",
        "plt.legend()\n",
        "plt.show()"
      ],
      "execution_count": 0,
      "outputs": []
    },
    {
      "cell_type": "markdown",
      "id": "VqVdVNsdPG7qjFVGkQK1D",
      "metadata": {},
      "source": [
        "\n",
        "---\n",
        "**Task 2 (medium): The prediction function👩‍💻**\n",
        "1. In the cell below implement the function `predict`\n",
        "  using the `linear_sigmoid`\n",
        " function and binary thresholding to predict the class given input-features and model parameters.\n",
        "\n",
        "\n",
        "---"
      ]
    },
    {
      "cell_type": "code",
      "id": "oi86e9Zg5zCkcAsVvIjOg",
      "metadata": {},
      "source": [
        "def predict(x,w):\n",
        "    \"\"\"\n",
        "    :param x: 1D array of the (single) input-feature values.\n",
        "    :param w: The list of the model parameters, [bias, weight]. \n",
        "    \n",
        "    :return: Boolean array same size as x, where a True values signifies class2, and False signifies class1\n",
        "    \"\"\"\n",
        "    ..."
      ],
      "execution_count": 0,
      "outputs": []
    },
    {
      "cell_type": "markdown",
      "id": "iQdlcXSsR6j3SVxkrTgZ3",
      "metadata": {},
      "source": [
        "The cell below visualizes the predictions.\n",
        ""
      ]
    },
    {
      "cell_type": "code",
      "id": "FzIYAMt9RsIxRsOGddIGE",
      "metadata": {},
      "source": [
        "x_all = np.concatenate([x1,x2])\n",
        "y_all = np.concatenate([y1+np.random.normal(0,0.01,200),y2+np.random.normal(-0,0.01,200)])\n",
        "y_bool = predict(x_all,params)\n",
        "plt.figure(figsize=(8,6))\n",
        "plt.plot(x_all[~y_bool], y_all[~y_bool],'p',color='orange',label ='Predicted class1')\n",
        "plt.plot(x_all[y_bool], y_all[y_bool],'go',label = 'Predicted class2')\n",
        "plt.plot(xs, linear_sigmoid(xs,params[0],params[1]),'b',label = r\"$\\sigma(x)$ = 1/(1 + exp(-(%.2f + %.2fx))\"%(params[0],params[1]))\n",
        "plt.plot([-params[0]/params[1],-params[0]/params[1]],[-0.04,1.04],'--C3',label = 'decision boundary')\n",
        "plt.title(r\"Logistic regression prediction\", fontsize=20)\n",
        "plt.legend()\n",
        "plt.show()"
      ],
      "execution_count": 0,
      "outputs": []
    },
    {
      "cell_type": "markdown",
      "id": "7y48-ikgPNUszxB8bT1Gg",
      "metadata": {},
      "source": [
        "\n",
        "---\n",
        "**Task 3 (medium): Evaluation👩‍💻💡**\n",
        "1. Visually assess which model parameters `w`\n",
        " best seperate the two classes?\n",
        "2. Determine the accuracy (fraction of correct predictions) of the classifier. \n",
        "\n",
        "\n",
        "**Tip**\n",
        "You can use the accuracy function from the previous exercise.\n",
        "\n",
        "\n",
        "---"
      ]
    },
    {
      "cell_type": "code",
      "id": "GgK854w_jknYPmLXhbvCv",
      "metadata": {},
      "source": [
        "# Code you solution here"
      ],
      "execution_count": 0,
      "outputs": []
    },
    {
      "cell_type": "markdown",
      "id": "a5jvU1PyKx5d4u61NlYBT",
      "metadata": {},
      "source": [
        "\n",
        "---\n",
        "**Task 4 (medium): Increasing input dimensions👩‍💻💡**\n",
        "In this task the logistic regression function is modified to take 2 features as input (x,y).\n",
        "1. Complete the `sigmoid2D`\n",
        " function such that it can take a vector of two 1D-arrays as input.\n",
        "2. Run the cell below to visualize a 3D-plot of the 2-variable sigmoid function and the decision boundary plane \n",
        "3. The decision boundary is defined by the plane where $z\\in[0,1]$ and x,y such that $ b + w_1*x+w_2*y = 0 $ . Why is this?\n",
        "4. How does changing the individual model parameters  $w_1$  and  $w_2$  affect the orientation and slope of the decision boundary plane in the 3D plot?\n",
        "5. What happens to the decision boundary if  $w_1$  or  $w_2$  is set to zero?\n",
        "\n",
        "\n",
        "---"
      ]
    },
    {
      "cell_type": "code",
      "id": "6dwQy5z1g3iIqbd1ZZ2vo",
      "metadata": {},
      "source": [
        "def sigmoid2D(X,params) :  # sigmoid function\n",
        "    \"\"\"\n",
        "    :param X: tuple of input features (x,y).\n",
        "    :param parametes: List of the model parameters.\n",
        "    :return: output values of the sigmoid function. \n",
        "    \"\"\"\n",
        "    # Write solutions here\n",
        "    ...\n",
        "\n",
        "#### Plotting\n",
        "x = np.linspace(-50, 50, 1000)\n",
        "y = np.linspace(-50, 50, 1000)\n",
        "X, Y = np.meshgrid(x, y)\n",
        "params3 = [0.07,0.037,0.085]\n",
        "Z = sigmoid2D((X, Y),params3)\n",
        "\n",
        "fig = plt.figure(figsize=(15,7))\n",
        "\n",
        "# ----- First subplot: 3D sigmoid function -----\n",
        "ax1 = fig.add_subplot(1, 2, 1, projection='3d')  # 1 row, 2 columns, first plot\n",
        "\n",
        "# Decision boundary plane calculation\n",
        "y_decision_boundary = -(params3[0]/params3[2]) - (params3[1]/params3[2]) * x\n",
        "\n",
        "# Create mesh for decision boundary plane in 3D space\n",
        "Y_decision, Z_decision = np.meshgrid(y_decision_boundary, np.linspace(0, 1, 1000))  # z from 0 to 1 for probabilities\n",
        "X_decision = np.tile(x, (len(Y_decision), 1))  # x values remain constant for the plane\n",
        "\n",
        "# Plot the decision boundary as a wireframe to make it clearly visible\n",
        "boundary_surface = ax1.plot_wireframe(X_decision, Y_decision, Z_decision, color='black', alpha=0.6, label='Decision Boundary')\n",
        "sigmoid_surface = ax1.plot_surface(X, Y, Z, color='green', alpha=0.3)  # making it more transparent\n",
        "\n",
        "ax1.set_title(r\"Sigmoid : $\\sigma(x,y)$ = 1/(1 + exp(-(%.2f + %.2fx + %.2fy))\"%(params3[0],params3[1],params3[2]), fontsize=20)\n",
        "ax1.set_xlabel('X')\n",
        "ax1.set_ylabel('Y')\n",
        "ax1.set_zlabel('Z (Probability)')\n",
        "ax1.view_init(elev=15., azim=2)\n",
        "\n",
        "# ----- Second subplot: 2D projection of the decision boundary -----\n",
        "ax2 = fig.add_subplot(1, 2, 2)  # 1 row, 2 columns, second plot\n",
        "\n",
        "# Plot the decision boundary line\n",
        "ax2.plot(x, y_decision_boundary, color='black',linewidth=3, label='Decision Boundary')\n",
        "ax2.fill_between(x, y_decision_boundary, y[0], color='blue', alpha=0.3, label = 'class 1')  # Optional: fill area under the line\n",
        "ax2.fill_between(x, y_decision_boundary, y[-1], color='red', alpha=0.3, label = 'class 2')  # Optional: fill area under the line\n",
        "\n",
        "ax2.set_xlabel('X')\n",
        "ax2.set_ylabel('Y')\n",
        "ax2.set_title('Decision Boundary in XY plane', fontsize=14)\n",
        "ax2.legend()\n",
        "\n",
        "plt.tight_layout() \n",
        "plt.show()"
      ],
      "execution_count": 0,
      "outputs": []
    },
    {
      "cell_type": "markdown",
      "id": "O412Oml6GFQYqN1QH1Xlj",
      "metadata": {},
      "source": [
        ""
      ]
    },
    {
      "cell_type": "code",
      "id": "ly3TeMSknwwPg3q7P6ojv",
      "metadata": {},
      "source": [
        "# write your reflections here"
      ],
      "execution_count": 0,
      "outputs": []
    },
    {
      "cell_type": "markdown",
      "id": "KiAEEA6UuexDdiSRS87Jl",
      "metadata": {},
      "source": [
        "Identically to above, we generate 2 classes (`class1`\n",
        " and `class2`\n",
        "), but this time with two input features. \n",
        ""
      ]
    },
    {
      "cell_type": "code",
      "id": "MtGLffLsqLnGk8-epqluo",
      "metadata": {},
      "source": [
        "S = 100*np.eye(2)\n",
        "p1,q1 = np.random.multivariate_normal([20,8], S, 200).T\n",
        "p2,q2 = np.random.multivariate_normal([-10,-13], S, 200).T\n",
        "\n",
        "z1 = np.ones_like(q1)+np.random.normal(0,0.01,200)\n",
        "z2 = np.zeros_like(q2)+np.random.normal(0,0.01,200)"
      ],
      "execution_count": 0,
      "outputs": []
    },
    {
      "cell_type": "markdown",
      "id": "ER__8nLNqD-i2st6iafcZ",
      "metadata": {},
      "source": [
        "\n",
        "---\n",
        "**Task 5 (medium): 2D Predictions👩‍💻💡**\n",
        "1. Implement `predict2D`\n",
        ", that predicts the class (binary) of a 2D data input. \n",
        "2. Use `predict2D`\n",
        " to determine the accuracy of the logistic classifier. \n",
        "3. Manually choose parameters that result in an accuracy above $80\\%$\n",
        "\n",
        "\n",
        "---"
      ]
    },
    {
      "cell_type": "code",
      "id": "7rpnSDHBDH-NFbjmagpXN",
      "metadata": {},
      "source": [
        "def predict2D(X,params):\n",
        "    \"\"\"\n",
        "    :param x: tuple of 1D arrays of the input-feature values.\n",
        "    :param params: The list of the model parameters, [bias, weight1, weight2]. \n",
        "    \n",
        "    :return: Boolean array same size as x, where a True values signifies class2, and False signifies class1\n",
        "    \"\"\"\n",
        "    ...\n",
        "\n",
        "# Code you solution here"
      ],
      "execution_count": 0,
      "outputs": []
    },
    {
      "cell_type": "markdown",
      "id": "FoO1AJNiaKjpGi8hLuyyK",
      "metadata": {},
      "source": [
        "\n",
        "---\n",
        "**Task 6 (medium): Reflection and plotting 2D👩‍💻💡**\n",
        "1. Update the `params3`\n",
        " list with the best model parameters from task 3.\n",
        "\n",
        "Run the cell below to:\n",
        "- Plot the generated data together with the 2D input logistic function and decision boundary.\n",
        "- Make a 2D projection plot in the XY plane of the decision boundary and the data points. Plot class 1 as blue and class 2 as red. \n",
        "\n",
        "2. Consider the last exercise on decision boundaries: are there any similarities between the linear descision boundary and the current 2D projection plot?\n",
        "\n",
        "\n",
        "---"
      ]
    },
    {
      "cell_type": "code",
      "id": "AFQX4l-XcMFLSBjKEIPl0",
      "metadata": {},
      "source": [
        "# Fill the empty list below with the best model parameters from task 3\n",
        "params3 = []\n",
        "\n",
        "x = np.linspace(-50, 50, 1000)\n",
        "y = np.linspace(-50, 50, 1000)\n",
        "X, Y = np.meshgrid(x, y)\n",
        "Z = sigmoid2D((X, Y), params3)\n",
        "\n",
        "\n",
        "# Decision boundary plane calculation\n",
        "y_decision_boundary = -(params3[0] / params3[2]) - (params3[1] / params3[2]) * x\n",
        "\n",
        "\n",
        "# Separate plot for the second subplot\n",
        "fig, ax2 = plt.subplots(figsize=(10, 7))\n",
        "\n",
        "# Plot the decision boundary line\n",
        "ax2.plot(x, y_decision_boundary, color='black', linewidth=3, label='Decision Boundary')\n",
        "ax2.plot(p1, q1, 'p', color='blue', label='class 1')\n",
        "ax2.plot(p2, q2, 'o', color='red', label='class 2')\n",
        "ax2.fill_between(x, y_decision_boundary, y[0], color='red', alpha=0.3, label='class 2 predictions')\n",
        "ax2.fill_between(x, y_decision_boundary, y[-1], color='blue', alpha=0.3, label='class 1 predictions')\n",
        "\n",
        "ax2.set_xlabel('X')\n",
        "ax2.set_ylabel('Y')\n",
        "ax2.set_title('Decision Boundary in XY plane', fontsize=14)\n",
        "ax2.legend()\n",
        "\n",
        "plt.show()"
      ],
      "execution_count": 0,
      "outputs": []
    },
    {
      "cell_type": "markdown",
      "id": "Db_hq6feIjhmfde554p0N",
      "metadata": {},
      "source": [
        "\n",
        "---\n",
        "**Task 7 (medium): Plotting in 3D👩‍💻💡**\n",
        "1. Consider the 3D plot below. Update the `params3`\n",
        " list with the best model parameters from task 3.\n",
        "\n",
        "Run the cell below, then compare your plots to the 2D plot:\n",
        "2. Which plot do you prefer. Argue for your choice.\n",
        "\n",
        "\n",
        "---"
      ]
    },
    {
      "cell_type": "code",
      "id": "uGxfmMrPO6h-yusZFg4lT",
      "metadata": {},
      "source": [
        "# Fill the empty list below with the best model parameters from task 3\n",
        "params3 = []\n",
        "\n",
        "# Plotting data point along with the sigmoid\n",
        "x = np.linspace(-50, 50, 1000)\n",
        "y = np.linspace(-50, 50, 1000)\n",
        "X, Y = np.meshgrid(x, y)\n",
        "\n",
        "\n",
        "Z = sigmoid2D((X, Y),params3)\n",
        "\n",
        "fig = plt.figure(figsize=(15,7))\n",
        "\n",
        "# ----- First subplot: 3D sigmoid function -----\n",
        "ax1 = fig.add_subplot(1, 1, 1, projection='3d')  # 1 row, 2 columns, first plot\n",
        "\n",
        "# Decision boundary plane calculation\n",
        "y_decision_boundary = -(params3[0]/params3[2]) - (params3[1]/params3[2]) * x\n",
        "\n",
        "# Create mesh for decision boundary plane in 3D space\n",
        "Y_decision, Z_decision = np.meshgrid(y_decision_boundary, np.linspace(0, 1, 1000))  # z from 0 to 1 for probabilities\n",
        "X_decision = np.tile(x, (len(Y_decision), 1))  # x values remain constant for the plane\n",
        "\n",
        "# Plot the decision boundary as a wireframe to make it clearly visible\n",
        "boundary_surface = ax1.plot_wireframe(X_decision, Y_decision, Z_decision, color='black', alpha=0.6, label='Decision Boundary')\n",
        "sigmoid_surface = ax1.plot_surface(X, Y, Z, color='green', alpha=0.3)  # making it more transparent\n",
        "ax1.scatter(p1,q1,z1,'p',color ='red',label='class 1')\n",
        "ax1.scatter(p2,q2,z2,'o',color='blue', label='class 2')\n",
        "\n",
        "ax1.set_title(r\"Sigmoid : $\\sigma(x,y)$ = 1/(1 + exp(-(%.2f + %.2fx + %.2fy))\"%(params3[0],params3[1],params3[2]), fontsize=20)\n",
        "ax1.set_xlabel('X')\n",
        "ax1.set_ylabel('Y')\n",
        "ax1.set_zlabel('Z (Probability)')\n",
        "ax1.view_init(elev=15., azim=2)\n",
        "\n",
        "plt.tight_layout() \n",
        "plt.show()"
      ],
      "execution_count": 0,
      "outputs": []
    },
    {
      "cell_type": "markdown",
      "id": "PIKMqb4WMR1Kj7fHps1fx",
      "metadata": {},
      "source": [
        ""
      ]
    },
    {
      "cell_type": "code",
      "id": "r06PsC-nF5N3OVy27DoJ7",
      "metadata": {},
      "source": [
        "# write your reflections here"
      ],
      "execution_count": 0,
      "outputs": []
    },
    {
      "cell_type": "markdown",
      "id": "Ay4TGN6Ro8fmt2vnfodKD",
      "metadata": {},
      "source": [
        ""
      ]
    }
  ]
}