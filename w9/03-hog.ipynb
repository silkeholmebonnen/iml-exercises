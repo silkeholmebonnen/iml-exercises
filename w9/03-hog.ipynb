{
  "metadata": {
    "kernelspec": {
      "display_name": "Python",
      "language": "python3",
      "name": "python3"
    },
    "language_info": {
      "codemirror_mode": {
        "name": "ipython",
        "version": 3
      },
      "file_extension": "py",
      "mimetype": "text/x-python",
      "name": "python"
    }
  },
  "nbformat": 4,
  "nbformat_minor": 5,
  "cells": [
    {
      "cell_type": "code",
      "id": "css_setup",
      "metadata": {
        "jupyter": {
          "source_hidden": true
        }
      },
      "source": [
        "import requests\n",
        "from IPython.core.display import HTML\n",
        "HTML(f\"\"\"\n",
        "<style>\n",
        "@import \"https://cdn.jsdelivr.net/npm/bulma@0.9.4/css/bulma.min.css\";\n",
        "</style>\n",
        "\"\"\")"
      ],
      "execution_count": 0,
      "outputs": []
    },
    {
      "cell_type": "markdown",
<<<<<<< HEAD
      "id": "r6DSx3el6FId8_Y5jxowE",
=======
      "id": "MZZN881tmJahV6vuYGsQF",
>>>>>>> main
      "metadata": {},
      "source": [
        "# Gradient image features: Histogram of Oriented Gradients (HoG) introduction\n",
        "This exercise is about the extraction of gradient features from images. It offers an introduction and application of HoG features on a sample image.\n",
        "The HOG features will be used in the exercises next week for classification.\n",
        "\n",
        "<article class=\"message\">\n",
        "    <div class=\"message-body\">\n",
        "        <strong>List of individual tasks</strong>\n",
        "        <ul style=\"list-style: none;\">\n",
        "            <li>\n",
        "            <a href=\"#descriptor\">Task 1: Calculate the HOG descriptor</a>\n",
        "            </li>\n",
        "            <li>\n",
        "            <a href=\"#test\">Task 2: Visualizing and understanding the HOG de…</a>\n",
        "            </li>\n",
        "            <li>\n",
        "            <a href=\"#compare_images\">Task 3: Comparing Hog Features</a>\n",
        "            </li>\n",
        "            <li>\n",
        "            <a href=\"#interpretation\">Task 4: Interpretation/ Understanding questions</a>\n",
        "            </li>\n",
        "        </ul>\n",
        "    </div>\n",
        "</article>\n",
        "\n",
        "The cell below loads a sample image.\n",
        ""
      ]
    },
    {
      "cell_type": "code",
<<<<<<< HEAD
      "id": "egfhS1ailPqNg0tZPyhXn",
=======
      "id": "eKjrfcILmm7OuBwcZDNz_",
>>>>>>> main
      "metadata": {},
      "source": [
        "## load input image\n",
        "import matplotlib.pyplot as plt\n",
        "import numpy as np\n",
        "from skimage.feature import hog\n",
        "from skimage import data, exposure\n",
        "\n",
        "\n",
        "fn =  \"./data/people01.jpg\"\n",
        "image = plt.imread(fn)\n",
        "print(image.shape)\n",
        "\n",
        "fig, ax1 = plt.subplots(figsize=(12, 8), sharex=True, sharey=True)\n",
        "\n",
        "ax1.axis('off')\n",
        "ax1.imshow(image, cmap=plt.cm.gray)\n",
        "ax1.set_title('Input image')"
      ],
      "execution_count": 0,
      "outputs": []
    },
    {
      "cell_type": "markdown",
<<<<<<< HEAD
      "id": "CgIlZ1YEcttT7hO-OrknN",
=======
      "id": "oCueXhVHfu0hMu1DdpzhP",
>>>>>>> main
      "metadata": {},
      "source": [
        "In the following section: \n",
        "- you are introduced to the [HOG descriptor](https://en.wikipedia.org/wiki/Histogram_of_oriented_gradients)\n",
        "\n",
        "- shown how to calculate a HoG featues for an image including a visualization of the HoG descriptor.\n",
        "\n",
        "## Overview of Histogram of Oriented Gradients (HOG) Algorithm\n",
        "The Histogram of Oriented Gradients (HOG) is a feature descriptor used in computer vision to detect objects. \n",
        "The function [skimage.feature.hog](https://scikit-image.org/docs/stable/api/skimage.feature.html<elem-2>.feature.hog)\n",
        " computes\n",
        "the HOG features. It also returns the feature descriptor vector (`fd`\n",
        "), in which its\n",
        "size is equal to the number of: Bins $\\times$ Block Columns\n",
        "$\\times$ Block Rows $\\times$ Cells in the Block.\n",
        "The process involves the following stages:\n",
        "**1. Preprocessing / Smoothing:**\n",
        "\n",
        "\n",
        "Initially, the image undergoes a global intensity normalization — a procedure that diminishes the effects of lighting. A common technique involves gamma (power-law) compression, which can be achieved by calculating the square root or logarithm of each color channel. This stage helps in reducing the impact of local shadowing and highlights variations since the image texture strength is generally related to the local surface illumination.\n",
        "**2. Calculation of Image Gradients:**\n",
        "\n",
        "\n",
<<<<<<< HEAD
        "This stage focuses on computing image gradients. The standard procedure is to either convert the image to grayscale or use the most prominent color channel. <article class=\"message is-info\">\n",
        "  <div class=\"message-header\">Info</div>\n",
        "  <div class=\"message-body\">\n",
        "\n",
        "  This step was implemented by us in the first part of the exercise.\n",
        "\n",
        "\n",
        "  </div>\n",
        "</article>\n",
=======
        "This stage focuses on computing image gradients. The standard procedure is to either convert the image to grayscale or use the most prominent color channel. \n",
        "**Info**\n",
        "This step was implemented by us in the first part of the exercise.\n",
        "\n",
>>>>>>> main
        " \n",
        "**3. Creation of Cells and Calculation of normalized Histograms:**\n",
        "\n",
        "\n",
        "The objective here is to create an encoding of local gradients. This involves partitioning the image window into smaller spatial cells. Each cell creates a histogram of image gradient orientations and performs various steps to normalize intensities and histograms. \n",
        "**4. Compilation of Feature Vector:**\n",
        "\n",
        "\n",
        "The HOG feature is constructed by concatenating the histograms for each cell into one final HOG feature descriptor (vector). \n",
<<<<<<< HEAD
        "<article class=\"message task\"><a class=\"anchor\" id=\"descriptor\"></a>\n",
        "    <div class=\"message-header\">\n",
        "        <span>Task 1: Calculate the HOG descriptor</span>\n",
        "        <span class=\"has-text-right\">\n",
        "          <i class=\"bi bi-code\"></i><i class=\"bi bi-stoplights easy\"></i>\n",
        "        </span>\n",
        "    </div>\n",
        "<div class=\"message-body\">\n",
        "\n",
        "\n",
        "1. Run the cell below to calculate and plot the HOG descriptor. \n",
        "\n",
        "\n",
        "\n",
        "</div></article>\n",
        "\n",
        ""
=======
        "\n",
        "---\n",
        "**Task 1 (easy): Calculate the HOG descriptor👩‍💻**\n",
        "1. Run the cell below to calculate and plot the HOG descriptor. \n",
        "\n",
        "\n",
        "---"
>>>>>>> main
      ]
    },
    {
      "cell_type": "code",
<<<<<<< HEAD
      "id": "grjdK6202I9ZHi4ySl1Vn",
=======
      "id": "uaUnO33r-qkhi2b4PfYM1",
>>>>>>> main
      "metadata": {},
      "source": [
        "# load new image\n",
        "image1 = data.astronaut()[:270,100:320]\n",
        "print(image1.shape)\n",
        "\n",
        "feature_vector=True,\n",
        "bins = 8 \n",
        "pixels_per_cell = 16\n",
        "cells_per_block = 4 \n",
        "\n",
        "(fd1, hog_feat1) = hog(\n",
        "    image1,\n",
        "    orientations=bins,\n",
        "    pixels_per_cell=(pixels_per_cell, pixels_per_cell),\n",
        "    cells_per_block=(cells_per_block, cells_per_block),\n",
        "    block_norm=\"L2\",\n",
        "    visualize=True,\n",
        "    feature_vector=True,\n",
        "    channel_axis=-1\n",
        ")\n",
        "hog_feat1 = hog_feat1.astype(\"uint8\")\n",
        "\n",
        "\n",
        "# after implementation of the HoG function, run the following plot\n",
        "fig, (ax1, ax2) = plt.subplots(1, 2, figsize=(8, 4), sharex=True, sharey=True)\n",
        "\n",
        "ax1.axis('off')\n",
        "ax1.imshow(image1, cmap=plt.cm.gray)\n",
        "ax1.set_title('Input image')\n",
        "\n",
        "# Rescale histogram for better display\n",
        "hog_image_rescaled = exposure.rescale_intensity(hog_feat1, in_range=(0, 10))\n",
        "\n",
        "ax2.axis('off')\n",
        "ax2.imshow(hog_image_rescaled, cmap=plt.cm.gray)\n",
        "ax2.set_title('Histogram of Oriented Gradients')\n",
        "plt.show()"
      ],
      "execution_count": 0,
      "outputs": []
    },
    {
      "cell_type": "markdown",
<<<<<<< HEAD
      "id": "Rs3qGt9hWFxJlpz1XXl53",
      "metadata": {},
      "source": [
        "<article class=\"message task\"><a class=\"anchor\" id=\"test\"></a>\n",
        "    <div class=\"message-header\">\n",
        "        <span>Task 2: Visualizing and understanding the HOG descriptor</span>\n",
        "        <span class=\"has-text-right\">\n",
        "          <i class=\"bi bi-code\"></i><i class=\"bi bi-stoplights easy\"></i>\n",
        "        </span>\n",
        "    </div>\n",
        "<div class=\"message-body\">\n",
        "\n",
        "\n",
=======
      "id": "U-84o9dIWlbhDd79XDrbx",
      "metadata": {},
      "source": [
        "\n",
        "---\n",
        "**Task 2 (easy): Visualizing and understanding the HOG descriptor👩‍💻**\n",
>>>>>>> main
        "Change the parameters of the HOG descriptor and visualize how the feature descriptor changes.\n",
        "1. Change the parameters for the HOG descriptor:\n",
        "\n",
        "- the number of bins\n",
        "- the number of pixels per cell\n",
        "- the number of cells per block\n",
        "\n",
        "and visually observe how the dimensionality and the features change.\n",
        "2. The following cell loads an image of a cat. Use the HOG descriptor on this image.\n",
        "\n",
        "\n",
<<<<<<< HEAD
        "\n",
        "</div></article>\n",
        "\n",
        ""
=======
        "---"
>>>>>>> main
      ]
    },
    {
      "cell_type": "code",
<<<<<<< HEAD
      "id": "R9wU4XYfDxcd6ebtVNf-i",
=======
      "id": "wNPF-OMHvOYG0hnsYR_Qg",
>>>>>>> main
      "metadata": {},
      "source": [
        "image2 = data.cat()[:270,:440:2]\n",
        "print(image2.shape)\n",
        "\n",
        "fd2,hog_image2 = image # replace this with hog feature results. fd is the feature vector and hog_image is the visualization of the calculated gradients.\n",
        "\n",
        "# after implementation of the HoG function, run the following plot\n",
        "fig, (ax1, ax2) = plt.subplots(1, 2, figsize=(8, 4), sharex=True, sharey=True)\n",
        "\n",
        "ax1.axis('off')\n",
        "ax1.imshow(image2, cmap=plt.cm.gray)\n",
        "ax1.set_title('Input image')\n",
        "\n",
        "# Rescale histogram for better display\n",
        "hog_image_rescaled2 = exposure.rescale_intensity(hog_feat2, in_range=(0, 10))\n",
        "\n",
        "ax2.axis('off')\n",
        "ax2.imshow(hog_image_rescaled2, cmap=plt.cm.gray)\n",
        "ax2.set_title('Histogram of Oriented Gradients')"
      ],
      "execution_count": 0,
      "outputs": []
    },
    {
      "cell_type": "markdown",
<<<<<<< HEAD
      "id": "W1wwPTiVPGxul19OJMnOE",
      "metadata": {},
      "source": [
        "<article class=\"message task\"><a class=\"anchor\" id=\"compare_images\"></a>\n",
        "    <div class=\"message-header\">\n",
        "        <span>Task 3: Comparing Hog Features</span>\n",
        "        <span class=\"has-text-right\">\n",
        "          <i class=\"bi bi-code\"></i><i class=\"bi bi-stoplights easy\"></i>\n",
        "        </span>\n",
        "    </div>\n",
        "<div class=\"message-body\">\n",
        "\n",
        "\n",
=======
      "id": "evCpq5XfMOvORThYFOfjo",
      "metadata": {},
      "source": [
        "\n",
        "---\n",
        "**Task 3 (easy): Comparing Hog Features👩‍💻**\n",
>>>>>>> main
        "This task will compare two HoG features of different images. \n",
        "1. For different settings visually compare the hog features\n",
        "2. Calculate the normalized (use `np.linalg.norm`\n",
        " to normalize vectors) scalar product between the two feature vectors `fd1`\n",
        " and `fd2`\n",
        ".     - What is the scalar product between two feature vectors? (compare it to the value of 1 )\n",
        "    - Repeat the calculation for multiple HoG filter settings, notice a difference? \n",
        "\n",
        "\n",
        "\n",
<<<<<<< HEAD
        "<article class=\"message is-warning\">\n",
        "  <div class=\"message-header\">Hint</div>\n",
        "  <div class=\"message-body\">\n",
        "\n",
        "  Set `feature_vector`\n",
        "=True in `hog`\n",
        "\n",
        "\n",
        "\n",
        "  </div>\n",
        "</article>\n",
        "3. Based on the cosine similarity (normalized inner product), explain how HoG features can be used to classify different images of cat/humans.\n",
        "\n",
        "\n",
        "\n",
        "</div></article>\n",
        "\n",
        ""
=======
        "\n",
        "**Hint**\n",
        "Set `feature_vector`\n",
        "=True in `hog`\n",
        "\n",
        "\n",
        "3. Based on the cosine similarity (normalized inner product), explain how HoG features can be used to classify different images of cat/humans.\n",
        "\n",
        "\n",
        "---"
>>>>>>> main
      ]
    },
    {
      "cell_type": "code",
<<<<<<< HEAD
      "id": "T-EgAlf4EGcQeGJ_QnA5y",
=======
      "id": "4jHyrsuKov4v25iOaYpb3",
>>>>>>> main
      "metadata": {},
      "source": [
        "calculate the similarity here.."
      ],
      "execution_count": 0,
      "outputs": []
    },
    {
      "cell_type": "markdown",
<<<<<<< HEAD
      "id": "z6DcxJjB69G1WUQZdfhgP",
      "metadata": {},
      "source": [
        "<article class=\"message task\"><a class=\"anchor\" id=\"interpretation\"></a>\n",
        "    <div class=\"message-header\">\n",
        "        <span>Task 4: Interpretation/ Understanding questions</span>\n",
        "        <span class=\"has-text-right\">\n",
        "          <i class=\"bi bi-lightbulb-fill\"></i><i class=\"bi bi-stoplights medium\"></i>\n",
        "        </span>\n",
        "    </div>\n",
        "<div class=\"message-body\">\n",
        "\n",
        "\n",
=======
      "id": "ohrBOdMFrszKqf_lm7Vik",
      "metadata": {},
      "source": [
        "\n",
        "---\n",
        "**Task 4 (medium): Interpretation/ Understanding questions💡**\n",
>>>>>>> main
        "Select several images from the dataset (`peopleXY.jpg`\n",
        ") and visually compare the HOG features of people and non-people images. \n",
        "1. How could HoG features be used to classify different objects in a larger image with multiple people? \n",
        "\n",
        "2. Explain how the HOG features use local information to create an understanding of the content of the full image? \n",
        "\n",
        "\n",
        "The code in the cell below visualizes the HoG features:\n",
        "\n",
<<<<<<< HEAD
        "\n",
        "</div></article>\n",
        "\n",
        ""
=======
        "---"
>>>>>>> main
      ]
    },
    {
      "cell_type": "code",
<<<<<<< HEAD
      "id": "OurHOt8x8ttiP8mUJsAFf",
=======
      "id": "nTK2ruGc4trmIeB68_j0m",
>>>>>>> main
      "metadata": {},
      "source": [
        "# load new image\n",
        "fn =  \"./data/people01.jpg\"\n",
        "image = plt.imread(fn)\n",
        "print(image.shape)\n",
        "\n",
        "feature_vector=True,\n",
        "bins = 8 \n",
        "pixels_per_cell = 16\n",
        "cells_per_block = 4 \n",
        "\n",
        "# Compute HOG.\n",
        "(fd, hog_feat) = hog(\n",
        "    image,\n",
        "    orientations=bins,\n",
        "    pixels_per_cell=(pixels_per_cell, pixels_per_cell),\n",
        "    cells_per_block=(cells_per_block, cells_per_block),\n",
        "    block_norm=\"L2\",\n",
        "    visualize=True,\n",
        "    feature_vector=False,\n",
        "    channel_axis=-1\n",
        ")\n",
        "hog_feat = hog_feat.astype(\"uint8\")\n",
        "\n",
        "\n",
        "print(f' HoG feature vector shape: {fd.shape}')\n",
        "print(f' HoG feature vector shape after vectorization: {fd.reshape(-1).shape}')\n",
        "\n",
        "fig, (ax1, ax2) = plt.subplots(1, 2, figsize=(12, 4), sharex=True, sharey=True)\n",
        "\n",
        "ax1.axis('off')\n",
        "ax1.imshow(image, cmap=plt.cm.gray)\n",
        "ax1.set_title('Input image')\n",
        "\n",
        "# Rescale histogram for better display\n",
        "hog_image_rescaled = exposure.rescale_intensity(hog_feat, in_range=(0, 10))\n",
        "\n",
        "ax2.axis('off')\n",
        "ax2.imshow(hog_image_rescaled, cmap=plt.cm.gray)\n",
        "ax2.set_title('Histogram of Oriented Gradients')\n",
        "\n",
        "plt.show()"
      ],
      "execution_count": 0,
      "outputs": []
    },
    {
      "cell_type": "markdown",
<<<<<<< HEAD
      "id": "1wXrgWyziRfumLvtlQx4Y",
=======
      "id": "kdKttqS2S72IaQRrIxOQO",
>>>>>>> main
      "metadata": {},
      "source": [
        ""
      ]
    },
    {
      "cell_type": "code",
<<<<<<< HEAD
      "id": "_25CUMG-mJr9-NQ3t4VD4",
=======
      "id": "ZDhy6VxoSz4WHW0u095tI",
>>>>>>> main
      "metadata": {},
      "source": [
        "# write your reflections here"
      ],
      "execution_count": 0,
      "outputs": []
    },
    {
      "cell_type": "markdown",
<<<<<<< HEAD
      "id": "6CxxwqVCdlE62ldd3BnkH",
=======
      "id": "DukJ_Nd9n67AfvHhCJljO",
>>>>>>> main
      "metadata": {},
      "source": [
        ""
      ]
    }
  ]
}