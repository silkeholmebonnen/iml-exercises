{
<<<<<<< HEAD
  "cells": [
    {
      "cell_type": "code",
      "execution_count": 0,
=======
  "metadata": {
    "kernelspec": {
      "display_name": "Python",
      "language": "python3",
      "name": "python3"
    },
    "language_info": {
      "codemirror_mode": {
        "name": "ipython",
        "version": 3
      },
      "file_extension": "py",
      "mimetype": "text/x-python",
      "name": "python"
    }
  },
  "nbformat": 4,
  "nbformat_minor": 5,
  "cells": [
    {
      "cell_type": "code",
>>>>>>> main
      "id": "css_setup",
      "metadata": {
        "jupyter": {
          "source_hidden": true
        }
      },
<<<<<<< HEAD
      "outputs": [],
=======
>>>>>>> main
      "source": [
        "import requests\n",
        "from IPython.core.display import HTML\n",
        "HTML(f\"\"\"\n",
        "<style>\n",
        "@import \"https://cdn.jsdelivr.net/npm/bulma@0.9.4/css/bulma.min.css\";\n",
        "</style>\n",
        "\"\"\")"
<<<<<<< HEAD
      ]
    },
    {
      "cell_type": "markdown",
      "id": "U6LGYMu4toE-CC9C8MoiM",
=======
      ],
      "execution_count": 0,
      "outputs": []
    },
    {
      "cell_type": "markdown",
      "id": "Ic6UA56CFu_96sbNaoRgI",
>>>>>>> main
      "metadata": {},
      "source": [
        "# Classification and decision boundaries\n",
        "This exercise is about linear classification (actually affine) and the visualization of decision boundaries. Noteably, the parameters of the decision boundary will initially be adjusted manually (or randomly) then learned using least squares.\n",
<<<<<<< HEAD
        "<article class=\"message is-warning\">\n",
        "  <div class=\"message-header\">Note</div>\n",
        "  <div class=\"message-body\">\n",
        "  \n",
        "  The term linear classification is actually referring to an affine model as it includes a bias term.\n",
        "\n",
        "  \n",
        "  </div>\n",
        "</article>\n",
=======
        "\n",
        "**Note**\n",
        "The term linear classification is actually referring to an affine model as it includes a bias term.\n",
>>>>>>> main
        "\n",
        "\n",
        "<article class=\"message\">\n",
        "    <div class=\"message-body\">\n",
        "        <strong>List of individual tasks</strong>\n",
        "        <ul style=\"list-style: none;\">\n",
        "            <li>\n",
        "            <a href=\"#linear\">Task 1: Linear decision boundary</a>\n",
        "            </li>\n",
        "            <li>\n",
        "            <a href=\"#predict22\">Task 2: Prediction function - reflections</a>\n",
        "            </li>\n",
        "            <li>\n",
        "            <a href=\"#predict\">Task 3: Prediction function</a>\n",
        "            </li>\n",
        "            <li>\n",
        "            <a href=\"#linear_optimization\">Task 4: Learning the decision boundary</a>\n",
        "            </li>\n",
        "        </ul>\n",
        "    </div>\n",
        "</article>\n",
        "\n",
        "## Linear Decision boundary\n",
        "The prediction function $f_{w}(\\mathbf{x})$ is used to predict which class a data point belongs to, by applying the $\\text{sign}$ function to the result of the linear combination of input features and weights. The classification is based on whether the output of $f_{w}(\\mathbf{x})$ is positive or negative. \n",
        "### Generating data points\n",
        "In the following section you will be experimenting with a linear classifier: \n",
        "\n",
        "$$ f_{w}(\\mathbf{x}) =  \\mathbf{y} = \\text{sign}({w_0} + \\mathbf{w}^\\top\\mathbf{x})$$\n",
        "where $\\mathbf{w}$ are the model parameters (including a bias term) and $\\mathbf{x}$ are the coordinates of the input. \n",
        "The $\\text{sign}$ function is given by:\n",
        "\n",
        "$$\n",
        "\\text{sign}(z) =\n",
        "\\begin{cases} \n",
        "-1 & \\text{if } z ≤ 0, \\\\\n",
        "1  & \\text{if } z > 0.\n",
        "\\end{cases}\n",
        "$$\n",
        "Alternatively, using homogeneous representation the classifier is expressed as (with appropriate updates to $\\mathbf{w}$ and $\\mathbf{x}$):\n",
        "\n",
        "$$\\mathbf{y} = \\text{sign}(\\mathbf{w}^\\top\\mathbf{x})$$\n",
        "### The Decision Boundary\n",
        "In binary classification the decision boundary separates the positive and negative classes and is defined by:\n",
        "\n",
        "$$\n",
        "f_w(\\mathbf{x}) = 0\n",
        "$$\n",
        "Points on one side (positive) of the boundary will be classified as the positive class (1), while points on the other side (negative) will be classified as the negative class (-1).\n",
        "For the affine model, the decision boundary is the line when: \n",
        "\n",
        "$$\n",
        "\\mathbf{w}^\\top \\mathbf{x} + w_0 = 0\n",
        "$$\n",
        "For a two-dimensional affine model (with features $x_1$ and $x_2$), the decision boundary is given by:\n",
        "\n",
        "$$\n",
        "w_1 x_1 + w_2 x_2 + w_0 = 0\n",
        "$$\n",
        "For display purposes, the decision boundary can be expressed in terms of $x_1$ and $x_2$ by isolating $x_2$ on one side:\n",
        "\n",
        "$$\n",
        "x_2 = -\\frac{w_0}{w_2} - \\frac{w_1}{w_2} x_1\n",
        "$$\n",
<<<<<<< HEAD
        "The cell below imports libraries and generates random data to be used for classification. \n"
=======
        "The cell below imports libraries and generates random data to be used for classification. \n",
        ""
>>>>>>> main
      ]
    },
    {
      "cell_type": "code",
<<<<<<< HEAD
      "execution_count": 1,
      "id": "2v3SzJ3KMwCfR0J7B9N1t",
      "metadata": {},
      "outputs": [
        {
          "data": {
            "text/plain": [
              "(40, 2)"
            ]
          },
          "execution_count": 1,
          "metadata": {},
          "output_type": "execute_result"
        }
      ],
      "source": [
        "import numpy as np\n",
        "import matplotlib.pyplot as plt\n",
        "import seaborn as sns\n",
=======
      "id": "YZCrTy1Ki2u4E864Kvowu",
      "metadata": {},
      "source": [
        "import numpy as np  \n",
        "import matplotlib.pyplot as plt  \n",
        "import seaborn as sns  \n",
>>>>>>> main
        "from sklearn.linear_model import LogisticRegression\n",
        "\n",
        "np.random.seed(42)  ## generate the same sequence of random points\n",
        "# Generate 2 clusters of data, by drawing from a normal distribution.\n",
<<<<<<< HEAD
        "S = np.eye(2)  ## covariance matrix, set to indenty matrix i.e. x,y independent.\n",
=======
        "S = np.eye(2)  ## covariance matrix, set to indenty matrix i.e. x,y independent. \n",
>>>>>>> main
        "p_pos = np.random.multivariate_normal([1, 1], S, 40)\n",
        "p_neg = np.random.multivariate_normal([-1, -1], S, 40)\n",
        "## 40 points (x,y) coordinates\n",
        "p_pos.shape"
<<<<<<< HEAD
      ]
    },
    {
      "cell_type": "markdown",
      "id": "JKQfsnn4XO3WQ4KocsiYy",
=======
      ],
      "execution_count": 0,
      "outputs": []
    },
    {
      "cell_type": "markdown",
      "id": "RjNxUiijMS2pYcSWzdiMk",
>>>>>>> main
      "metadata": {},
      "source": [
        "The data of the positive and negative classes are stored in the variables `p_pos`\n",
        " and `p_neg`\n",
<<<<<<< HEAD
        ", respectively. The next cell visualizes the two classes. \n"
=======
        ", respectively. The next cell visualizes the two classes. \n",
        ""
>>>>>>> main
      ]
    },
    {
      "cell_type": "code",
<<<<<<< HEAD
      "execution_count": 2,
      "id": "sEB5m2TVZZTFeqDlKn56d",
      "metadata": {},
      "outputs": [
        {
          "data": {
            "text/plain": [
              "<matplotlib.legend.Legend at 0x15ea5e1d0>"
            ]
          },
          "execution_count": 2,
          "metadata": {},
          "output_type": "execute_result"
        },
        {
          "data": {
            "image/png": "iVBORw0KGgoAAAANSUhEUgAAAiIAAAG/CAYAAABlpLwqAAAAOXRFWHRTb2Z0d2FyZQBNYXRwbG90bGliIHZlcnNpb24zLjkuMiwgaHR0cHM6Ly9tYXRwbG90bGliLm9yZy8hTgPZAAAACXBIWXMAAA9hAAAPYQGoP6dpAABHy0lEQVR4nO3deXxU5dn/8e8kQBKWTAgBEiWywwOygyigsihrpaAtrRZZqmKhIA/lZ0WqNdDqQ7UuVayoVMGKC1rFpSqKbIKICEgRY0ExAppQ9glLSSRzfn+MM2TIZJlkzpxzZj7v1yuvYWZO5twzJJlr7uu6r9tlGIYhAAAACyRYPQAAABC/CEQAAIBlCEQAAIBlCEQAAIBlCEQAAIBlCEQAAIBlCEQAAIBlCEQAAIBlCEQAAIBlCEQAAIBlalk9AADRM2DAAK1duzbkfUlJSXK73UpNTVXTpk3VvXt39ejRQ4MGDVLz5s2jPFIA8cLFXjNA/KgoEClPQkKChgwZounTp2v48OEmjax8pce8evVqDRgwIOpjAGAeZkSAOHXRRRepd+/egeter1cej0fHjh3T559/rj179gRuX758uZYvX65x48Zp/vz5crvdVg0bQIwhEAHi1IgRIzRnzpxy79+/f7+effZZPfLII/r2228lSc8++6w+//xzrVu3TnXr1o3SSAHEMopVAYSUmZmp3/72t/riiy80ZsyYwO1bt27V+PHjLRwZgFhCIAKgQvXr19fSpUt11VVXBW575ZVXtGbNGusGBSBmEIgAqJTL5dIzzzyjBg0aBG675557yj1+y5Ytmjdvnq666iq1atVK9evXV506ddS0aVP17dtXd9xxh/bu3VvpOV0uV1Bx7cCBAwO3l/5avHhxme8/cOCAFi1apAkTJqh79+5KT09X7dq1lZaWpv/5n//RL3/5S7377rvhvxgAIooaEQBVkp6erokTJ2r+/PmSpJUrV+rIkSNKT08POq5379765JNPQj7GgQMHdODAAX300Uf685//rLvvvlu33XZbxMf6yCOPaObMmSopKSlzn8fjkcfj0c6dO7V48WINGjRIL730kho1ahTxcQCoHIEIgCobM2ZMIBAxDEPr1q3TqFGjgo7xz3QkJSXpwgsvVJs2beR2u2UYhgoKCvTxxx/r0KFD+v777zVr1ixJChmMTJ06VZK0bNky5efnS5JGjx6t888/v8yxHTp0CLqen58fCEJatWqlDh06qHHjxkpOTtaxY8f02Wef6fPPP5ckrVq1SldeeaU2btyopKSkar82AKrJABA3+vfvb0gyJBk5OTlhf//JkyeNWrVqBR5j9uzZZY6ZMmWK8dZbbxmnTp0K+RhnzpwxFi1aZNSrV8+QZNSuXdv4+uuvqzTm1atXV2mcTz31lDF//nzj22+/LfeYf/3rX0avXr0Cj/3HP/6xSo8NILKoEQFQZXXr1lWzZs0C1//zn/+UOeaxxx7TiBEjlJKSEvIxEhMTNXHiRD311FOSpO+//16PP/54RMd5ww03aNq0aSFnT/y6dOmi999/X5mZmYFxh0rlADAXgQiAsJRuZnb06NFqP85Pf/pT1a9fX5L0/vvv13hc1eF2u3X11VdLkgoKCpSbm2vJOIB4Ro0IgLD4gwdJOn78eIXHfvbZZ9q6dau++eYbFRYWqqioKOh+l8sVOM7r9SohIfKfjQ4cOKCNGzfqiy++0NGjR3Xy5EkZpXa22Lx5c+Df27ZtU+fOnSM+BgDlIxABEJbSwUdqamrIY5555hn93//9n3bt2lWlx/z+++/l8XjUsGHDiIxRknJzczVr1iy98847VU65HDp0KGLnB1A1BCIAwuLxeAL/PnfprmEYuvHGG7Vo0aKwH/f48eMRC0TeffddjRo1qswMTFXGACC6qBEBUGUnT54M7DsjKVDo6bdw4cKgIOSqq67Ss88+qx07dujo0aMqKiqSYRiBr+bNmweO9Xq9ERnjwYMH9fOf/zwQhLRs2VL33nuvPvzwQ+Xn5+vUqVPyer2BMeTk5ER8DACqjhkRAFW2efPmoDTHJZdcEnT//fffH/j3Pffco9/97ncVPp4ZMxALFy4MzNp0795dH3zwQVBdSzTGAKDqmBEBUGUvvfRS4N8JCQnq169f4Pq+ffv05ZdfSpIaNmxYacfUwsLCGq26Kc/KlSsD/77zzjsrDEIkac+ePREfA4CqIxABUCWHDh3S3//+98D1oUOHKi0tLXDd3/1Uktq3b69atSqecF2/fn3Q6pXy+FfWVFXpcVx44YUVHltSUqIPP/wwrMcHEFkEIgAqZRiGJkyYoBMnTgRuu+OOO4KOKb309tSpU5U+5oIFC6p07uTk5MC/v//++0qPD2ccr732mvbv31+lcQAwB4EIgAqdOHFC1157rd5+++3AbWPHjg1Ky0i+olD/7MWOHTu0e/fuch9z6dKl+uc//1ml85fejO67776r9PhWrVoF/v3666+Xe9zBgwf1m9/8pkpjAGAeAhEAIe3fv1/333+/OnbsGFQbcvHFF+tvf/tbmeMzMjJ08cUXS/KtPhkzZox27twZdIzX69Vf//pXjRs3TomJiUGzHeUp3WDsH//4R6XpnKuuuirw7z/96U9asmRJmWO2bt2q/v37a9++fapXr16lYwBgHpdRlSQtgJgwYMAArV27VpJ00UUXqXfv3oH7vF6vCgsLdezYMeXm5iovL6/M999www16+OGHyy0AXblypYYMGRJYBlu7dm3169dPrVq10okTJ7Ru3ToVFBRI8q2qefLJJwPFonl5eWrRokWZx/zyyy/Vvn37QADSqVMn9e3bVw0aNAgcc+2116pXr16SpKKiInXp0iWomVqHDh3UtWtXJScna8eOHYFuql27dtXQoUN13333SZJycnI0Z86cyl9IAJFjyVZ7ACxReifbqn4lJCQYI0aMMN57770qnWPBggVBO/SGery77rrL8Hq9RvPmzQO35+XllfuYd955Z4VjXLRoUdDxO3fuNFq1alXh9/Tr18/49ttvjZycnBrtSAygZugjAkCSVKdOHaWmpsrtdqtp06bq3r27evXqpSuuuELZ2dlVfpzJkyerX79+euihh7R69Wrl5+crJSVF559/vgYNGqQbbrhB3bt3D2tsf/zjH9WvXz89/fTT2rx5s/7zn/9UWIjarl07ffrpp/rrX/+qV199VTt37lRxcbEyMzPVuXNn/eIXv9CYMWMqXdkDwHykZgAAgGUoVgUAAJYhEAEAAJYhEAEAAJYhEAEAAJYhEAEAAJYhEAEAAJax9SJ6r9er/Px8NWjQIOwdOAEAgDUMw9Dx48d13nnnBW1EGYqtA5H8/PywGikBAAD72Ldvn5o1a1bhMbYORPx7Sezbt0+pqakWjwYAAFRFYWGhsrOzg/aEKo+tAxF/OiY1NZVABAAAh6lKWYWpxaoLFixQly5dAoFEnz599M4775h5SgAA4CCmBiLNmjXTn/70J23evFmbN2/WoEGDNGrUKH3++edmnhYAADhE1De9S09P15///GfdeOONlR5bWFgot9stj8dDagYAAIcI5/07ajUiJSUlevnll3Xy5En16dMn5DFFRUUqKioKXC8sLKz0cQ3D0JkzZ1RSUhKxsSI+JSYmqlatWiwVB4AoMj0Q+eyzz9SnTx+dPn1a9evX17Jly9SxY8eQx86bN09z586t8mMXFxeroKBAp06ditRwEefq1q2rrKws1alTx+qhAEBcMD01U1xcrL179+rYsWN65ZVX9Le//U1r164NGYyEmhHJzs4OObXj9Xr15ZdfKjExUY0bN1adOnX4JItqMwxDxcXFOnjwoEpKStS2bdtKm/AAAEKzVWqmTp06atOmjSSpV69e+uSTT/Twww/riSeeKHNsUlKSkpKSqvS4xcXF8nq9ys7OVt26dSM6ZsSnlJQU1a5dW3v27FFxcbGSk5OtHhIAxLyof+QzDCNo1qOm+NSKSOLnCQCiy9QZkd/97ncaPny4srOzdfz4cb344otas2aNli9fbuZpAcA0JV5Dm/KO6MDx02rSIFm9W6YrMYG0MFBdpgYi//nPfzRu3DgVFBTI7XarS5cuWr58uQYPHmzmaQHAFMt3FGjum7kq8JwO3JblTlbOyI4a1inLwpEBzmXqPPRTTz2lb775RkVFRTpw4IDef/99WwYhJV5DH+0+rNe3faePdh9WiTeqrVUibs2aNXK5XDp27FiFx7Vo0UJ/+ctfojKmUKo6TsAOlu8o0JQlW4OCEEna7zmtKUu2avmOAotGBjibrfeaiYZY/ITTt2/fwCyUJC1evFgzZswo84b/ySefqF69ehaMEHCWEq+huW/mKtRHFEOSS9LcN3M1uGMmaRogTHFdmRern3Dq1KmjzMzMSpczN27cmBVHQBVsyjtS5u9EaYakAs9pbco7Er1BATEibgORyj7hSL5POGakaQYMGKBp06Zp2rRpSktLU6NGjXTnnXeqdEuXo0ePavz48WrYsKHq1q2r4cOH68svvwzcv2fPHo0cOVINGzZUvXr1dOGFF+rtt9+WFJzyWLNmjX75y1/K4/HI5XLJ5XJpzpw5koJTM9ddd52uvfbaoHF+//33ysjI0KJFi3yvi2HovvvuU6tWrZSSkqKuXbvqH//4R4XPtaioSLfddpuys7OVlJSktm3b6qmnngp57OHDh3XdddepWbNmqlu3rjp37qwXXngh6Jh//OMf6ty5s1JSUtSoUSNdeeWVOnnyZOB59+7dW/Xq1VNaWpr69eunPXv2VPK/AVTuwPHyg5DqHAfgrLhNzYTzCadP60YRP/8zzzyjG2+8UR9//LE2b96sm2++Wc2bN9ekSZMkSRMnTtSXX36pN954Q6mpqZo1a5ZGjBih3Nxc1a5dW1OnTlVxcbE++OAD1atXT7m5uapfv36Z8/Tt21d/+ctfdNddd2nnzp2SFPK4sWPH6mc/+5lOnDgRuP/dd9/VyZMn9ZOf/ESSdOedd+rVV1/VggUL1LZtW33wwQe6/vrr1bhxY/Xv3z/k8xw/frw++ugjPfLII+ratavy8vJ06NChkMeePn1aPXv21KxZs5Samqq33npL48aNU6tWrXTxxReroKBA1113ne677z5dffXVOn78uNatWxdo8z969GhNmjRJL7zwgoqLi7Vp0yaa3CEimjSoWk+Zqh4H4Ky4DUSs/oSTnZ2thx56SC6XS+3bt9dnn32mhx56SJMmTQoEIB9++KH69u0rSXruueeUnZ2t1157TWPGjNHevXv1k5/8RJ07d5YktWrVKuR56tSpI7fbLZfLpczMzHLHM3ToUNWrV0/Lli3TuHHjJEnPP/+8Ro4cqdTUVJ08eVIPPvigVq1aFdgrqFWrVlq/fr2eeOKJkIHIrl279NJLL2nFihW68sorKxynJJ1//vm69dZbA9dvueUWLV++XC+//HIgEDlz5oyuueYaNW/eXJICz//IkSPyeDy66qqr1Lp1a0lShw4dyj0XEI7eLdOV5U7Wfs/pkLOoLkmZbt9SXgDhidvUjNWfcC655JKgT+t9+vTRl19+qZKSEn3xxReqVauWLr744sD9jRo1Uvv27fXFF19IkqZPn667775b/fr1U05OjrZv316j8dSuXVtjxozRc889J0k6efKkXn/9dY0dO1aSlJubq9OnT2vw4MGqX79+4Ovvf/+7du/eHfIxt23bpsTExHJnS85VUlKie+65R126dFGjRo1Uv359vffee9q7d68kqWvXrrriiivUuXNnjRkzRgsXLtTRo0cl+XZ1njhxooYOHaqRI0fq4YcfVkGBM2t8YD+JCS7ljPRtS3HuHJv/es7IjhSqAtUQt4GI/xNOeX82XPKtnrHiE0552/8YhhEIXm666SZ9/fXXGjdunD777DP16tVL8+fPr9F5x44dq/fff18HDhzQa6+9puTkZA0fPlySb28fSXrrrbe0bdu2wFdubm65dSIpKSlhnf+BBx7QQw89pNtuu02rVq3Stm3bNHToUBUXF0vy7Y67YsUKvfPOO+rYsaPmz5+v9u3bKy8vT5K0aNEiffTRR+rbt6+WLl2qdu3aaePGjdV9OYAgwzplacH1PZTpDv5wkulO1oLrezh2lR1gtbgNRKz+hHPuG+TGjRvVtm1bJSYmqmPHjjpz5ow+/vjjwP2HDx/Wrl27gtIN2dnZmjx5sl599VX9v//3/7Rw4cKQ56pTp45KSkoqHVPfvn2VnZ2tpUuX6rnnntOYMWMCu9B27NhRSUlJ2rt3r9q0aRP0lZ2dHfLxOnfuLK/Xq7Vr11Z6bklat26dRo0apeuvv15du3ZVq1atggp0Jcnlcqlfv36aO3euPv30U9WpU0fLli0L3N+9e3fNnj1bGzZsUKdOnfT8889X6dxAVQzrlKX1swbphUmX6OFru+mFSZdo/axBBCFADcRtjYh09hPOuX1EMqPQR2Tfvn2aOXOmfvWrX2nr1q2aP3++HnjgAUlS27ZtNWrUKE2aNElPPPGEGjRooNtvv13nn3++Ro0aJUmaMWOGhg8frnbt2uno0aNatWpVuTURLVq00IkTJ7Ry5Up17dpVdevWDbls1+Vy6Re/+IUef/xx7dq1S6tXrw7c16BBA9166636zW9+I6/Xq0svvVSFhYXasGGD6tevrwkTJoQ874QJE3TDDTcEilX37NmjAwcO6Gc/+1mZ49u0aaNXXnlFGzZsUMOGDfXggw9q//79gef18ccfa+XKlRoyZIiaNGmijz/+WAcPHlSHDh2Ul5enJ598Uj/+8Y913nnnaefOndq1a5fGjx8f/n8OUIHEBJcpBexA3DJszOPxGJIMj8dT5r7//ve/Rm5urvHf//63xuc5U+I1Nnx1yHjt02+NDV8dMs6UeGv8mBXp37+/8etf/9qYPHmykZqaajRs2NC4/fbbDa/37HmPHDlijBs3znC73UZKSooxdOhQY9euXYH7p02bZrRu3dpISkoyGjdubIwbN844dOiQYRiGsXr1akOScfTo0cDxkydPNho1amRIMnJycgzDMIzmzZsbDz30UNDYPv/8c0OS0bx586DxGIZheL1e4+GHHzbat29v1K5d22jcuLExdOhQY+3ateU+1//+97/Gb37zGyMrK8uoU6eO0aZNG+Ppp58OOc7Dhw8bo0aNMurXr280adLEuPPOO43x48cbo0aNMgzDMHJzc42hQ4cajRs3NpKSkox27doZ8+fPNwzDMPbv32+MHj06cJ7mzZsbd911l1FSUlLl/xf/eCP1cwUA8aqi9+9zuQyjnIIEGygsLJTb7ZbH41FqamrQfadPn1ZeXp5atmzpuO3aBwwYoG7dulnaXh2hOfnnCgDsoqL373PFbY0IAACwHoEIAACwTFwXq1plzZo1Vg8BAABbYEYEAABYhkAEAABYhtQMAMSBEq+hTXlHdOD4aTVp4OsaTUt62AGBCADEuOU7Cso0bsyKQuPGcxEMIRQCEQCIYct3FGjKkq1ldg3e7zmtKUu2Rm2fHLODIYIc5yIQAYAYVeI1NPfN3DJBiCQZ8u2rNffNXA3umGnqm7bZwZBdZnxQPRSr+h3bJ+Vv813GuTlz5qhbt26WjqFFixZ0ngVqaFPekaA353MZkgo8p7Up74hpY6gsGJJ8wVCJt3pNvv1BzrnP0x/kLN9RUK3HRfQQiEi+4OPRntKT/X2XcRSMuFwuvfbaa0G33XrrrVq5cqU1AwIQMQeOlx+EVOe46jAzGDI7yEF0EIhI0qnD0pki37/PFPmux7H69eurUSN2FwWcrkmDqu2XVNXjqsPMYMgOMz6oufgORPzpmEO7gm8/tMvUNM2AAQM0ffp03XbbbUpPT1dmZqbmzJkTdIzH49HNN9+sJk2aKDU1VYMGDdK//vWvoGPuvvtuNWnSRA0aNNBNN92k22+/PSil8sknn2jw4MHKyMiQ2+1W//79tXXr1sD9LVq0kCRdffXVcrlcgeulUzPvvvuukpOTdezYsaBzT58+Xf379w9c37Bhgy6//HKlpKQoOztb06dP18mTJyt8Hd544w316tVLycnJysjI0DXXXFPusQ8++KA6d+6sevXqKTs7W7/+9a914sSJwP179uzRyJEj1bBhQ9WrV08XXnih3n77bUnS0aNHNXbsWDVu3FgpKSlq27atFi1aVOHYgFjQu2W6stzJKq/6wyVfLUXvlummjcHMYMgOMz6oufgNREqnY16dJLl+eClcCb7rJqdpnnnmGdWrV08ff/yx7rvvPv3hD3/QihUrJEmGYehHP/qR9u/fr7fffltbtmxRjx49dMUVV+jIEV9k/9xzz+mee+7Rvffeqy1btuiCCy7QggULgs5x/PhxTZgwQevWrdPGjRvVtm1bjRgxQsePH5fkC1QkadGiRSooKAhcL+3KK69UWlqaXnnllcBtJSUleumllzR27FhJ0meffaahQ4fqmmuu0fbt27V06VKtX79e06ZNK/f5v/XWW7rmmmv0ox/9SJ9++qlWrlypXr16lXt8QkKCHnnkEe3YsUPPPPOMVq1apdtuuy1w/9SpU1VUVKQPPvhAn332me69917Vr19fkvT73/9eubm5euedd/TFF19owYIFysjIKP8/B4gRiQku5YzsKEllghH/9ZyRHU0tVDUzGLLDjA9qzmUYhm2TZxVtI1zj7drzt/mCjcrcvFY6r1v4j1+BAQMGqKSkROvWrQvc1rt3bw0aNEh/+tOftGrVKl199dU6cOCAkpKSAse0adNGt912m26++WZdcskl6tWrlx599NHA/ZdeeqlOnDihbdu2hTxvSUmJGjZsqOeff15XXXWVJF+NyLJlyzR69OjAcXPmzNFrr70WeJz//d//1Y4dOwJ1I++9955Gjhyp/fv3q2HDhho/frxSUlL0xBNPBB5j/fr16t+/v06ePBny/6dv375q1aqVlixZEnKsLVq00IwZMzRjxoyQ97/88suaMmWKDh06JEnq0qWLfvKTnygnJ6fMsT/+8Y+VkZGhp59+OuRjlVbjnyvAhqxeVeIvKJUUVM/hD06qu2qmxGvo0ntXab/ndMg6EZekTHey1s8axFLeKKvo/ftc8TsjUreRVOvsm3zQjIhfrSTfcSbo0qVL0PWsrCwdOHBAkrRlyxadOHFCjRo1Uv369QNfeXl52r17tyRp586d6t27d9BjnHv9wIEDmjx5stq1aye32y23260TJ05o7969YY117NixWrNmjfLz8yX5ZmNGjBihhg0bBsa7ePHioLEOHTpUXq9XeXl5IR9z27ZtuuKKK6o8htWrV2vw4ME6//zz1aBBA40fP16HDx8OpH+mT5+uu+++W/369VNOTo62b98e+N4pU6boxRdfVLdu3XTbbbdpw4YNYT1/wOmGdcrS+lmD9MKkS/Twtd30wqRLtH7WoKgtbR3WKUsLru+hTHdwcJ/pTq7R0l07zPig5uK3j0hatjRti68w9dAuXzpGkgyvdM1CKaOdLwhJyzbl9LVr1w667nK55PV6JUler1dZWVkhd+lNS0sL+p7Szp3cmjhxog4ePKi//OUvat68uZKSktSnTx8VFxeHNdbevXurdevWevHFFzVlyhQtW7YsqMbC6/XqV7/6laZPn17mey+44IKQj5mSklLl8+/Zs0cjRozQ5MmT9cc//lHp6elav369brzxRn3//feSpJtuuklDhw7VW2+9pffee0/z5s3TAw88oFtuuUXDhw/Xnj179NZbb+n999/XFVdcoalTp+r+++8P63UAnCwxwaU+ra0rQh/WKUuDO2ZGvOmYP8g5d8Ynkz4ijhG/gYjkCzJCBRoZ7SKejglHjx49tH//ftWqVStQQHqu9u3ba9OmTRo3blzgts2bNwcds27dOj322GMaMWKEJGnfvn2BVIZf7dq1VVJSUumYfvGLX+i5555Ts2bNlJCQoB/96EdB4/3888/Vpk2bqj5FdenSRStXrtQvf/nLSo/dvHmzzpw5owceeEAJCb4Zq5deeqnMcdnZ2Zo8ebImT56s2bNna+HChbrlllskSY0bN9bEiRM1ceJEXXbZZfrtb39LIAJEmVnBkFlBDqIjvgMRP3+a5kyRqemYqrryyivVp08fjR49Wvfee6/at2+v/Px8vf322xo9erR69eqlW265RZMmTVKvXr3Ut29fLV26VNu3b1erVq0Cj9OmTRs9++yz6tWrlwoLC/Xb3/62zExEixYttHLlSvXr109JSUmBdMu5xo4dq7lz5+qee+7RT3/606D6iVmzZumSSy7R1KlTNWnSJNWrV09ffPGFVqxYofnz54d8vJycHF1xxRVq3bq1rr32Wp05c0bvvPNOUAGqX+vWrXXmzBnNnz9fI0eO1IcffqjHH3886JgZM2Zo+PDhateunY4ePapVq1apQ4cOkqS77rpLPXv21IUXXqiioiL985//DNwHIDZUN8ihNbz14rdGpDR/mubmtb5Lk9IxVeVyufT222/r8ssv1w033KB27drp2muv1TfffKOmTZtK8gUGs2fP1q233qoePXooLy9PEydODAoQnn76aR09elTdu3fXuHHjNH36dDVp0iToXA888IBWrFih7Oxsde/evdwxtW3bVhdddJG2b98eWC3j16VLF61du1ZffvmlLrvsMnXv3l2///3vlZVV/pTogAED9PLLL+uNN95Qt27dNGjQIH388cchj+3WrZsefPBB3XvvverUqZOee+45zZs3L+iYkpISTZ06VR06dNCwYcPUvn17PfbYY5KkOnXqaPbs2erSpYsuv/xyJSYm6sUXXyx3bADiw/IdBbr03lW6buFG/e+L23Tdwo269N5VdGONsvhdNRODBg8erMzMTD377LNWD8Wx+LkC4kN5+9/UdCUPfMJZNUNqxqFOnTqlxx9/XEOHDlViYqJeeOEFvf/++4FeJACA0OyyGSB8SM04lD99c9lll6lnz55688039corr+jKK6+0emgAYGu0hrcXZkQcKiUlRe+//77VwwAAx6E1vL0wIwIAiCu0hrcXxwciNq61hQPx8wTEPjtsBoizHBuI+DuTnjp1yuKRIJb4f57O7XwLIHbQGt5eHFsjkpiYqLS0tMD+LHXr1i3T8hyoKsMwdOrUKR04cEBpaWlKTEy0ekgATERrePtwbCAiSZmZmZIUCEaAmkpLSwv8XAGIbbSGtwdHByIul0tZWVlq0qRJYPMzoLpq167NTAgQZ6zeDBAOD0T8EhMTeQMBAMCBHFusCgAAnI9ABAAAWIZABAAAWIZABAAAWIZABAAAWIZABAAAWCYmlu8CgB2VeA2aZQGVIBABABMs31FQpn14Fu3DgTJIzQBAhC3fUaApS7YGBSGStN9zWlOWbNXyHQUWjQywHwIRAIigEq+huW/myghxn/+2uW/mqsQb6ojIj+Wj3Yf1+rbv9NHuw1E5JxAuUjMAEEGb8o6UmQkpzZBU4DmtTXlHTN3jhNQQnMLUGZF58+bpoosuUoMGDdSkSRONHj1aO3fuNPOUAGCpA8fLD0Kqc1x12Ck1xKwMKmPqjMjatWs1depUXXTRRTpz5ozuuOMODRkyRLm5uapXr56ZpwYASzRpkBzR48JVWWrIJV9qaHDHTNNX8DArg6owNRBZvnx50PVFixapSZMm2rJliy6//PIyxxcVFamoqChwvbCw0MzhAUDE9W6Zrix3svZ7TocMBlySMt2+pbxmsFNqaMqSrWVeA/+szILrexCMQFKUi1U9Ho8kKT099C/gvHnz5Ha7A1/Z2dnRHB4A1Fhigks5IztK8gUdpfmv54zsaNpshB1SQ3Yq2I0WUlDVF7ViVcMwNHPmTF166aXq1KlTyGNmz56tmTNnBq4XFhYSjABwnGGdsrTg+h5l0hKZUUhLWJ0akuwzKxMtpKBqJmqByLRp07R9+3atX7++3GOSkpKUlJQUrSEBgGmGdcrS4I6ZUe+sanVqSLLHrEy0kIKquaikZm655Ra98cYbWr16tZo1axaNUwKA5RITXOrTupFGdTtffVo3ikp7d6tTQ5I9ZmWiIR5TUGYwNRAxDEPTpk3Tq6++qlWrVqlly5Zmng4AoLOpoUx38Bt9pjs5Kp/Q/bMy5YU6LvlSF2bOykRDOCkolM/U1MzUqVP1/PPP6/XXX1eDBg20f/9+SZLb7VZKSoqZpwaAuGZVakg6OyszZclWuaSgGYNozcpEQzyloMxk6ozIggUL5PF4NGDAAGVlZQW+li5dauZpAQCyJjXkZ/WsTDTESwrKbKbOiBgGeTFUH1uoA85m5axMNNihMDgWsNcMbInlcEBs8M/KxKJ4SUGZjd13YTt22icDACoSDykoszEjAlux0z4ZAFAVTk1B2SX9TSACW4m3jowAYoPTUlB2Sn+TmoGtsBwOAMxlt/Q3gQhsheVwAGAeO3aDJRCBrcRLR0YAsIIdu8ESiMBW7LBPBgDEKjumvwlEYDsshwMAc9gx/c2qGdiSU5fDAYCd2bEbLIEIbMtpy+EAwO7s2A2W1AwAAHHEbulvZkQAIAS7dJ0EzGCn9DeBCACcw05dJwGz2CX9TWoGAEqxW9dJINYRiADAD+zYdRKIdQQiAPCDSHedLPEa+mj3Yb2+7Tt9tPswAQwQAjUiAPCDSHadpM4EqBpmRADgB5HqOkmdCVB1BCIA8INIbLpInQkQHgIRAPhBJDZdtOPupoCdEYgAVjq2T8rf5ruELdS066QddzcF7IxiVcAqx/ZJj/aUzhRJtZKkaVuktGyrRwXVrOukHXc3BeyMQASwyqnDviBE8l2eOkwgYiPV7Tppx91NATsjNQNEmz8dc2hX8O2HdpGmiQGRqDMB4onLMAzblm4XFhbK7XbL4/EoNTXV6uEANVc6HSNJrgTJ8J69lEjTxAj6iCCehfP+TWoGiKbS6RjpbPDhv5RI08QIO+1uCtgZgQgQTXUb+WY8KpsRqWv9jpjRUOI1YvqN2i67mwJ2RiACRFNati/tcuqwrybk1Um+2w2vdM1CKaOdLwiJg9kQUhcAJIpVgehLy5bO6+YLOkrLaOe7PU6CEFqgA5AIRADr+NM0UtylY2iBDsCP1AxgldJpmjhJx0jhtUAvXV8R6/UkQLwiEAGslJYdNwGIX3VaoFNPAsQuUjMAoircFujUkwCxjUAEQFT5W6CXl1RxyTfb0btlOvUkQBwgEAEQVeG0QA+nngSAMxGIAIi6YZ2ytOD6Hsp0B6dpMt3JWnB9j0DdR3XqSQA4C8WqACxRlRbo4daTAHAeAhEANVKTZbWVtUD315Ps95wOWSfikm8WpXfL9OoNHoDlCEQAVM2xfWV6npi9rNZfTzJlyVa5pKBg5Nx6EgDO5DIMw7bl5uFsIwzARMf2SY/29G3WVytJmrZFy7+tpSlLtpaZqfCHBKVrPWqKPiKoKRriRVc479/MiACo3KnDZ3cMPlOkkpOHNPfNI+Uuq3XJt6x2cMfMiPyxr0o9CVAeAll7IxABUD5/OubQrqCbv87dqvTC/8qlBspXRplvK69Ne01UVk8ChOJviHdu0OxviBfJmTtUD4EIgNBKp2MkyZUgGV7JlaC2H87UW0nSaaO2BhU9EDIYkVhWC2tV1hAv0jN3qB76iAAIrXQ6RvIFIaUvJSW7vldD1/FyHyJeltWWeA19tPuwXt/2nT7afZhOrzZBQzxnYEYEQGh1G/kKU0PMiPiDkdNGbR01GpT51nhaVkv9gX3REM8ZmBEBEFpatjRti3TzWumahcEzItcs1IYrXtEVRQ+o4Jy0TDwtq2VDPnujIZ4zEIgAKF9atnReNymjXfDtGe3U97Ir9fvrh1Tapj1WsSGf/YWzwSKsQ2oGQOVKp2lqJfmuK76X1YZTf8BqH2vQEM8ZCEQAVM6fpjmns6oUv8tqqT9wBv8Gi+fW8WRSx2MbBCIAqiYtOygAiXfUHzhHPM/cOQGBCABUAxvyOUu8ztw5ganFqh988IFGjhyp8847Ty6XS6+99pqZpwOAqPHXH0gqUwxJ/QFQdaYGIidPnlTXrl316KOPmnkaALCEv/4gXlcOAZFgampm+PDhGj58uJmnAABLUX8A1IytakSKiopUVHS2pXRhYaGFowGAqqH+AKg+WzU0mzdvntxud+ArO5sKfQAAYpmtApHZs2fL4/EEvvbt22f1kAAAgIlslZpJSkpSUlKS1cMAAABRYqtABAAAybeXDwXA8cHUQOTEiRP66quvAtfz8vK0bds2paen64ILLjDz1AAAh1q+o6BMS/YsWrLHLJdhGKZtDblmzRoNHDiwzO0TJkzQ4sWLK/3+wsJCud1ueTwepaammjBCAICdLN9RoClLtpbpVuufC6E/izOE8/5t6ozIgAEDZGKcAwC2RWohfCVeQ3PfzA3ZMt+QLxiZ+2auBnfM5LWMIdSIAECEkVqonk15R4Jes3MZkgo8p7Up7wh9W2KIrZbvAoDT+VML576h7vec1pQlW7V8R4FFI7O/A8fLD0KqcxycgRkRAIgQM1ML8ZDqadIgufKDwjguXjntZ4VABAAixKzUQrykenq3TFeWO1n7PadDBnMu+TYU7N0yPdpDcwwn/qyQmgGACDEjtRBPqZ7EBJdyRnaUdHaVjJ//es7Ijrb+dG8lp/6sEIgAQIREOrVQWapH8qV6SryxszpxWKcsLbi+hzLdwa9RpjuZpbsVcPLPCqkZAAhDRfn3SKcWrFhFYof6gmGdsjS4Y6bl43ASJ684IhABENMi+cZaWf7dn1qYsmSrXFJQMFKd1EJ1Uj01eb52qi9ITHDZ7g3Tzpy84ohABEDMiuQba3kdP/35d3/awJ9aOPe8mdU4b7ipnpo836o+P9iTk1ccmdrivaZo8Q6guiLZKrzEa+jSe1eVO/XtT7msnzUoMPsQiZkY/3krS/WsnzVIK3L3V/v5Vuf5wV7C+VmJxv9hOO/fFKsCiDmRLtwLJ//u508tjOp2vvq0blStP/5VXUUiqUbPtzrPD/bi5BVHBCIAYk6k31itzL9XZRVJTZ+vk+sLcJZTVxxRIwIg5kT6jdXq/Htlq0hq+nzNfH52WIUTT5y44ohABEDMifQbqx06fla0iqSmz9es52enVTjxxGkrjkjNAIg5/jfW8j4DuuR7Q6zqG6vd8+81fb5mPD+ndvlE9BGIAIg5Zryx2jn/HonnG8nn5+Qun4g+lu+iZo7tk04dluo2ktKyrR4NEMSM1ICdax4i8Xwj8fw+2n1Y1y3cWOlxL0y6xFEpBFRdOO/f1Iig+o7tkx7tKZ0pkmolSdO2EIzAVswo3Asn/x7toCUSzzcS9QWswkE4CERQfacO+4IQyXd56jCBCGzHqsI9qwo17VCoaPUqIzgLNSII37F9Uv426dCu4NsP7fLdfmyfFaMCbCPeCzUjXSyM2MaMCMJTOh0jSa4EyfD6Ll+d5LuNNA3iWGWFmi75CjUHd8y0TW1JpEV68z/ENmZEEJ7S6RjJF4SUvpTOpmmAOES7dB87rzKCvTAjgvDUbeSb8Qg1I+IPRmol+Y4D4hCFmmc5scsnoo9ABOFJy/alXU4d9tWE+NMxhle6ZqGU0Y6lvFFm5+Wk8YhCzWB2KJ6FvRGIIHxp2aEDjYx20nndoj6ceEYLbfuxQzt4wEmoEUH1+dM0EukYC8T7ygy7sns7eMBuCERQff40zc1rWSUTZbTQtjcKNYGqIzWDmikvTQNThbMyg/y8NSjUBKqGQARwIFZmOAOFmsEorEYoBCKAA7EyA05DYTXKQ40I4EC00IaTUFiNihCIAA6UWPitHrjU0Hk6xMoM2BqF1agMgQjgND/s99N35U/0Qd1b1TX1eNDdrMyAndDyHpWhRgRwmlL7/SR6i/XKhPbadPqCiBUAUlCISKKwGpUhEAGc4ti+s631S0k8/KX6ZLikRo2ktJqt0KCgEJFGYTUqQyACOMEP6ZiQmw369/uplVSjxnL+gsJzM/X+gkLSPagOWt6jMtSIAE5QKh0j6exOx/5LyXf/qcPVengKCmEWWt6jMgQigBOU3tdH8s2ElL6UarTfDwWFMBMt71ERUjOAE/j39fHXiPjTMYZXumahb+fjuo2qnZahoBBmo+U9ykMgAjhFefv6ZLSTzutWo4emoBDRQMt7hEJqBnCa0mmaGqRjSqNTKwCrMCMCOE3pNE0N0jGl+QsKpyzZKpcUVLRKQSEAMzEjAjhRWrYvHROBIMSPgkIAVmBGBEAABYUAoo1ABEAQCgoBRBOpGQAAYBkCEQAAYBkCEQAAYBkCEQAAYBkCEQAAYBkCEQAAYBkCEQAAYJmoBCKPPfaYWrZsqeTkZPXs2VPr1q2LxmkBAIDNmR6ILF26VDNmzNAdd9yhTz/9VJdddpmGDx+uvXv3mn1qwFmO7ZPyt/kuASBOuAzDMCo/rPouvvhi9ejRQwsWLAjc1qFDB40ePVrz5s2r8HsLCwvldrvl8XiUmppq5jABax3bJz3aUzpT5NtRd9qWiO4jA/iVeA1a+MN04bx/m9rivbi4WFu2bNHtt98edPuQIUO0YcOGMscXFRWpqKgocL2wsNDM4QH2ceqwLwiRfJenDhOIIOKW7yjQ3DdzVeA5Hbgty52snJEd2dQQljE1NXPo0CGVlJSoadOmQbc3bdpU+/fvL3P8vHnz5Ha7A1/Z2fwhRozzp2MO7Qq+/dAu0jSIqOU7CjRlydagIESS9ntOa8qSrVq+o8CikSHeRWXTO5creNrPMIwyt0nS7NmzNXPmzMD1wsJCghHErtLpGElyJUiG13f56iTfbaRpEAElXkNz38xVqDy8Icklae6buRrcMZM0DaLO1BmRjIwMJSYmlpn9OHDgQJlZEklKSkpSampq0BcQs0qnYyRfEFL6UjqbpgFqYFPekTIzIaUZkgo8p7Up70j0BgX8wNRApE6dOurZs6dWrFgRdPuKFSvUt29fM08N2F/dRr4ZDz9XQvCl5Lu/bqPojgsx58Dx8oOQ6hwHRJLpqZmZM2dq3Lhx6tWrl/r06aMnn3xSe/fu1eTJk80+NWBvadm+tMupw76aEH86xvBK1yyUMtr5ghDSMqihJg2SI3ocEEmmByI///nPdfjwYf3hD39QQUGBOnXqpLffflvNmzc3+9SA/aVlhw40MtpJ53WL+nAQm3q3TFeWO1n7PadD1om4JGW6fUt5gWiLSmfVX//61/rmm29UVFSkLVu26PLLL4/GaQHnKJ2mIR2DCEtMcClnZEdJvqCjNP/1nJEdKVSFJUxvaFYTNDRDXDm2z5emidN0DI22zEcfEURLOO/fBCIALMcbZPQQ8CEaCESAeBEDsyj+Rlvn/iHyvzUuuL4HwQhMRXAWebZp8Q7ARDGwP01UGm3FQLAG8zAbZ72oFKsCMEGo/WkcxvRGW/5g7cn+vkta5qMU2t7bA4EI4DQxtD+N6Y22YiBYgzkqm42TfLNxJV7bVi/EDFIzgJPE2P40pjXa8qdjQgVrEmkahDUb16c1y+nNRCACOEk4+9M44I3WlEZbMRaswRy0vbcPUjOAk8TY/jSmNNpiM0FUAW3v7YMZkXjAqoHYEYP70wzrlKUF1/cos3Ihs7orF/zBWqgZEX8w4qBgDeag7b19EIjEuhhY4olzxOD+NMM6ZWlwx8zI9HKIwWANkeefjZuyZKtcUlAwQtv76CIQiXWhVg3wBzg2lP7kHwOf8BMTXJErCozBYA2RF/HZOFQLgUisYtVA7Cv9yZ//z9BiLFhD5EV0Ng7VQov3WFTRqoHSOXLSNIgH1EgBUUeL93gXY0s8gaoKuWdIeWkaALZAIBKLWDWAOMSeITXH5m+wAqmZWFW6RsS/akBi1QBiEjv41hyBHCIpnPdvGprFqrRs3+qAjHbBt/tXDRCEIEawZ0jNsfkbrEQgEutKd+IkHYMYZPoOvjGOQA5Wo0Yk1sX6Ek9WRMQ99gypGTZ/g9UIROJBrK4aoGssxJ4hNUUgB6uRmkGwY/uk/G2+S7sL1TUWcce/Z0h5aztc8hVdxsWeIdX4/SWQg9WYEcFZTplhoGssSmHPkB9U8/eXzd9gNWZEcJYTZhj8f2yf7O9bluz64UfYleC7/mR/3/1OmNFBxPj3DMl0B39qz3Qnx8/S3Wr+/voDOUllZpXiKpCDZZgRgbNmGOgai3LE7Z4hEfj9ZfM3WImGZvHOafvS2GW8rNaBHUT494HOqogU9ppB1TlthqH0cuTSXWMNb/S6xjqllgaxL8K/v4kJLpboIuoIROKdE/elKW85sr9rrNlC5eIJRGAFJ/7+AucgEIl3dphhqK7Sf4TN/GPrT8OcKZZq1XFGLQ3ig5N/f4EfEIjA+hmG6opG19hzc/B+pT95+v/4W5GmoVYFTv39BX5AIIKzojXDEElmd409NwfvZ4damliuVSHACp8Tf38BEYigtFjflyYc5S2J9LNDLj5Wa1ViOcAyE7+/cCgCEQSL1X1pwlHeksjSSs+IRDsXH42+L1bOSMRqgBUN/P7CgQhEgHOVtySyPNHMxVfUNyJStSpWzUg4qbEegIghEAHOVd6SyFCsTMdI5tSqWDEjEY0AC4AtEYgA5yqda9/7kbT89rLH9L9datRaSmsR3TfGqvSNkHxLjcNl5YyE0xrrAYgYAhHYh51WSvjPv+Kusve5EqS1f/L9O9qf0ivqG1FarTrhPa7VMxI05opptI5HRQhEYA92XClx6rBUEmJmwepP6VUpSAx3FsPqGQkac8Ws5TsKymyml8VmeiiFQAT2YMeVEnb/lF4m/eKSZFRvFsMOz5XGXDFn+Y4CTVmyVefurLrfc1pTlmzVgut7EIyAQMRUdko12JWdV0rY/VN6mfTLD3/uqzOLYafnSmOumFDiNTT3zdwyQYjk+0l1SZr7Zq4Gd8wkTRPnCETMYsdUg91YXZdQFXb+lB7pWQy7PFcac9WcDT4Ebco7EpSOOZchqcBzWpvyjrDjb5wjEDGLHVMNdmN1XUI47Pgp3axZDDs8VxpzVZ9NPgQdOF5+EFKd4xC7CEQizc6pBruxQ11CVdn1U7oZsxh2fa6oGpt8CGrSIDmixyF2EYhEkhNSDXZip7qEqrDzp/RIz2LY+bkiNJt9COrdMl1Z7mTt95wOWSfikpTp9i3lRXwjEIkkJ6Ua7MIudQlOxyxGfLPhh6DEBJdyRnbUlCVb/eu5AvylqTkjO1KoCiVYPYCY4v9U6udKCL6U7JNqsJvSrx2vUfWkZfuCN4KQ+BPOhyATlHgNfbT7sF7f9p0+2n1YJV5f2DGsU5YWXN9Dme7g9EumO5mluwhgRiSSnJZqsBM+0QPVZ2G9VWUNy4Z1ytLgjpl0VkW5XIZhhErf2UJhYaHcbrc8Ho9SU1OtHk548rdJT/Y/e/3mtb5PqzZYVgcgBpWuEfF/CJJM/RBUXsMyf4jBrEf8Cuf9mxkRs4QqHrTJsjoAMSjK9VbFZ7z63bLPaFiGGiMQMUuoVEP+NlssqwMQw6LQB2b5jgL9btkOHTn5fbnH0LAMVUUgYib/J5Rj+3xBiE2W1QGIYRGot6pot9zy0jHloWEZKkMgYjYbLqsDEONq0AemouLTwR0zy90/pjw0LENlTF2+e88996hv376qW7eu0tLSzDyVfVm8rA4Aqso/23HuHjH+3XIfXfVVhfvHlOaSL4ChYRkqY2ogUlxcrDFjxmjKlClmnqZ6/OmSY/vMPQ+9RQA4QGW75UrSog15YT0mDctQFaamZubOnStJWrx4sZmnCV80V6/QWwSAA1Rlt9xjp8ovTi0tvV5t/d/VnVm6iyqxVY1IUVGRiorOpjEKCwvNOVG0N4WijTkAm6tqUWlaSm15/vt9uXUijerV0Uezr1CdWjTuRtXY6idl3rx5crvdga/s7AgHBxWtXol2moZ0DCIhWilGxLyqFpX+sl8LSWeblvm5fvi65+pOBCEIS9gzInPmzAmkXMrzySefqFevXmEPZvbs2Zo5c2bgemFhYeSCETusXqGNOSKJBnmIoKruljttUFu1z2xQZmVNZqm27kA4wg5Epk2bpmuvvbbCY1q0aFGtwSQlJSkpKanyA6vDLjvjsr06IiXaKUbEtHB2y2X/GERS2IFIRkaGMjIyzBiLuSzcFAqIqNJ7ipRGgzzUkH+33KrMdiQmuOiYiogwtVh17969OnLkiPbu3auSkhJt27ZNktSmTRvVr1/fzFOXxeoVxAI7pBgR05jtQLSZGojcddddeuaZZwLXu3fvLklavXq1BgwYYOapQ2P1CpzOLilGxDRmOxBNppY2L168WIZhlPmyJAgpjdUrcCoa5AGIMbbqIxI1rF6BU5FiBBBj4jMQkVi9AucixQgghtB1BnAqUowAYkD8zogAVvAvvY1E+oQUI4AYQCACRIsZnVBJMQJwOFIzQLSE6oQKAHGOGRHAbHRCBYByEYgAZqITKgBUiNQMoicet6wPpxMqAMQhZkQQHZUVakZyNYmdsNkiAFSIQATRUdGW9WasJrELOqECQIUIRGCuqhRqVhSkxAI6oQJAuQhEYJ6qFGom1pEG/yH4+2J1NUnpNA3pGACQRCACM1WlULOkWFp+e3ysJqETKgCUQSAC81SlUNOvotUksfSGTSdUAAjC8l07c/pyV/8MwM1rfYWZpYONYX+SEmufPdaVEHwpkb4AgDjAjIhdxcpKkvJmAC7oI93yKatJACDOEYjYVaytJAlVqMlqEgCIewQidhOr+5JUVKjJahIAiFsuwzAMqwdRnsLCQrndbnk8HqWmplo9HPNVtNy1dBdOp6ZpKhKrnVUBIA6F8/7NjIidhLMviZPerKsSZLCahGAMQFwiELGTWNyXJFaKbs3G6xQbCCaBsBGI2Eks7ksSa0W3ZuF1cj6CSaBaCETsJlZWksRq0W2k8TrFDoJJoFoIROzKbitJwplyrsoeM3xi5HWKFQSTQI0QiNiVnfYlCXfKOVaLbiON18n5CCaBGqPFu52lZfvSMVb/AQs15VwR/2yOH+3bQ+N1cr5wgkkAITEjgvJVd8o5FotuzcDr5HyxuNINiDICEYRW0ynnWCm6NRuvk7MRTAI1RiCC0CJVv2C3olu74nVyLoJJoEYIRBBapKac7VR0a2e8Ts5HMAlUC3vNoHyla0T8U84SU85AeeisCkhirxlEClPOQHjYMwkIG4EIKseUszPwaRyAAxGIoHLUL9gf+5wAcCgCEVQNU872xj4nAByKQARwMvY5AeBwBCKAU7HPCYAYwF4zgFOxzwmAGEAggvh1bJ+Uv8136URsmgcgBpCaQXyKhVUm7HMCIAYQiCA+xcoqE5rOAXA4AhHEl1hdZULTOQAORSCC+BHLq0xoOgfAoQhEED/CWWXixDdyms4BcCBWzSB+sMrEek5fqQQg4pgRQfxglYm1YmGlEoCIIxBBfGGViXViZaUSgIgiEEF8YpVJ9MTqSiUAEUEggvjEKpPoiOWVSgAigkAE8YtVJuaL9ZVKAGqMVTMAzMNKJQCVMC0Q+eabb3TjjTeqZcuWSklJUevWrZWTk6Pi4mKzTgnAbvwpsJvX+lYmlZ4RuWah73bSMkBcMy018+9//1ter1dPPPGE2rRpox07dmjSpEk6efKk7r//frNOC8BuWKkEoAKmBSLDhg3TsGHDAtdbtWqlnTt3asGCBQQiQDxipRKAEKJarOrxeJSenl7u/UVFRSoqOlvYVlhYGI1hAYgGVioBCCFqxaq7d+/W/PnzNXny5HKPmTdvntxud+ArO5s/VEBMScv2pWMIQgD8IOxAZM6cOXK5XBV+bd68Oeh78vPzNWzYMI0ZM0Y33XRTuY89e/ZseTyewNe+fexHAQBALHMZhmGE8w2HDh3SoUOHKjymRYsWSk5OluQLQgYOHKiLL75YixcvVkJC1WOfwsJCud1ueTwepaamhjNMAABgkXDev8OuEcnIyFBGRkaVjv3uu+80cOBA9ezZU4sWLQorCAEAALHPtGLV/Px8DRgwQBdccIHuv/9+HTx4MHBfZmamWacFAAAOYlog8t577+mrr77SV199pWbNmgXdF2Y2CAAAxCjTciUTJ06UYRghv4C4cWyflL/NdwkAKINN7wCzlN55lh1mASAkqkcBs5Teeda/wywAIAgzIkCkHdvnCzoO7Qq+3X+drqIAEEAgAkRS6XSM5Nvu3vD6Ll+d5LuNNM3ZYI2gDIh7BCJAJJVOx0jB2977+dM08foGTO0MgFKoEQEiyb/DrJ8rIfhSYudZamcAlMKMCBBJpXeYPbTrbDrG8ErXLJQy2sVvOoLaGQAhEIgAkZaWHfoNNaOdb+fZeETtDIBykJqJVTTSsl7pNA3pmKrXzgCIK8yIxCKKAe2hdJom3tMO/qAs1IyIPxiJ92ANiFMEIrEoVDFgPL8JWqm8NE28oXYGQDkIRGIJxYCwM2pnAIRAIBIrKAaEU5RO05COAeIegUisoJEWnILaGQClEIjECooB4SROr52hRT0QMQQisYJiQCA6WJUGRBSBSCyhGBAwH6vSgIgiEIlFFAOGxnQ6aoJVaYApCERiEcWAZTGdjppgVRpgGlq8x6q0bF86hj+KPuz4ipqgRT1gGmZEENuYTkcksCoNMA2BCGIX0+mIFFalAaYhEEHsoskbIolVaYApqBFB7PJPp/u5EoIvJabTEb7SP1f8/AA1xowIYhfT6TADq9KAiCIQQWxjOh1mcHqLesBGSM0gPjCdDgC2xIwI4gPT6QBgSwQiiB9MpwOA7ZCaAQAAliEQAQAAliEQAQAAliEQAQAAliEQAQAAliEQAQAAliEQAQAAliEQAQAAliEQAQAAlrF1Z1XDMCRJhYWFFo8EAABUlf992/8+XhFbByLHjx+XJGVn05YbAACnOX78uNxud4XHuIyqhCsW8Xq9ys/PV4MGDeRyucL+/sLCQmVnZ2vfvn1KTU01YYTxgdcxMngdI4PXMTJ4HSOD1zE0wzB0/PhxnXfeeUpIqLgKxNYzIgkJCWrWrFmNHyc1NZUfkAjgdYwMXsfI4HWMDF7HyOB1LKuymRA/ilUBAIBlCEQAAIBlYjoQSUpKUk5OjpKSkqweiqPxOkYGr2Nk8DpGBq9jZPA61pyti1UBAEBsi+kZEQAAYG8EIgAAwDIEIgAAwDIEIgAAwDIEIgAAwDJxE4j8+Mc/1gUXXKDk5GRlZWVp3Lhxys/Pt3pYjvLNN9/oxhtvVMuWLZWSkqLWrVsrJydHxcXFVg/Nce655x717dtXdevWVVpamtXDcZTHHntMLVu2VHJysnr27Kl169ZZPSRH+eCDDzRy5Eidd955crlceu2116wekiPNmzdPF110kRo0aKAmTZpo9OjR2rlzp9XDcqS4CUQGDhyol156STt37tQrr7yi3bt366c//anVw3KUf//73/J6vXriiSf0+eef66GHHtLjjz+u3/3ud1YPzXGKi4s1ZswYTZkyxeqhOMrSpUs1Y8YM3XHHHfr000912WWXafjw4dq7d6/VQ3OMkydPqmvXrnr00UetHoqjrV27VlOnTtXGjRu1YsUKnTlzRkOGDNHJkyetHprjxG0fkTfeeEOjR49WUVGRateubfVwHOvPf/6zFixYoK+//trqoTjS4sWLNWPGDB07dszqoTjCxRdfrB49emjBggWB2zp06KDRo0dr3rx5Fo7MmVwul5YtW6bRo0dbPRTHO3jwoJo0aaK1a9fq8ssvt3o4jhI3MyKlHTlyRM8995z69u1LEFJDHo9H6enpVg8DcaC4uFhbtmzRkCFDgm4fMmSINmzYYNGoAB+PxyNJ/D2shrgKRGbNmqV69eqpUaNG2rt3r15//XWrh+Rou3fv1vz58zV58mSrh4I4cOjQIZWUlKhp06ZBtzdt2lT79++3aFSAb8v7mTNn6tJLL1WnTp2sHo7jODoQmTNnjlwuV4VfmzdvDhz/29/+Vp9++qnee+89JSYmavz48YrTzFSQcF9HScrPz9ewYcM0ZswY3XTTTRaN3F6q8zoifC6XK+i6YRhlbgOiadq0adq+fbteeOEFq4fiSLWsHkBNTJs2Tddee22Fx7Ro0SLw74yMDGVkZKhdu3bq0KGDsrOztXHjRvXp08fkkdpbuK9jfn6+Bg4cqD59+ujJJ580eXTOEe7riPBkZGQoMTGxzOzHgQMHysySANFyyy236I033tAHH3ygZs2aWT0cR3J0IOIPLKrDPxNSVFQUySE5Ujiv43fffaeBAweqZ8+eWrRokRISHD2pFlE1+XlE5erUqaOePXtqxYoVuvrqqwO3r1ixQqNGjbJwZIhHhmHolltu0bJly7RmzRq1bNnS6iE5lqMDkaratGmTNm3apEsvvVQNGzbU119/rbvuukutW7eO+9mQcOTn52vAgAG64IILdP/99+vgwYOB+zIzMy0cmfPs3btXR44c0d69e1VSUqJt27ZJktq0aaP69etbOzgbmzlzpsaNG6devXoFZuT27t1LnVIYTpw4oa+++ipwPS8vT9u2bVN6erouuOACC0fmLFOnTtXzzz+v119/XQ0aNAjM1LndbqWkpFg8Oocx4sD27duNgQMHGunp6UZSUpLRokULY/Lkyca3335r9dAcZdGiRYakkF8Iz4QJE0K+jqtXr7Z6aLb317/+1WjevLlRp04do0ePHsbatWutHpKjrF69OuTP3oQJE6wemqOU97dw0aJFVg/NceK2jwgAALAeCX4AAGAZAhEAAGAZAhEAAGAZAhEAAGAZAhEAAGAZAhEAAGAZAhEAAGAZAhEAAGAZAhEAAGAZAhEAAGAZAhEAAGCZ/w82eoTuwk8ZsQAAAABJRU5ErkJggg==",
            "text/plain": [
              "<Figure size 640x480 with 1 Axes>"
            ]
          },
          "metadata": {},
          "output_type": "display_data"
        }
      ],
=======
      "id": "YTM4u2sIZfzcKTn-ihB-n",
      "metadata": {},
>>>>>>> main
      "source": [
        "fig, ax = plt.subplots()\n",
        "ax.plot(p_pos[:, 0], p_pos[:, 1], \"o\", label='positive class')\n",
        "ax.plot(p_neg[:, 0], p_neg[:, 1], \"P\", label='negative class')\n",
        "plt.title(\"Data\", fontsize=24)\n",
        "plt.legend()"
<<<<<<< HEAD
      ]
    },
    {
      "cell_type": "markdown",
      "id": "O453DUSZyLNLZXldtUXdS",
=======
      ],
      "execution_count": 0,
      "outputs": []
    },
    {
      "cell_type": "markdown",
      "id": "kVpBdf8BuTymnJLV_N5Qi",
>>>>>>> main
      "metadata": {},
      "source": [
        "### Setting the model parameters manually\n",
        "In the following task you will manually change the model parameters of a linear decision boundary and visualize the results.\n",
<<<<<<< HEAD
        "<article class=\"message task\"><a class=\"anchor\" id=\"linear\"></a>\n",
        "    <div class=\"message-header\">\n",
        "        <span>Task 1: Linear decision boundary</span>\n",
        "        <span class=\"has-text-right\">\n",
        "          <i class=\"bi bi-code\"></i><i class=\"bi bi-stoplights easy\"></i>\n",
        "        </span>\n",
        "    </div>\n",
        "<div class=\"message-body\">\n",
        "\n",
        "\n",
=======
        "\n",
        "---\n",
        "**Task 1 (easy): Linear decision boundary👩‍💻**\n",
>>>>>>> main
        "1. Implement the function `linear_boundary`\n",
        ", which, given an $x_1$-coordinate and the model parameters $w$ = [$w_0$, $w_1$, $w_2$], returns the corresponding $x_2$-value according to:\n",
        "\n",
        "\n",
        "$$\n",
        "x_2 = -\\frac{w_0}{w_2} - \\frac{w_1}{w_2} x_1\n",
        "$$\n",
        "2. The array `x_values`\n",
        " below provides the $x_1$-values (x-coordinates) over which the boundary will be plotted. The model parameters $w_0$, $w_1$, and $w_2$ define the position and slope of the boundary. Use the `linear_boundary`\n",
        " function to generate points for the decision boundary by implementing the following steps:\n",
        "\n",
        "- Create an array `w`\n",
        " with the manually selected model parameters. \n",
        "- Pass the `x_values`\n",
        " and `w`\n",
        " to the `linear_boundary`\n",
        " function to calculate the corresponding $x_2$-values.\n",
        "\n",
        "3. Run the cell below to visualize the decision boundary. Which choice of model parameters $w_0$, $w_1$, and $w_2$ seems to visually best separate the two classes? Try 10 different sets of model parameters and identify which values provide the largest fraction of correct predictions.\n",
        "\n",
        "\n",
<<<<<<< HEAD
        "\n",
        "</div></article>\n",
        "\n"
=======
        "---"
>>>>>>> main
      ]
    },
    {
      "cell_type": "code",
<<<<<<< HEAD
      "execution_count": 12,
      "id": "5HRwTi43qd9HV5gf22878",
      "metadata": {},
      "outputs": [
        {
          "data": {
            "image/png": "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",
            "text/plain": [
              "<Figure size 640x480 with 1 Axes>"
            ]
          },
          "metadata": {},
          "output_type": "display_data"
        }
      ],
=======
      "id": "m5fj_KiwkyLKCkx5yS9Yq",
      "metadata": {},
>>>>>>> main
      "source": [
        "def linear_boundary(x, w):\n",
        "    \"\"\"\n",
        "    :param x: x values of the line.\n",
        "    :param w: List of model parameters [bias, slope] of the line.\n",
<<<<<<< HEAD
        "\n",
        "    :return: the x2 values which correspond to the y-values of the boundary / line .\n",
        "    \"\"\"\n",
        "    # Write solutions here\n",
        "    return -(w[0]/w[2])-(w[1]/w[2])*x\n",
        "\n",
        "# Defining x-values and weights\n",
        "x_values = np.linspace(-3, 3, 100)\n",
        "w = [0.4,1,1] # write your solution here\n",
=======
        "    \n",
        "    :return: the x2 values which correspond to the y-values of the boundary / line .\n",
        "    \"\"\"\n",
        "    # Write solutions here\n",
        "    ...\n",
        "\n",
        "# Defining x-values and weights\n",
        "x_values = np.linspace(-3, 3, 100)\n",
        "w = None # write your solution here\n",
>>>>>>> main
        "\n",
        "# Plotting the data points and decision boundary\n",
        "fig, ax = plt.subplots()\n",
        "ax.plot(p_pos[:, 0], p_pos[:, 1], \"o\", label='Positive class')\n",
        "ax.plot(p_neg[:, 0], p_neg[:, 1], \"P\", label='Negative class')\n",
        "ax.plot(x_values, linear_boundary(x_values, w))\n",
        "plt.title(\"2D Linear Decision Boundary\", fontsize=20)\n",
        "plt.legend()\n",
        "plt.show()"
<<<<<<< HEAD
      ]
    },
    {
      "cell_type": "markdown",
      "id": "rNWWBqAPs9_zXB_ermkcl",
      "metadata": {},
      "source": [
        "<article class=\"message task\"><a class=\"anchor\" id=\"predict22\"></a>\n",
        "    <div class=\"message-header\">\n",
        "        <span>Task 2: Prediction function - reflections</span>\n",
        "        <span class=\"has-text-right\">\n",
        "          <i class=\"bi bi-lightbulb-fill\"></i><i class=\"bi bi-stoplights easy\"></i>\n",
        "        </span>\n",
        "    </div>\n",
        "<div class=\"message-body\">\n",
        "\n",
        "\n",
=======
      ],
      "execution_count": 0,
      "outputs": []
    },
    {
      "cell_type": "markdown",
      "id": "hjeL3FU8QcEaG2rG3TiWX",
      "metadata": {},
      "source": [
        "\n",
        "---\n",
        "**Task 2 (easy): Prediction function - reflections💡**\n",
>>>>>>> main
        "1. Is a linear decision boundary a good model to separate the two groups of data? \n",
        "2. A correct prediction occurs when  $y_i \\cdot f_w(\\mathbf{x}_i)$  is positive, where  $y_i$  is the true label for the $i$-th data point and  $\\mathbf{x}_i$  is the input vector for the $i$-th data point. Why is this the case?\n",
        "\n",
        "\n",
<<<<<<< HEAD
        "\n",
        "</div></article>\n",
        "\n"
=======
        "---"
>>>>>>> main
      ]
    },
    {
      "cell_type": "code",
<<<<<<< HEAD
      "execution_count": 0,
      "id": "gUKVkK4docHuvhJNRSGhA",
      "metadata": {},
      "outputs": [],
      "source": [
        "# Write your reflections here\n",
        "'''\n",
        "    1. A linear decision boundary seems to be a good model to seperate the two groups as it seems to get most right.\n",
        "    It seems hard to find a function that would be better in this case\n",
        "    2. This is true because if yi is positive and fw(xi) is also positive then the result is postive. Similar if both\n",
        "    are negative then the output will be positive. If one is positive and the other is negative (different prediction\n",
        "    than the actual result) then the output is negative\n",
        "'''"
      ]
    },
    {
      "cell_type": "markdown",
      "id": "FMgl4BPAucMF_V_dFAqYL",
=======
      "id": "A3sSmX0qYXe1eM7dKZxQE",
      "metadata": {},
      "source": [
        "# Write your reflections here"
      ],
      "execution_count": 0,
      "outputs": []
    },
    {
      "cell_type": "markdown",
      "id": "MA4vHiSSeP5vFC_CLV4UI",
>>>>>>> main
      "metadata": {},
      "source": [
        "### Making and evaluating predictions\n",
        "The performance of the model can be evaluated by calculating the _accuracy_, which is defined as (percentage): \n",
        "$$ \\text{accuracy} = \\frac{\\text{Number of correct predictions}}{\\text{Total number of predictions}}$$\n",
        ".\n",
<<<<<<< HEAD
        "<article class=\"message task\"><a class=\"anchor\" id=\"predict\"></a>\n",
        "    <div class=\"message-header\">\n",
        "        <span>Task 3: Prediction function</span>\n",
        "        <span class=\"has-text-right\">\n",
        "          <i class=\"bi bi-code\"></i><i class=\"bi bi-stoplights easy\"></i>\n",
        "        </span>\n",
        "    </div>\n",
        "<div class=\"message-body\">\n",
        "\n",
        "\n",
=======
        "\n",
        "---\n",
        "**Task 3 (easy): Prediction function👩‍💻**\n",
>>>>>>> main
        "1. Implement the function `predict`\n",
        " that given the data and the model parameters `w`\n",
        " as input, predicts whether a data point belongs to the `neg`\n",
        " or `pos`\n",
        " class. Return 1 for points above the boundary (positive class) and -1 for points below the boundary (negative class). Manually select the model parameters to predict class labels for both the `p_neg`\n",
        " and `p_pos`\n",
        " variables by calculating the sign of the prediction function  $f_w(\\mathbf{x})=z = w_0 + w_1 \\cdot x_1 + w_2 \\cdot x_2$  for each data point. \n",
        "\n",
        "2. Implement and execute the `accuracy`\n",
        " function that returns the accuracy of the classifier over the entire training set by comparing the predicted classes to the actual classes.\n",
        "\n",
        "\n",
<<<<<<< HEAD
        "<article class=\"message is-warning\">\n",
        "  <div class=\"message-header\">Tip</div>\n",
        "  <div class=\"message-body\">\n",
        "\n",
        "  The denominator in the accuracy formula can be found by counting the number of times the prediction $f_w(\\mathbf{x_i}) = y_i$, or the amount of times $ y_i \\cdot f_w(\\mathbf{x_i}) > 0 $,  where  $y_i$ are the labels.\n",
        "\n",
        "\n",
        "  </div>\n",
        "</article>\n",
        "\n",
        "\n",
        "</div></article>\n",
        "\n"
=======
        "\n",
        "**Tip**\n",
        "The denominator in the accuracy formula can be found by counting the number of times the prediction $f_w(\\mathbf{x_i}) = y_i$, or the amount of times $ y_i \\cdot f_w(\\mathbf{x_i}) > 0 $,  where  $y_i$ are the labels.\n",
        "\n",
        "\n",
        "---"
>>>>>>> main
      ]
    },
    {
      "cell_type": "code",
<<<<<<< HEAD
      "execution_count": 24,
      "id": "005b51yaG8jY4EATRIDoq",
      "metadata": {},
      "outputs": [
        {
          "name": "stdout",
          "output_type": "stream",
          "text": [
            "Accuracy of decision line: 0.938\n"
          ]
        }
      ],
=======
      "id": "KK7Tmuwkk4FdiI-mjAY_u",
      "metadata": {},
>>>>>>> main
      "source": [
        "def predict(w, p):\n",
        "    \"\"\"\n",
        "    Predict class based on decision boundary (logistic regression).\n",
        "    :param w: Model parameters [w0, w1, w2].\n",
        "    :param p: Data points to classify (Nx2 array).\n",
<<<<<<< HEAD
        "\n",
        "    :return: Predicted class labels (-1 for neg, 1 for pos).\n",
        "    \"\"\"\n",
        "    # Write solutions here\n",
        "    return w[0] + w[1]*p[:,0] + w[2]*p[:,1]\n",
=======
        "    \n",
        "    :return: Predicted class labels (-1 for neg, 1 for pos).\n",
        "    \"\"\"\n",
        "    # Write solutions here\n",
>>>>>>> main
        "\n",
        "\n",
        "def accuracy(predictions,targets):\n",
        "    \"\"\"\n",
        "    :param predictions (1xn array): of predicted classes for the n data points.\n",
        "    :param targets (1xn array):  actual classes for the n data points.\n",
<<<<<<< HEAD
        "\n",
        "    :return (float): fraction of correctly predicted points (num_correct/num_points).\n",
        "    \"\"\"\n",
        "    # Write solutions here\n",
        "    correct = 0\n",
        "    for i in range(len(predictions)):\n",
        "        if predictions[i]*targets[i] > 0:\n",
        "            correct+=1\n",
        "\n",
        "    return (correct/len(predictions))\n",
        "\n",
        "pred_pos = predict(w, p_pos) # write your solution here\n",
        "pred_neg = predict(w, p_neg) # write your solution here\n",
        "\n",
        "acc_pos = accuracy(pred_pos, np.ones((len(p_pos), 1))) # write your solution here\n",
        "acc_neg = accuracy(pred_neg, np.negative(np.ones((len(p_pos), 1)))) # write your solution here\n",
        "\n",
        "print(f'Accuracy of decision line: {(acc_neg+acc_pos)/2:.3f}')"
      ]
    },
    {
      "cell_type": "markdown",
      "id": "PvF7rfX0AI-7aqS6FKsb1",
      "metadata": {},
      "source": [
        "<article class=\"message task\"><a class=\"anchor\" id=\"linear_optimization\"></a>\n",
        "    <div class=\"message-header\">\n",
        "        <span>Task 4: Learning the decision boundary</span>\n",
        "        <span class=\"has-text-right\">\n",
        "          <i class=\"bi bi-code\"></i><i class=\"bi bi-stoplights easy\"></i>\n",
        "        </span>\n",
        "    </div>\n",
        "<div class=\"message-body\">\n",
        "\n",
        "\n",
=======
        "     \n",
        "    :return (float): fraction of correctly predicted points (num_correct/num_points).\n",
        "    \"\"\"\n",
        "    # Write solutions here\n",
        "\n",
        "\n",
        "pred_pos = None # write your solution here\n",
        "pred_neg = None # write your solution here\n",
        "\n",
        "acc_pos = None # write your solution here\n",
        "acc_neg = None # write your solution here\n",
        "\n",
        "print(f'Accuracy of decision line: {(acc_neg+acc_pos)/2:.3f}')"
      ],
      "execution_count": 0,
      "outputs": []
    },
    {
      "cell_type": "markdown",
      "id": "XGFIGJGlCm6bA5gCgr0wV",
      "metadata": {},
      "source": [
        "\n",
        "---\n",
        "**Task 4 (easy): Learning the decision boundary👩‍💻**\n",
>>>>>>> main
        "1. Implement the `learn_affine_classifier`\n",
        " function which given arrays of positive and negative examples uses least squares to estimate the model parameters `w`\n",
        " to separate the two classes. In particular the function should:\n",
        "    - Construct the $N \\times 3$ design matrix containing the data points.\n",
        "    - Construct the vector `labels`\n",
        " consisting of the labels  (1 for positive class, -1 for negative class).\n",
        "    - Solve the linear set of equations.\n",
        "\n",
        "\n",
        "2. Run the cell below to plot the decision boundary. \n",
        "\n",
        "3. Evaluate the accuracy of the learned decision boundary: \n",
        "    - Use the `predict`\n",
        " function to predict class labels for the data points. \n",
        "    - Use the `accuracy`\n",
        " function to evaluate the found model.\n",
        "    - Compare the decision boundary and the accuracy measures to the one obtained in [Task 3](#predict). How do the values found manually compare to the one found automatically through least squares?\n",
        "\n",
        "\n",
        "\n",
        "\n",
<<<<<<< HEAD
        "\n",
        "</div></article>\n",
        "\n"
=======
        "---"
>>>>>>> main
      ]
    },
    {
      "cell_type": "code",
<<<<<<< HEAD
      "execution_count": 45,
      "id": "eFkplhhguooGGBTs4Pl0x",
      "metadata": {},
      "outputs": [
        {
          "name": "stdout",
          "output_type": "stream",
          "text": [
            "[[0.05190787]\n",
            " [0.38637445]\n",
            " [0.32086606]]\n"
          ]
        },
        {
          "name": "stderr",
          "output_type": "stream",
          "text": [
            "/var/folders/q2/y4726bh527bcznrqcvx4tlp40000gn/T/ipykernel_79368/2256588625.py:34: DeprecationWarning: Conversion of an array with ndim > 0 to a scalar is deprecated, and will error in future. Ensure you extract a single element from your array before performing this operation. (Deprecated NumPy 1.25.)\n",
            "  ax.plot(x_values, linear_boundary(x_values, w_learned), label='Learned boundary: y = %.2f + %.2f x' % (w_learned[0], w_learned[1]), color='green')\n"
          ]
        },
        {
          "data": {
            "image/png": "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",
            "text/plain": [
              "<Figure size 640x480 with 1 Axes>"
            ]
          },
          "metadata": {},
          "output_type": "display_data"
        },
        {
          "name": "stdout",
          "output_type": "stream",
          "text": [
            "Accuracy of learned boundary: 0.887\n"
          ]
        }
      ],
=======
      "id": "HWWLpMNYb_Qj2r65Bt1NC",
      "metadata": {},
>>>>>>> main
      "source": [
        "# 1\n",
        "def learn_affine_classifier(p_pos, p_neg):\n",
        "    \"\"\"\n",
        "    Fit the decision boundary using least squares regression.\n",
<<<<<<< HEAD
        "\n",
        "    :param p_pos: Data points of the positive class.\n",
        "    :param p_neg: Data points of the negative class.\n",
        "\n",
        "    :return: The learned parameters w (intercept and slope).\n",
        "    \"\"\"\n",
        "    # Combine the positive and negative points into a single dataset\n",
        "    data = np.concatenate((p_pos, p_neg), axis=0) # Write your solution here\n",
        "    # Create the labels: 1 for positive class, 0 for negative class\n",
        "    labels = np.concatenate((np.ones((len(p_pos), 1)), np.negative(np.ones((len(p_pos), 1)))), axis=0) # Write your solution here\n",
        "    # Add a bias column (column of 1s) to the data\n",
        "    X = np.concatenate((np.ones((len(data), 1)), data), axis=1) # Write your solution here\n",
        "    # Learn the model parameters\n",
        "    w_least_squares = np.linalg.lstsq(X,labels)[0] # Write your solution here\n",
=======
        "    \n",
        "    :param p_pos: Data points of the positive class.\n",
        "    :param p_neg: Data points of the negative class.\n",
        "    \n",
        "    :return: The learned parameters w (intercept and slope).\n",
        "    \"\"\"\n",
        "    # Combine the positive and negative points into a single dataset\n",
        "    data = None # Write your solution here\n",
        "    # Create the labels: 1 for positive class, 0 for negative class\n",
        "    labels = None # Write your solution here\n",
        "    # Add a bias column (column of 1s) to the data\n",
        "    X = None # Write your solution here\n",
        "    # Learn the model parameters\n",
        "    w_least_squares = None # Write your solution here\n",
>>>>>>> main
        "    # Return the model parameters\n",
        "    return w_least_squares\n",
        "\n",
        "# Find the decision boundary with least squares\n",
        "w_learned = learn_affine_classifier(p_pos, p_neg)\n",
<<<<<<< HEAD
        "print(w_learned)\n",
=======
>>>>>>> main
        "\n",
        "# 2\n",
        "# Define x-values for plotting the decision boundaries\n",
        "x_values = np.linspace(-3, 3, 100)\n",
        "\n",
        "# Plotting the learned decision boundary\n",
        "fig, ax = plt.subplots()\n",
        "ax.scatter(p_pos[:, 0], p_pos[:, 1], marker='o', label='Class 1')  # positive class\n",
        "ax.scatter(p_neg[:, 0], p_neg[:, 1], marker='x', label='Class 2')  # negative class\n",
        "ax.plot(x_values, linear_boundary(x_values, w_learned), label='Learned boundary: y = %.2f + %.2f x' % (w_learned[0], w_learned[1]), color='green')\n",
        "plt.title(\"Learned Decision Boundary\", fontsize=20)\n",
        "plt.legend()\n",
        "plt.show()\n",
        "\n",
        "# 3\n",
<<<<<<< HEAD
        "pred_pos = predict(w_learned, p_pos) # write your solution here\n",
        "pred_neg = predict(w_learned, p_neg) # write your solution here\n",
        "\n",
        "acc_pos = accuracy(pred_pos, np.ones((len(p_pos), 1))) # write your solution here\n",
        "acc_neg = accuracy(pred_neg, np.negative(np.ones((len(p_pos), 1)))) # write your solution here\n",
        "\n",
        "print(f'Accuracy of learned boundary: {(acc_neg + acc_pos) / 2:.3f}')\n",
        "\n",
        "'''\n",
        "    The accuracy of the learned boundary is worse than the one found manually. This is because the learned boundary\n",
        "    is the best fit of line, meaning that minimizes the distance to the points but it has more points that are just\n",
        "    on at the wrong side of the line.\n",
        "    Least squares takes all the points into account, meaning that it finds the true center of the mass, whereas i manually\n",
        "    tried to minimize the number of points that was wrong, and only really considered the points close to the line.\n",
        "    This means that even though the manually found points are more accurate in this case, it might be biased in terms of\n",
        "    the dataset, so that it will perform worse on new data.\n",
        "'''"
      ]
    },
    {
      "cell_type": "markdown",
      "id": "cFHkB6d56pv70oAf5g61l",
      "metadata": {},
      "source": []
    }
  ],
  "metadata": {
    "kernelspec": {
      "display_name": "iml",
      "language": "python",
      "name": "python3"
    },
    "language_info": {
      "codemirror_mode": {
        "name": "ipython",
        "version": 3
      },
      "file_extension": ".py",
      "mimetype": "text/x-python",
      "name": "python",
      "nbconvert_exporter": "python",
      "pygments_lexer": "ipython3",
      "version": "3.10.14"
    }
  },
  "nbformat": 4,
  "nbformat_minor": 5
}
=======
        "pred_pos = None # write your solution here\n",
        "pred_neg = None # write your solution here\n",
        "\n",
        "acc_pos = None # write your solution here\n",
        "acc_neg = None # write your solution here\n",
        "\n",
        "print(f'Accuracy of learned boundary: {(acc_neg + acc_pos) / 2:.3f}')"
      ],
      "execution_count": 0,
      "outputs": []
    },
    {
      "cell_type": "markdown",
      "id": "Soq0L2CQfW0d0JRCznLOa",
      "metadata": {},
      "source": [
        ""
      ]
    }
  ]
}
>>>>>>> main
